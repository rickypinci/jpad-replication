{
 "cells": [
  {
   "cell_type": "code",
   "execution_count": 1,
   "metadata": {},
   "outputs": [],
   "source": [
    "import pandas as pd\n",
    "import numpy as np\n",
    "import matplotlib.pyplot as plt\n",
    "\n",
    "import pylab\n",
    "import matplotlib.hatch\n",
    "from matplotlib.patches import Polygon"
   ]
  },
  {
   "cell_type": "code",
   "execution_count": 2,
   "metadata": {},
   "outputs": [],
   "source": [
    "# Add hatches needed for bar plots\n",
    "\n",
    "\n",
    "\n",
    "triangle = Polygon(\n",
    "    [[-0.3, -0.4], [0.3, -0.4], [0., 0.1]],\n",
    "    closed=True, fill=False).get_path()\n",
    "\n",
    "# Triangle hatch to use with the identifier 't'\n",
    "class TriangleHatch(matplotlib.hatch.Shapes):\n",
    "    filled = False\n",
    "    size = 1.0\n",
    "    path = triangle\n",
    "\n",
    "    def __init__(self, hatch, density):\n",
    "        self.num_rows = (hatch.count('t')) * density\n",
    "        self.shape_vertices = self.path.vertices\n",
    "        self.shape_codes = self.path.codes\n",
    "        matplotlib.hatch.Shapes.__init__(self, hatch, density)\n",
    "        \n",
    "        \n",
    "\n",
    "revTriangle = Polygon(\n",
    "    [[-0.3, 0.1], [0.3, 0.1], [0., -0.4]],\n",
    "    closed=True, fill=False).get_path()        \n",
    "        \n",
    "# Triangle hatch to use with the identifier 'v'\n",
    "class RevTriangleHatch(matplotlib.hatch.Shapes):\n",
    "    filled = False\n",
    "    size = 1.0\n",
    "    path = revTriangle\n",
    "\n",
    "    def __init__(self, hatch, density):\n",
    "        self.num_rows = (hatch.count('v')) * density\n",
    "        self.shape_vertices = self.path.vertices\n",
    "        self.shape_codes = self.path.codes\n",
    "        matplotlib.hatch.Shapes.__init__(self, hatch, density)\n",
    "        \n",
    "        \n",
    "        \n",
    "square = Polygon(\n",
    "    [[-0.3, -0.3], [0.3, -0.3], [0.3, 0.3], [-0.3, 0.3]],\n",
    "    closed=True, fill=False).get_path()\n",
    "\n",
    "# Square hatch to use with the identifier 's'\n",
    "class SquareHatch(matplotlib.hatch.Shapes):\n",
    "    filled = False\n",
    "    size = 1.0\n",
    "    path = square\n",
    "\n",
    "    def __init__(self, hatch, density):\n",
    "        self.num_rows = (hatch.count('s')) * density\n",
    "        self.shape_vertices = self.path.vertices\n",
    "        self.shape_codes = self.path.codes\n",
    "        matplotlib.hatch.Shapes.__init__(self, hatch, density)\n",
    "        \n",
    "        \n",
    "            \n",
    "diamond = Polygon(\n",
    "    [[0, 0], [0.2, 0.3], [0, 0.6], [-0.2, 0.3]],\n",
    "    closed=True, fill=False).get_path()\n",
    "\n",
    "# Diamond hatch to use with the identifier 'd'\n",
    "class DiamondHatch(matplotlib.hatch.Shapes):\n",
    "    filled = False\n",
    "    size = 1.0\n",
    "    path = diamond\n",
    "\n",
    "    def __init__(self, hatch, density):\n",
    "        self.num_rows = (hatch.count('d')) * density\n",
    "        self.shape_vertices = self.path.vertices\n",
    "        self.shape_codes = self.path.codes\n",
    "        matplotlib.hatch.Shapes.__init__(self, hatch, density)\n",
    "\n",
    "        \n",
    "              \n",
    "matplotlib.hatch._hatch_types.append(TriangleHatch)\n",
    "matplotlib.hatch._hatch_types.append(RevTriangleHatch)\n",
    "matplotlib.hatch._hatch_types.append(SquareHatch)\n",
    "matplotlib.hatch._hatch_types.append(DiamondHatch)"
   ]
  },
  {
   "cell_type": "code",
   "execution_count": null,
   "metadata": {},
   "outputs": [],
   "source": []
  },
  {
   "cell_type": "code",
   "execution_count": null,
   "metadata": {},
   "outputs": [],
   "source": []
  },
  {
   "cell_type": "code",
   "execution_count": null,
   "metadata": {},
   "outputs": [],
   "source": []
  },
  {
   "cell_type": "code",
   "execution_count": null,
   "metadata": {},
   "outputs": [],
   "source": []
  },
  {
   "cell_type": "markdown",
   "metadata": {},
   "source": [
    "# Load dataframes"
   ]
  },
  {
   "cell_type": "code",
   "execution_count": 3,
   "metadata": {},
   "outputs": [],
   "source": [
    "dfOrig = pd.read_csv('./original.csv')\n",
    "dfRef = pd.read_csv('./refactored.csv')"
   ]
  },
  {
   "cell_type": "code",
   "execution_count": 4,
   "metadata": {},
   "outputs": [],
   "source": [
    "# Global variables\n",
    "SAVE_FIG = False"
   ]
  },
  {
   "cell_type": "code",
   "execution_count": null,
   "metadata": {},
   "outputs": [],
   "source": []
  },
  {
   "cell_type": "code",
   "execution_count": null,
   "metadata": {},
   "outputs": [],
   "source": []
  },
  {
   "cell_type": "code",
   "execution_count": null,
   "metadata": {},
   "outputs": [],
   "source": []
  },
  {
   "cell_type": "code",
   "execution_count": null,
   "metadata": {},
   "outputs": [],
   "source": []
  },
  {
   "cell_type": "markdown",
   "metadata": {},
   "source": [
    "# Results from original systems"
   ]
  },
  {
   "cell_type": "code",
   "execution_count": 5,
   "metadata": {},
   "outputs": [],
   "source": [
    "# General parameters\n",
    "FOLDER_IMG = './images/'\n",
    "#CLASS_NAME = ['PetClinic', 'Broadleaf', 'WebGoat', 'ts-security-service', 'OpenMRS']\n",
    "#SYSTEMS = ['petclinic', 'broadleaf', 'webgoat', 'trainticket', 'openmrs']\n",
    "CLASS_NAME = ['WebGoat', 'ts-security-service', 'OpenMRS']\n",
    "SYSTEMS = ['webgoat', 'trainticket', 'openmrs']\n",
    "COLORS = ['#1f77b4', '#ff7f0e', '#2ca02c', '#d62728', '#9467bd']\n",
    "STYLES = ['-o', '-^', '-v', '-s', '-d']\n",
    "SIZES = [20, 20, 20, 20, 20]\n",
    "LEGENDSIZE = 30\n",
    "FONT_SIZE = 14"
   ]
  },
  {
   "cell_type": "markdown",
   "metadata": {},
   "source": [
    "# Time Analysis"
   ]
  },
  {
   "cell_type": "code",
   "execution_count": 6,
   "metadata": {},
   "outputs": [
    {
     "name": "stdout",
     "output_type": "stream",
     "text": [
      "### petclinic ###\n",
      "25-3 = 0.7 sec\n",
      "25-6 = 0.8 sec\n",
      "25-12 = 23.5 sec\n",
      "50-3 = 22.5 sec\n",
      "50-6 = 23.0 sec\n",
      "50-12 = 23.3 sec\n",
      "75-3 = 0.7 sec\n",
      "75-6 = 22.7 sec\n",
      "75-12 = 22.9 sec\n",
      "100-3 = 21.7 sec\n",
      "100-6 = 21.3 sec\n",
      "100-12 = 20.6 sec\n",
      "Average Time = 17.0 sec\n",
      "\n",
      "### webgoat ###\n",
      "25-3 = 29.8 sec\n",
      "25-6 = 30.6 sec\n",
      "25-12 = 29.9 sec\n",
      "50-3 = 33.6 sec\n",
      "50-6 = 37.4 sec\n",
      "50-12 = 34.3 sec\n",
      "75-3 = 30.1 sec\n",
      "75-6 = 34.4 sec\n",
      "75-12 = 33.7 sec\n",
      "100-3 = 32.6 sec\n",
      "100-6 = 30.6 sec\n",
      "100-12 = 30.2 sec\n",
      "Average Time = 32.3 sec\n",
      "\n",
      "Total Average Time = 24.6 sec\n"
     ]
    }
   ],
   "source": [
    "tot = 0\n",
    "counter = 0\n",
    "for s in ['petclinic', 'webgoat']:#SYSTEMS:\n",
    "    totSys = 0\n",
    "    print('### ' + s + ' ###')\n",
    "    for l in [25, 50, 75, 100]:\n",
    "        for d in [3, 6, 12]:\n",
    "            t = 0\n",
    "            dfTmp = dfOrig[(dfOrig['load']==l) & (dfOrig['duration']==d) & (dfOrig['system']==s)]\n",
    "            t += dfTmp[(dfTmp['type']=='CTH') & (dfTmp['countTh']==5) & (dfTmp['cpuTh']==10) & (dfTmp['option']=='average')]['time'].iloc[0]\n",
    "            t += dfTmp[(dfTmp['type']=='EP') & (dfTmp['methodTimeTh']==5)]['time'].iloc[0]\n",
    "            t += dfTmp[(dfTmp['type']=='WCS') & (dfTmp['memoryUsageTh']==5)]['time'].iloc[0]\n",
    "            t += dfTmp[(dfTmp['type']=='BLOB') & (dfTmp['numMsgs']==5) & (dfTmp['cpuTh']==10) & (dfTmp['heapTh']==10)]['time'].iloc[0]\n",
    "            t += dfTmp[(dfTmp['type']=='TOB') & (dfTmp['methodTimeTh']==5)]['time'].iloc[0]\n",
    "            t += dfTmp[(dfTmp['type']=='EDA') & (dfTmp['numGCedObjsTh']==5) & (dfTmp['heapTh']==10)]['time'].iloc[0]\n",
    "            t += dfTmp[(dfTmp['type']=='EST') & (dfTmp['numMsgs']==5)]['time'].iloc[0]\n",
    "            print(str(l) + '-' + str(d) + ' = {:.1f} sec'.format(t/1000))\n",
    "            totSys += t\n",
    "            tot += t\n",
    "            counter += 1\n",
    "    print('Average Time = {:.1f} sec'.format((totSys/12)/1000))\n",
    "    print()\n",
    "print('Total Average Time = {:.1f} sec'.format((tot/counter)/1000))"
   ]
  },
  {
   "cell_type": "code",
   "execution_count": null,
   "metadata": {},
   "outputs": [],
   "source": []
  },
  {
   "cell_type": "code",
   "execution_count": null,
   "metadata": {},
   "outputs": [],
   "source": []
  },
  {
   "cell_type": "code",
   "execution_count": null,
   "metadata": {},
   "outputs": [],
   "source": []
  },
  {
   "cell_type": "code",
   "execution_count": null,
   "metadata": {},
   "outputs": [],
   "source": []
  },
  {
   "cell_type": "markdown",
   "metadata": {},
   "source": [
    "## Legend for the paper"
   ]
  },
  {
   "cell_type": "code",
   "execution_count": 7,
   "metadata": {},
   "outputs": [
    {
     "data": {
      "image/png": "[encoded data removed]",
      "text/plain": [
       "<Figure size 432x288 with 1 Axes>"
      ]
     },
     "metadata": {
      "needs_background": "light"
     },
     "output_type": "display_data"
    },
    {
     "data": {
      "image/png": "[encoded data removed]",
      "text/plain": [
       "<Figure size 1533.6x57.6 with 1 Axes>"
      ]
     },
     "metadata": {
      "needs_background": "light"
     },
     "output_type": "display_data"
    }
   ],
   "source": [
    "# The figure plotted when this cell is executed is not important.\n",
    "# Please, look for the legend that is created at the specified path.\n",
    "\n",
    "numClasses = len(SYSTEMS)\n",
    "xList = range(10)\n",
    "\n",
    "fig = pylab.figure()\n",
    "figlegend = pylab.figure(figsize=(21.3,0.8))\n",
    "ax = fig.add_subplot(111)\n",
    "for idx in range(numClasses):\n",
    "    plt.plot(xList, [idx]*len(xList), STYLES[idx], lw=5, color=COLORS[idx], label=CLASS_NAME[idx], markersize=SIZES[idx])\n",
    "figlegend.legend(loc='center', ncol=numClasses, fontsize=LEGENDSIZE, facecolor='white', framealpha=1)\n",
    "#fig.show()\n",
    "if SAVE_FIG:\n",
    "    figlegend.savefig(FOLDER_IMG + 'legend.png')"
   ]
  },
  {
   "cell_type": "markdown",
   "metadata": {},
   "source": [
    "## CTH"
   ]
  },
  {
   "cell_type": "code",
   "execution_count": 8,
   "metadata": {},
   "outputs": [
    {
     "name": "stdout",
     "output_type": "stream",
     "text": [
      "### webgoat ###\n",
      "25-3 = 3\n",
      "25-6 = 3\n",
      "25-12 = 4\n",
      "50-3 = 4\n",
      "50-6 = 4\n",
      "50-12 = 4\n",
      "75-3 = 3\n",
      "75-6 = 4\n",
      "75-12 = 4\n",
      "100-3 = 4\n",
      "100-6 = 4\n",
      "100-12 = 4\n",
      "### trainticket ###\n",
      "25-3 = 1\n",
      "25-6 = 1\n",
      "25-12 = 1\n",
      "50-3 = 1\n",
      "50-6 = 1\n",
      "50-12 = 1\n",
      "75-3 = 1\n",
      "75-6 = 1\n",
      "75-12 = 1\n",
      "100-3 = 1\n",
      "100-6 = 1\n",
      "100-12 = 1\n",
      "### openmrs ###\n",
      "25-3 = 2\n",
      "25-6 = 0\n",
      "25-12 = 0\n",
      "50-3 = 0\n",
      "50-6 = 0\n",
      "50-12 = 0\n",
      "75-3 = 1\n",
      "75-6 = 1\n",
      "75-12 = 0\n",
      "100-3 = 0\n",
      "100-6 = 0\n",
      "100-12 = 0\n"
     ]
    }
   ],
   "source": [
    "AP = 'CTH'\n",
    "\n",
    "COUNT_TH = 5\n",
    "CPU_TH = 10\n",
    "OPTION = 'average'\n",
    "\n",
    "for SYSTEM in SYSTEMS:\n",
    "    print('### ' + SYSTEM + ' ###')\n",
    "    for LOAD in [25, 50, 75, 100]:\n",
    "        for DURATION in [3, 6, 12]:\n",
    "            dfTmp = dfOrig[(dfOrig['load']==LOAD) &\n",
    "                       (dfOrig['duration']==DURATION) &\n",
    "                       (dfOrig['type']==AP) &\n",
    "                       (dfOrig['system']==SYSTEM) &\n",
    "                       (dfOrig['countTh']==COUNT_TH) &\n",
    "                       (dfOrig['cpuTh']==CPU_TH) &\n",
    "                       (dfOrig['option']==OPTION)\n",
    "                      ]\n",
    "            print(str(LOAD) + '-' + str(DURATION) + ' = ' + str(dfTmp['foundAP'].iloc[0]))"
   ]
  },
  {
   "cell_type": "code",
   "execution_count": 9,
   "metadata": {},
   "outputs": [
    {
     "data": {
      "image/png": "[encoded data removed]",
      "text/plain": [
       "<Figure size 432x288 with 1 Axes>"
      ]
     },
     "metadata": {
      "needs_background": "light"
     },
     "output_type": "display_data"
    },
    {
     "name": "stdout",
     "output_type": "stream",
     "text": [
      "#countTh\twebgoat\ttrainticket\topenmrs\n",
      "5\t3\t1\t2\n",
      "10\t3\t1\t1\n",
      "15\t3\t1\t1\n",
      "20\t3\t1\t1\n",
      "25\t3\t1\t1\n",
      "30\t3\t1\t1\n",
      "35\t0\t1\t1\n",
      "40\t0\t1\t1\n",
      "45\t0\t1\t1\n",
      "50\t0\t1\t1\n",
      "55\t0\t1\t1\n",
      "60\t0\t1\t1\n",
      "65\t0\t1\t1\n",
      "70\t0\t1\t1\n",
      "75\t0\t1\t1\n",
      "80\t0\t1\t1\n",
      "85\t0\t1\t1\n",
      "90\t0\t1\t1\n",
      "95\t0\t1\t0\n"
     ]
    }
   ],
   "source": [
    "LOAD = 25\n",
    "DURATION = 3\n",
    "AP = 'CTH'\n",
    "\n",
    "# Fixed parameters\n",
    "CPU_TH = 10\n",
    "OPTION = 'average'\n",
    "\n",
    "dfTmp = dfOrig[(dfOrig['load']==LOAD) &\n",
    "           (dfOrig['duration']==DURATION) &\n",
    "           (dfOrig['type']==AP) &\n",
    "           (dfOrig['cpuTh'] == CPU_TH) &\n",
    "           (dfOrig['option'] == OPTION)\n",
    "          ]\n",
    "\n",
    "for sys, stl, col in zip(SYSTEMS, STYLES, COLORS):\n",
    "    plt.plot(dfTmp[dfTmp['system']==sys]['countTh'], dfTmp[dfTmp['system']==sys]['foundAP'], stl, color=col, label=sys)\n",
    "plt.xticks(range(0,100,10), size=FONT_SIZE)\n",
    "plt.yticks(range(0,max(dfTmp['foundAP'])+1), size=FONT_SIZE)\n",
    "plt.xlabel('Count Offset [%]', size=FONT_SIZE)\n",
    "# plt.title(str(LOAD) + ' - ' + str(DURATION) + ' | Th(CPU) = ' + str(CPU_TH) + ' | Option = ' + OPTION)\n",
    "# plt.legend()\n",
    "plt.tight_layout()\n",
    "if SAVE_FIG:\n",
    "    plt.savefig(FOLDER_IMG + str(AP) + '_' + str(LOAD) + '-' + str(DURATION) + '_cpu' + str(CPU_TH) + '_opt' + str(OPTION) + '.png')\n",
    "plt.show()\n",
    "\n",
    "\n",
    "\n",
    "X_AXIS = 'countTh'\n",
    "HEADER = '#' + X_AXIS + '\\t' + '\\t'.join(SYSTEMS)\n",
    "print(HEADER)\n",
    "for th in range(5,96,5):\n",
    "    string = str(th) + '\\t'\n",
    "    for sys in SYSTEMS:\n",
    "        string += str(dfTmp[(dfTmp['system']==sys) & (dfTmp[X_AXIS]==th)]['foundAP'].iloc[0])\n",
    "        if sys != SYSTEMS[-1]:\n",
    "            string += '\\t'\n",
    "    print(string)"
   ]
  },
  {
   "cell_type": "code",
   "execution_count": 10,
   "metadata": {},
   "outputs": [
    {
     "data": {
      "image/png": "[encoded data removed]",
      "text/plain": [
       "<Figure size 432x288 with 1 Axes>"
      ]
     },
     "metadata": {
      "needs_background": "light"
     },
     "output_type": "display_data"
    },
    {
     "name": "stdout",
     "output_type": "stream",
     "text": [
      "#cpuTh\twebgoat\ttrainticket\topenmrs\n",
      "5\t3\t1\t2\n",
      "10\t3\t1\t2\n",
      "15\t3\t1\t2\n",
      "20\t3\t1\t2\n",
      "25\t3\t1\t2\n",
      "30\t3\t1\t0\n",
      "35\t3\t1\t0\n",
      "40\t3\t1\t0\n",
      "45\t3\t1\t0\n",
      "50\t3\t0\t0\n",
      "55\t3\t0\t0\n",
      "60\t3\t0\t0\n",
      "65\t3\t0\t0\n",
      "70\t0\t0\t0\n",
      "75\t0\t0\t0\n",
      "80\t0\t0\t0\n",
      "85\t0\t0\t0\n",
      "90\t0\t0\t0\n",
      "95\t0\t0\t0\n"
     ]
    }
   ],
   "source": [
    "LOAD = 25\n",
    "DURATION = 3\n",
    "AP = 'CTH'\n",
    "\n",
    "# Fixed parameters\n",
    "COUNT_TH = 5\n",
    "OPTION = 'average'\n",
    "\n",
    "dfTmp = dfOrig[(dfOrig['load']==LOAD) &\n",
    "           (dfOrig['duration']==DURATION) &\n",
    "           (dfOrig['type']==AP) &\n",
    "           (dfOrig['countTh'] == COUNT_TH) &\n",
    "           (dfOrig['option'] == OPTION)\n",
    "          ]\n",
    "\n",
    "for sys, stl, col in zip(SYSTEMS, STYLES, COLORS):\n",
    "    plt.plot(dfTmp[dfTmp['system']==sys]['cpuTh'], dfTmp[dfTmp['system']==sys]['foundAP'], stl, color=col, label=sys)\n",
    "plt.xticks(range(0,100,10), size=FONT_SIZE)\n",
    "plt.yticks(range(0,max(dfTmp['foundAP'])+1), size=FONT_SIZE)\n",
    "plt.xlabel('CPU Threshold [%]', size=FONT_SIZE)\n",
    "# plt.title(str(LOAD) + ' - ' + str(DURATION) + ' | Th(Count) = ' + str(COUNT_TH) + ' | Option = ' + OPTION)\n",
    "# plt.legend()\n",
    "plt.tight_layout()\n",
    "if SAVE_FIG:\n",
    "    plt.savefig(FOLDER_IMG + str(AP) + '_' + str(LOAD) + '-' + str(DURATION) + '_count' + str(COUNT_TH) + '_opt' + str(OPTION) + '.png')\n",
    "plt.show()\n",
    "\n",
    "\n",
    "\n",
    "X_AXIS = 'cpuTh'\n",
    "HEADER = '#' + X_AXIS + '\\t' + '\\t'.join(SYSTEMS)\n",
    "print(HEADER)\n",
    "for th in range(5,96,5):\n",
    "    string = str(th) + '\\t'\n",
    "    for sys in SYSTEMS:\n",
    "        string += str(dfTmp[(dfTmp['system']==sys) & (dfTmp[X_AXIS]==th)]['foundAP'].iloc[0])\n",
    "        if sys != SYSTEMS[-1]:\n",
    "            string += '\\t'\n",
    "    print(string)"
   ]
  },
  {
   "cell_type": "code",
   "execution_count": 11,
   "metadata": {},
   "outputs": [
    {
     "data": {
      "image/png": "[encoded data removed]",
      "text/plain": [
       "<Figure size 432x288 with 1 Axes>"
      ]
     },
     "metadata": {
      "needs_background": "light"
     },
     "output_type": "display_data"
    },
    {
     "name": "stdout",
     "output_type": "stream",
     "text": [
      "#option\twebgoat\ttrainticket\topenmrs\n",
      "min\t2\t1\t2\n",
      "max\t3\t1\t2\n",
      "average\t3\t1\t2\n"
     ]
    }
   ],
   "source": [
    "WIDTH = 0.1\n",
    "\n",
    "LOAD = 25\n",
    "DURATION = 3\n",
    "AP = 'CTH'\n",
    "\n",
    "# Fixed parameters\n",
    "COUNT_TH = 5\n",
    "CPU_TH = 10\n",
    "\n",
    "dfTmp = dfOrig[(dfOrig['load']==LOAD) &\n",
    "           (dfOrig['duration']==DURATION) &\n",
    "           (dfOrig['type']==AP) &\n",
    "           (dfOrig['countTh'] == COUNT_TH) &\n",
    "           (dfOrig['cpuTh'] == CPU_TH)\n",
    "          ]\n",
    "\n",
    "for sys, stl, col, pos, shade in zip(SYSTEMS, STYLES, COLORS, [-2.5*WIDTH, -1.5*WIDTH, -0.5*WIDTH, 0.5*WIDTH, 1.5*WIDTH], ['O', 't', 'v', 's', 'd']):\n",
    "    plt.bar([x+pos for x in [0,1,2]], dfTmp[dfTmp['system']==sys]['foundAP'], width=WIDTH, align='edge', color=col, hatch=shade, label=sys)\n",
    "plt.xticks([0,1,2], dfTmp['option'].unique(), size=FONT_SIZE)\n",
    "plt.yticks(range(0,max(dfTmp['foundAP'])+1), size=FONT_SIZE)\n",
    "plt.xlabel('Option', size=FONT_SIZE)\n",
    "# plt.title(str(LOAD) + ' - ' + str(DURATION) + ' | Th(Count) = ' + str(COUNT_TH) + ' | Th(CPU) = ' + str(CPU_TH))\n",
    "# plt.legend()\n",
    "plt.tight_layout()\n",
    "if SAVE_FIG:\n",
    "    plt.savefig(FOLDER_IMG + str(AP) + '_' + str(LOAD) + '-' + str(DURATION) + '_cpu' + str(CPU_TH) + '_count' + str(COUNT_TH) + '.png')\n",
    "plt.show()\n",
    "\n",
    "\n",
    "\n",
    "X_AXIS = 'option'\n",
    "HEADER = '#' + X_AXIS + '\\t' + '\\t'.join(SYSTEMS)\n",
    "print(HEADER)\n",
    "for th in ['min', 'max', 'average']:\n",
    "    string = str(th) + '\\t'\n",
    "    for sys in SYSTEMS:\n",
    "        string += str(dfTmp[(dfTmp['system']==sys) & (dfTmp[X_AXIS]==th)]['foundAP'].iloc[0])\n",
    "        if sys != SYSTEMS[-1]:\n",
    "            string += '\\t'\n",
    "    print(string)"
   ]
  },
  {
   "cell_type": "markdown",
   "metadata": {},
   "source": [
    "## EP"
   ]
  },
  {
   "cell_type": "code",
   "execution_count": 12,
   "metadata": {},
   "outputs": [
    {
     "name": "stdout",
     "output_type": "stream",
     "text": [
      "### webgoat ###\n",
      "25-3 = 6\n",
      "25-6 = 6\n",
      "25-12 = 7\n",
      "50-3 = 7\n",
      "50-6 = 7\n",
      "50-12 = 7\n",
      "75-3 = 6\n",
      "75-6 = 7\n",
      "75-12 = 7\n",
      "100-3 = 7\n",
      "100-6 = 7\n",
      "100-12 = 7\n",
      "### trainticket ###\n",
      "25-3 = 6\n",
      "25-6 = 4\n",
      "25-12 = 5\n",
      "50-3 = 4\n",
      "50-6 = 4\n",
      "50-12 = 5\n",
      "75-3 = 6\n",
      "75-6 = 5\n",
      "75-12 = 5\n",
      "100-3 = 5\n",
      "100-6 = 5\n",
      "100-12 = 5\n",
      "### openmrs ###\n",
      "25-3 = 3\n",
      "25-6 = 0\n",
      "25-12 = 0\n",
      "50-3 = 1\n",
      "50-6 = 1\n",
      "50-12 = 1\n",
      "75-3 = 2\n",
      "75-6 = 2\n",
      "75-12 = 1\n",
      "100-3 = 2\n",
      "100-6 = 1\n",
      "100-12 = 1\n"
     ]
    }
   ],
   "source": [
    "AP = 'EP'\n",
    "\n",
    "TIME_TH = 5\n",
    "\n",
    "for SYSTEM in SYSTEMS:\n",
    "    print('### ' + SYSTEM + ' ###')\n",
    "    for LOAD in [25, 50, 75, 100]:\n",
    "        for DURATION in [3, 6, 12]:\n",
    "            dfTmp = dfOrig[(dfOrig['load']==LOAD) &\n",
    "                       (dfOrig['duration']==DURATION) &\n",
    "                       (dfOrig['type']==AP) &\n",
    "                       (dfOrig['system']==SYSTEM) &\n",
    "                       (dfOrig['methodTimeTh']==TIME_TH)\n",
    "                      ]\n",
    "            print(str(LOAD) + '-' + str(DURATION) + ' = ' + str(dfTmp['foundAP'].iloc[0]))"
   ]
  },
  {
   "cell_type": "code",
   "execution_count": 13,
   "metadata": {},
   "outputs": [
    {
     "data": {
      "image/png": "[encoded data removed]",
      "text/plain": [
       "<Figure size 432x288 with 1 Axes>"
      ]
     },
     "metadata": {
      "needs_background": "light"
     },
     "output_type": "display_data"
    },
    {
     "name": "stdout",
     "output_type": "stream",
     "text": [
      "#methodTimeTh\twebgoat\ttrainticket\topenmrs\n",
      "5\t6\t6\t3\n",
      "10\t6\t3\t2\n",
      "15\t6\t1\t0\n",
      "20\t3\t1\t0\n",
      "25\t3\t1\t0\n",
      "30\t0\t1\t0\n",
      "35\t0\t0\t0\n",
      "40\t0\t0\t0\n",
      "45\t0\t0\t0\n",
      "50\t0\t0\t0\n",
      "55\t0\t0\t0\n",
      "60\t0\t0\t0\n",
      "65\t0\t0\t0\n",
      "70\t0\t0\t0\n",
      "75\t0\t0\t0\n",
      "80\t0\t0\t0\n",
      "85\t0\t0\t0\n",
      "90\t0\t0\t0\n",
      "95\t0\t0\t0\n"
     ]
    },
    {
     "data": {
      "image/png": "[encoded data removed]",
      "text/plain": [
       "<Figure size 432x288 with 1 Axes>"
      ]
     },
     "metadata": {
      "needs_background": "light"
     },
     "output_type": "display_data"
    },
    {
     "name": "stdout",
     "output_type": "stream",
     "text": [
      "#methodTimeTh\twebgoat\ttrainticket\topenmrs\n",
      "5\t7\t5\t1\n",
      "10\t5\t3\t1\n",
      "15\t4\t1\t1\n",
      "20\t0\t1\t0\n",
      "25\t0\t1\t0\n",
      "30\t0\t0\t0\n",
      "35\t0\t0\t0\n",
      "40\t0\t0\t0\n",
      "45\t0\t0\t0\n",
      "50\t0\t0\t0\n",
      "55\t0\t0\t0\n",
      "60\t0\t0\t0\n",
      "65\t0\t0\t0\n",
      "70\t0\t0\t0\n",
      "75\t0\t0\t0\n",
      "80\t0\t0\t0\n",
      "85\t0\t0\t0\n",
      "90\t0\t0\t0\n",
      "95\t0\t0\t0\n"
     ]
    }
   ],
   "source": [
    "LOADS = [25, 100]\n",
    "DURATIONS = [3, 12]\n",
    "AP = 'EP'\n",
    "\n",
    "for LOAD, DURATION in zip(LOADS, DURATIONS):\n",
    "    dfTmp = dfOrig[(dfOrig['load']==LOAD) &\n",
    "               (dfOrig['duration']==DURATION) &\n",
    "               (dfOrig['type']==AP)\n",
    "              ]\n",
    "\n",
    "    for sys, stl, col in zip(SYSTEMS, STYLES, COLORS):\n",
    "        plt.plot(dfTmp[dfTmp['system']==sys]['methodTimeTh'], dfTmp[dfTmp['system']==sys]['foundAP'], stl, color=col, label=sys)\n",
    "    plt.xticks(range(0,100,10), size=FONT_SIZE)\n",
    "    plt.yticks(range(0,max(dfTmp['foundAP'])+1), size=FONT_SIZE)\n",
    "    plt.xlabel('Execution Time Offset [%]', size=FONT_SIZE)\n",
    "    # plt.title(str(LOAD) + ' - ' + str(DURATION))\n",
    "    # plt.legend()\n",
    "    plt.tight_layout()\n",
    "    if SAVE_FIG:\n",
    "        plt.savefig(FOLDER_IMG + str(AP) + '_' + str(LOAD) + '-' + str(DURATION) + '.png')\n",
    "    plt.show()\n",
    "    \n",
    "    \n",
    "    \n",
    "    X_AXIS = 'methodTimeTh'\n",
    "    HEADER = '#' + X_AXIS + '\\t' + '\\t'.join(SYSTEMS)\n",
    "    print(HEADER)\n",
    "    for th in range(5,96,5):\n",
    "        string = str(th) + '\\t'\n",
    "        for sys in SYSTEMS:\n",
    "            string += str(dfTmp[(dfTmp['system']==sys) & (dfTmp[X_AXIS]==th)]['foundAP'].iloc[0])\n",
    "            if sys != SYSTEMS[-1]:\n",
    "                string += '\\t'\n",
    "        print(string)"
   ]
  },
  {
   "cell_type": "markdown",
   "metadata": {},
   "source": [
    "## WCS"
   ]
  },
  {
   "cell_type": "code",
   "execution_count": 14,
   "metadata": {},
   "outputs": [
    {
     "name": "stdout",
     "output_type": "stream",
     "text": [
      "### webgoat ###\n",
      "25-3 = 0\n",
      "25-6 = 0\n",
      "25-12 = 0\n",
      "50-3 = 2\n",
      "50-6 = 1\n",
      "50-12 = 2\n",
      "75-3 = 1\n",
      "75-6 = 2\n",
      "75-12 = 2\n",
      "100-3 = 2\n",
      "100-6 = 2\n",
      "100-12 = 2\n",
      "### trainticket ###\n",
      "25-3 = 1\n",
      "25-6 = 2\n",
      "25-12 = 2\n",
      "50-3 = 0\n",
      "50-6 = 0\n",
      "50-12 = 1\n",
      "75-3 = 1\n",
      "75-6 = 1\n",
      "75-12 = 1\n",
      "100-3 = 0\n",
      "100-6 = 0\n",
      "100-12 = 0\n",
      "### openmrs ###\n",
      "25-3 = 2\n",
      "25-6 = 0\n",
      "25-12 = 1\n",
      "50-3 = 0\n",
      "50-6 = 0\n",
      "50-12 = 0\n",
      "75-3 = 1\n",
      "75-6 = 1\n",
      "75-12 = 0\n",
      "100-3 = 0\n",
      "100-6 = 0\n",
      "100-12 = 0\n"
     ]
    }
   ],
   "source": [
    "AP = 'WCS'\n",
    "\n",
    "MEM_TH = 5\n",
    "\n",
    "for SYSTEM in SYSTEMS:\n",
    "    print('### ' + SYSTEM + ' ###')\n",
    "    for LOAD in [25, 50, 75, 100]:\n",
    "        for DURATION in [3, 6, 12]:\n",
    "            dfTmp = dfOrig[(dfOrig['load']==LOAD) &\n",
    "                       (dfOrig['duration']==DURATION) &\n",
    "                       (dfOrig['type']==AP) &\n",
    "                       (dfOrig['system']==SYSTEM) &\n",
    "                       (dfOrig['memoryUsageTh']==MEM_TH)\n",
    "                      ]\n",
    "            print(str(LOAD) + '-' + str(DURATION) + ' = ' + str(dfTmp['foundAP'].iloc[0]))"
   ]
  },
  {
   "cell_type": "code",
   "execution_count": 15,
   "metadata": {
    "scrolled": false
   },
   "outputs": [
    {
     "data": {
      "image/png": "[encoded data removed]",
      "text/plain": [
       "<Figure size 432x288 with 1 Axes>"
      ]
     },
     "metadata": {
      "needs_background": "light"
     },
     "output_type": "display_data"
    },
    {
     "name": "stdout",
     "output_type": "stream",
     "text": [
      "#memoryUsageTh\twebgoat\ttrainticket\topenmrs\n",
      "5\t0\t1\t2\n",
      "10\t0\t1\t2\n",
      "15\t0\t0\t2\n",
      "20\t0\t0\t2\n",
      "25\t0\t0\t2\n",
      "30\t0\t0\t0\n",
      "35\t0\t0\t0\n",
      "40\t0\t0\t0\n",
      "45\t0\t0\t0\n",
      "50\t0\t0\t0\n",
      "55\t0\t0\t0\n",
      "60\t0\t0\t0\n",
      "65\t0\t0\t0\n",
      "70\t0\t0\t0\n",
      "75\t0\t0\t0\n",
      "80\t0\t0\t0\n",
      "85\t0\t0\t0\n",
      "90\t0\t0\t0\n",
      "95\t0\t0\t0\n"
     ]
    },
    {
     "data": {
      "image/png": "[encoded data removed]",
      "text/plain": [
       "<Figure size 432x288 with 1 Axes>"
      ]
     },
     "metadata": {
      "needs_background": "light"
     },
     "output_type": "display_data"
    },
    {
     "name": "stdout",
     "output_type": "stream",
     "text": [
      "#memoryUsageTh\twebgoat\ttrainticket\topenmrs\n",
      "5\t2\t1\t1\n",
      "10\t2\t0\t1\n",
      "15\t2\t0\t1\n",
      "20\t0\t0\t1\n",
      "25\t0\t0\t1\n",
      "30\t0\t0\t1\n",
      "35\t0\t0\t0\n",
      "40\t0\t0\t0\n",
      "45\t0\t0\t0\n",
      "50\t0\t0\t0\n",
      "55\t0\t0\t0\n",
      "60\t0\t0\t0\n",
      "65\t0\t0\t0\n",
      "70\t0\t0\t0\n",
      "75\t0\t0\t0\n",
      "80\t0\t0\t0\n",
      "85\t0\t0\t0\n",
      "90\t0\t0\t0\n",
      "95\t0\t0\t0\n"
     ]
    }
   ],
   "source": [
    "LOADS = [25, 75]\n",
    "DURATIONS = [3, 6]\n",
    "AP = 'WCS'\n",
    "\n",
    "for LOAD, DURATION in zip(LOADS, DURATIONS):\n",
    "    dfTmp = dfOrig[(dfOrig['load']==LOAD) &\n",
    "               (dfOrig['duration']==DURATION) &\n",
    "               (dfOrig['type']==AP)\n",
    "              ]\n",
    "\n",
    "    for sys, stl, col in zip(SYSTEMS, STYLES, COLORS):\n",
    "        plt.plot(dfTmp[dfTmp['system']==sys]['memoryUsageTh'], dfTmp[dfTmp['system']==sys]['foundAP'], stl, color=col, label=sys)\n",
    "    plt.xticks(range(0,100,10), size=FONT_SIZE)\n",
    "    plt.yticks(range(0,max(dfTmp['foundAP'])+1), size=FONT_SIZE)\n",
    "    plt.xlabel('Memory Usage Offset [%]', size=FONT_SIZE)\n",
    "    # plt.title(str(LOAD) + ' - ' + str(DURATION))\n",
    "    # plt.legend()\n",
    "    plt.tight_layout()\n",
    "    if SAVE_FIG:\n",
    "        plt.savefig(FOLDER_IMG + str(AP) + '_' + str(LOAD) + '-' + str(DURATION) + '.png')\n",
    "    plt.show()\n",
    "    \n",
    "    \n",
    "    \n",
    "    X_AXIS = 'memoryUsageTh'\n",
    "    HEADER = '#' + X_AXIS + '\\t' + '\\t'.join(SYSTEMS)\n",
    "    print(HEADER)\n",
    "    for th in range(5,96,5):\n",
    "        string = str(th) + '\\t'\n",
    "        for sys in SYSTEMS:\n",
    "            string += str(dfTmp[(dfTmp['system']==sys) & (dfTmp[X_AXIS]==th)]['foundAP'].iloc[0])\n",
    "            if sys != SYSTEMS[-1]:\n",
    "                string += '\\t'\n",
    "        print(string)"
   ]
  },
  {
   "cell_type": "markdown",
   "metadata": {},
   "source": [
    "## BLOB"
   ]
  },
  {
   "cell_type": "code",
   "execution_count": 16,
   "metadata": {},
   "outputs": [
    {
     "name": "stdout",
     "output_type": "stream",
     "text": [
      "### webgoat ###\n",
      "25-3 = 5\n",
      "25-6 = 5\n",
      "25-12 = 6\n",
      "50-3 = 5\n",
      "50-6 = 5\n",
      "50-12 = 5\n",
      "75-3 = 5\n",
      "75-6 = 5\n",
      "75-12 = 5\n",
      "100-3 = 5\n",
      "100-6 = 5\n",
      "100-12 = 5\n",
      "### trainticket ###\n",
      "25-3 = 1\n",
      "25-6 = 1\n",
      "25-12 = 1\n",
      "50-3 = 1\n",
      "50-6 = 1\n",
      "50-12 = 1\n",
      "75-3 = 1\n",
      "75-6 = 1\n",
      "75-12 = 1\n",
      "100-3 = 1\n",
      "100-6 = 1\n",
      "100-12 = 1\n",
      "### openmrs ###\n",
      "25-3 = 2\n",
      "25-6 = 1\n",
      "25-12 = 1\n",
      "50-3 = 1\n",
      "50-6 = 1\n",
      "50-12 = 1\n",
      "75-3 = 3\n",
      "75-6 = 3\n",
      "75-12 = 1\n",
      "100-3 = 3\n",
      "100-6 = 1\n",
      "100-12 = 1\n"
     ]
    }
   ],
   "source": [
    "AP = 'BLOB'\n",
    "\n",
    "MSG_TH = 5\n",
    "CPU_TH = 10\n",
    "HEAP_TH = 10\n",
    "\n",
    "for SYSTEM in SYSTEMS:\n",
    "    print('### ' + SYSTEM + ' ###')\n",
    "    for LOAD in [25, 50, 75, 100]:\n",
    "        for DURATION in [3, 6, 12]:\n",
    "            dfTmp = dfOrig[(dfOrig['load']==LOAD) &\n",
    "                       (dfOrig['duration']==DURATION) &\n",
    "                       (dfOrig['type']==AP) &\n",
    "                       (dfOrig['system']==SYSTEM) &\n",
    "                       (dfOrig['numMsgs']==MSG_TH) &\n",
    "                       (dfOrig['cpuTh']==CPU_TH) &\n",
    "                       (dfOrig['heapTh']==HEAP_TH)\n",
    "                      ]\n",
    "            print(str(LOAD) + '-' + str(DURATION) + ' = ' + str(dfTmp['foundAP'].iloc[0]))"
   ]
  },
  {
   "cell_type": "code",
   "execution_count": 17,
   "metadata": {},
   "outputs": [
    {
     "data": {
      "image/png": "[encoded data removed]",
      "text/plain": [
       "<Figure size 432x288 with 1 Axes>"
      ]
     },
     "metadata": {
      "needs_background": "light"
     },
     "output_type": "display_data"
    },
    {
     "name": "stdout",
     "output_type": "stream",
     "text": [
      "#cpuTh\twebgoat\ttrainticket\topenmrs\n",
      "5\t5\t1\t2\n",
      "10\t5\t1\t2\n",
      "15\t5\t1\t2\n",
      "20\t5\t1\t2\n",
      "25\t5\t1\t2\n",
      "30\t5\t1\t2\n",
      "35\t5\t1\t2\n",
      "40\t5\t1\t2\n",
      "45\t5\t1\t2\n",
      "50\t5\t0\t2\n",
      "55\t5\t0\t2\n",
      "60\t5\t0\t2\n",
      "65\t5\t0\t2\n",
      "70\t5\t0\t2\n",
      "75\t5\t0\t2\n",
      "80\t5\t0\t2\n",
      "85\t5\t0\t2\n",
      "90\t5\t0\t2\n",
      "95\t5\t0\t2\n"
     ]
    }
   ],
   "source": [
    "LOAD = 25\n",
    "DURATION = 3\n",
    "AP = 'BLOB'\n",
    "\n",
    "# Fixed parameters\n",
    "HEAP_TH = 10\n",
    "MSG_TH = 5\n",
    "\n",
    "dfTmp = dfOrig[(dfOrig['load']==LOAD) &\n",
    "           (dfOrig['duration']==DURATION) &\n",
    "           (dfOrig['type']==AP) &\n",
    "           (dfOrig['heapTh'] == HEAP_TH) &\n",
    "           (dfOrig['numMsgs'] == MSG_TH)\n",
    "          ]\n",
    "\n",
    "for sys, stl, col in zip(SYSTEMS, STYLES, COLORS):\n",
    "    plt.plot(dfTmp[dfTmp['system']==sys]['cpuTh'], dfTmp[dfTmp['system']==sys]['foundAP'], stl, color=col, label=sys)\n",
    "plt.xticks(range(0,100,10), size=FONT_SIZE)\n",
    "plt.yticks(range(0,max(dfTmp['foundAP'])+1), size=FONT_SIZE)\n",
    "plt.xlabel('CPU Threshold [%]', size=FONT_SIZE)\n",
    "# plt.title(str(LOAD) + ' - ' + str(DURATION) + ' | Th(Heap) = ' + str(HEAP_TH) + ' | Th(Msgs) = ' + str(MSG_TH))\n",
    "# plt.legend()\n",
    "plt.tight_layout()\n",
    "if SAVE_FIG:\n",
    "    plt.savefig(FOLDER_IMG + str(AP) + '_' + str(LOAD) + '-' + str(DURATION) + '_heap' + str(HEAP_TH) + '_msg' + str(MSG_TH) + '.png')\n",
    "plt.show()\n",
    "\n",
    "\n",
    "\n",
    "X_AXIS = 'cpuTh'\n",
    "HEADER = '#' + X_AXIS + '\\t' + '\\t'.join(SYSTEMS)\n",
    "print(HEADER)\n",
    "for th in range(5,96,5):\n",
    "    string = str(th) + '\\t'\n",
    "    for sys in SYSTEMS:\n",
    "        string += str(dfTmp[(dfTmp['system']==sys) & (dfTmp[X_AXIS]==th)]['foundAP'].iloc[0])\n",
    "        if sys != SYSTEMS[-1]:\n",
    "            string += '\\t'\n",
    "    print(string)"
   ]
  },
  {
   "cell_type": "code",
   "execution_count": 18,
   "metadata": {},
   "outputs": [
    {
     "data": {
      "image/png": "[encoded data removed]",
      "text/plain": [
       "<Figure size 432x288 with 1 Axes>"
      ]
     },
     "metadata": {
      "needs_background": "light"
     },
     "output_type": "display_data"
    },
    {
     "name": "stdout",
     "output_type": "stream",
     "text": [
      "#heapTh\twebgoat\ttrainticket\topenmrs\n",
      "5\t5\t1\t2\n",
      "10\t5\t1\t2\n",
      "15\t5\t1\t2\n",
      "20\t5\t1\t2\n",
      "25\t5\t1\t2\n",
      "30\t5\t1\t2\n",
      "35\t5\t1\t2\n",
      "40\t5\t1\t2\n",
      "45\t5\t1\t2\n",
      "50\t5\t1\t0\n",
      "55\t5\t1\t0\n",
      "60\t5\t1\t0\n",
      "65\t5\t1\t0\n",
      "70\t5\t1\t0\n",
      "75\t5\t1\t0\n",
      "80\t5\t1\t0\n",
      "85\t5\t1\t0\n",
      "90\t5\t1\t0\n",
      "95\t5\t1\t0\n"
     ]
    }
   ],
   "source": [
    "LOAD = 25\n",
    "DURATION = 3\n",
    "AP = 'BLOB'\n",
    "\n",
    "# Fixed parameters\n",
    "CPU_TH = 10\n",
    "MSG_TH = 5\n",
    "\n",
    "dfTmp = dfOrig[(dfOrig['load']==LOAD) &\n",
    "           (dfOrig['duration']==DURATION) &\n",
    "           (dfOrig['type']==AP) &\n",
    "           (dfOrig['cpuTh'] == CPU_TH) &\n",
    "           (dfOrig['numMsgs'] == MSG_TH)\n",
    "          ]\n",
    "\n",
    "for sys, stl, col in zip(SYSTEMS, STYLES, COLORS):\n",
    "    plt.plot(dfTmp[dfTmp['system']==sys]['heapTh'], dfTmp[dfTmp['system']==sys]['foundAP'], stl, color=col, label=sys)\n",
    "plt.xticks(range(0,100,10), size=FONT_SIZE)\n",
    "plt.yticks(range(0,max(dfTmp['foundAP'])+1), size=FONT_SIZE)\n",
    "plt.xlabel('Memory Threshold [%]', size=FONT_SIZE)\n",
    "# plt.title(str(LOAD) + ' - ' + str(DURATION) + ' | Th(CPU) = ' + str(CPU_TH) + ' | Th(Msgs) = ' + str(MSG_TH))\n",
    "# plt.legend()\n",
    "plt.tight_layout()\n",
    "if SAVE_FIG:\n",
    "    plt.savefig(FOLDER_IMG + str(AP) + '_' + str(LOAD) + '-' + str(DURATION) + '_cpu' + str(CPU_TH) + '_msg' + str(MSG_TH) + '.png')\n",
    "plt.show()\n",
    "\n",
    "\n",
    "\n",
    "X_AXIS = 'heapTh'\n",
    "HEADER = '#' + X_AXIS + '\\t' + '\\t'.join(SYSTEMS)\n",
    "print(HEADER)\n",
    "for th in range(5,96,5):\n",
    "    string = str(th) + '\\t'\n",
    "    for sys in SYSTEMS:\n",
    "        string += str(dfTmp[(dfTmp['system']==sys) & (dfTmp[X_AXIS]==th)]['foundAP'].iloc[0])\n",
    "        if sys != SYSTEMS[-1]:\n",
    "            string += '\\t'\n",
    "    print(string)"
   ]
  },
  {
   "cell_type": "code",
   "execution_count": 19,
   "metadata": {},
   "outputs": [
    {
     "data": {
      "image/png": "[encoded data removed]",
      "text/plain": [
       "<Figure size 432x288 with 1 Axes>"
      ]
     },
     "metadata": {
      "needs_background": "light"
     },
     "output_type": "display_data"
    },
    {
     "name": "stdout",
     "output_type": "stream",
     "text": [
      "#numMsgs\twebgoat\ttrainticket\topenmrs\n",
      "5\t5\t1\t2\n",
      "10\t5\t1\t2\n",
      "15\t5\t1\t2\n",
      "20\t5\t1\t2\n",
      "25\t5\t1\t2\n",
      "30\t5\t1\t2\n",
      "35\t4\t1\t2\n",
      "40\t3\t1\t2\n",
      "45\t2\t1\t2\n",
      "50\t1\t1\t2\n",
      "55\t1\t1\t2\n",
      "60\t1\t1\t2\n",
      "65\t1\t1\t2\n",
      "70\t1\t1\t2\n",
      "75\t1\t1\t2\n",
      "80\t1\t1\t2\n",
      "85\t1\t1\t2\n",
      "90\t1\t1\t2\n",
      "95\t1\t1\t2\n"
     ]
    }
   ],
   "source": [
    "LOAD = 25\n",
    "DURATION = 3\n",
    "AP = 'BLOB'\n",
    "\n",
    "# Fixed parameters\n",
    "CPU_TH = 10\n",
    "HEAP_TH = 10\n",
    "\n",
    "dfTmp = dfOrig[(dfOrig['load']==LOAD) &\n",
    "           (dfOrig['duration']==DURATION) &\n",
    "           (dfOrig['type']==AP) &\n",
    "           (dfOrig['cpuTh'] == CPU_TH) &\n",
    "           (dfOrig['heapTh'] == HEAP_TH)\n",
    "          ]\n",
    "\n",
    "for sys, stl, col in zip(SYSTEMS, STYLES, COLORS):\n",
    "    plt.plot(dfTmp[dfTmp['system']==sys]['numMsgs'], dfTmp[dfTmp['system']==sys]['foundAP'], stl, color=col, label=sys)\n",
    "plt.xticks(range(0,100,10), size=FONT_SIZE)\n",
    "plt.yticks(range(0,max(dfTmp['foundAP'])+1), size=FONT_SIZE)\n",
    "plt.xlabel('Message Offset [%]', size=FONT_SIZE)\n",
    "# plt.title(str(LOAD) + ' - ' + str(DURATION) + ' | Th(CPU) = ' + str(CPU_TH) + ' | Th(Heap) = ' + str(HEAP_TH))\n",
    "# plt.legend()\n",
    "plt.tight_layout()\n",
    "if SAVE_FIG:\n",
    "    plt.savefig(FOLDER_IMG + str(AP) + '_' + str(LOAD) + '-' + str(DURATION) + '_cpu' + str(CPU_TH) + '_heap' + str(HEAP_TH) + '.png')\n",
    "plt.show()\n",
    "\n",
    "\n",
    "\n",
    "X_AXIS = 'numMsgs'\n",
    "HEADER = '#' + X_AXIS + '\\t' + '\\t'.join(SYSTEMS)\n",
    "print(HEADER)\n",
    "for th in range(5,96,5):\n",
    "    string = str(th) + '\\t'\n",
    "    for sys in SYSTEMS:\n",
    "        string += str(dfTmp[(dfTmp['system']==sys) & (dfTmp[X_AXIS]==th)]['foundAP'].iloc[0])\n",
    "        if sys != SYSTEMS[-1]:\n",
    "            string += '\\t'\n",
    "    print(string)"
   ]
  },
  {
   "cell_type": "markdown",
   "metadata": {},
   "source": [
    "## TOB"
   ]
  },
  {
   "cell_type": "code",
   "execution_count": 20,
   "metadata": {},
   "outputs": [
    {
     "name": "stdout",
     "output_type": "stream",
     "text": [
      "### webgoat ###\n",
      "25-3 = 4\n",
      "25-6 = 4\n",
      "25-12 = 4\n",
      "50-3 = 4\n",
      "50-6 = 4\n",
      "50-12 = 4\n",
      "75-3 = 4\n",
      "75-6 = 4\n",
      "75-12 = 4\n",
      "100-3 = 4\n",
      "100-6 = 4\n",
      "100-12 = 4\n",
      "### trainticket ###\n",
      "25-3 = 0\n",
      "25-6 = 0\n",
      "25-12 = 0\n",
      "50-3 = 0\n",
      "50-6 = 0\n",
      "50-12 = 0\n",
      "75-3 = 0\n",
      "75-6 = 0\n",
      "75-12 = 0\n",
      "100-3 = 0\n",
      "100-6 = 0\n",
      "100-12 = 0\n",
      "### openmrs ###\n",
      "25-3 = 0\n",
      "25-6 = 0\n",
      "25-12 = 0\n",
      "50-3 = 0\n",
      "50-6 = 0\n",
      "50-12 = 0\n",
      "75-3 = 0\n",
      "75-6 = 0\n",
      "75-12 = 0\n",
      "100-3 = 0\n",
      "100-6 = 0\n",
      "100-12 = 0\n"
     ]
    }
   ],
   "source": [
    "AP = 'TOB'\n",
    "\n",
    "TIME_TH = 5\n",
    "\n",
    "for SYSTEM in SYSTEMS:\n",
    "    print('### ' + SYSTEM + ' ###')\n",
    "    for LOAD in [25, 50, 75, 100]:\n",
    "        for DURATION in [3, 6, 12]:\n",
    "            dfTmp = dfOrig[(dfOrig['load']==LOAD) &\n",
    "                       (dfOrig['duration']==DURATION) &\n",
    "                       (dfOrig['type']==AP) &\n",
    "                       (dfOrig['system']==SYSTEM) &\n",
    "                       (dfOrig['methodTimeTh']==TIME_TH)\n",
    "                      ]\n",
    "            print(str(LOAD) + '-' + str(DURATION) + ' = ' + str(dfTmp['foundAP'].iloc[0]))"
   ]
  },
  {
   "cell_type": "code",
   "execution_count": 21,
   "metadata": {
    "scrolled": false
   },
   "outputs": [
    {
     "data": {
      "image/png": "[encoded data removed]",
      "text/plain": [
       "<Figure size 432x288 with 1 Axes>"
      ]
     },
     "metadata": {
      "needs_background": "light"
     },
     "output_type": "display_data"
    },
    {
     "name": "stdout",
     "output_type": "stream",
     "text": [
      "#methodTimeTh\twebgoat\ttrainticket\topenmrs\n",
      "5\t4\t0\t0\n",
      "10\t4\t0\t0\n",
      "15\t4\t0\t0\n",
      "20\t3\t0\t0\n",
      "25\t3\t0\t0\n",
      "30\t0\t0\t0\n",
      "35\t0\t0\t0\n",
      "40\t0\t0\t0\n",
      "45\t0\t0\t0\n",
      "50\t0\t0\t0\n",
      "55\t0\t0\t0\n",
      "60\t0\t0\t0\n",
      "65\t0\t0\t0\n",
      "70\t0\t0\t0\n",
      "75\t0\t0\t0\n",
      "80\t0\t0\t0\n",
      "85\t0\t0\t0\n",
      "90\t0\t0\t0\n",
      "95\t0\t0\t0\n"
     ]
    },
    {
     "data": {
      "image/png": "[encoded data removed]",
      "text/plain": [
       "<Figure size 432x288 with 1 Axes>"
      ]
     },
     "metadata": {
      "needs_background": "light"
     },
     "output_type": "display_data"
    },
    {
     "name": "stdout",
     "output_type": "stream",
     "text": [
      "#methodTimeTh\twebgoat\ttrainticket\topenmrs\n",
      "5\t4\t0\t0\n",
      "10\t4\t0\t0\n",
      "15\t3\t0\t0\n",
      "20\t1\t0\t0\n",
      "25\t0\t0\t0\n",
      "30\t0\t0\t0\n",
      "35\t0\t0\t0\n",
      "40\t0\t0\t0\n",
      "45\t0\t0\t0\n",
      "50\t0\t0\t0\n",
      "55\t0\t0\t0\n",
      "60\t0\t0\t0\n",
      "65\t0\t0\t0\n",
      "70\t0\t0\t0\n",
      "75\t0\t0\t0\n",
      "80\t0\t0\t0\n",
      "85\t0\t0\t0\n",
      "90\t0\t0\t0\n",
      "95\t0\t0\t0\n"
     ]
    }
   ],
   "source": [
    "LOADS = [25, 50]\n",
    "DURATIONS = [3, 3]\n",
    "AP = 'TOB'\n",
    "\n",
    "for LOAD, DURATION in zip(LOADS, DURATIONS):\n",
    "    dfTmp = dfOrig[(dfOrig['load']==LOAD) &\n",
    "               (dfOrig['duration']==DURATION) &\n",
    "               (dfOrig['type']==AP)\n",
    "              ]\n",
    "\n",
    "    for sys, stl, col in zip(SYSTEMS, STYLES, COLORS):\n",
    "        plt.plot(dfTmp[dfTmp['system']==sys]['methodTimeTh'], dfTmp[dfTmp['system']==sys]['foundAP'], stl, color=col, label=sys)\n",
    "    plt.xticks(range(0,100,10), size=FONT_SIZE)\n",
    "    plt.yticks(range(0,max(dfTmp['foundAP'])+1), size=FONT_SIZE)\n",
    "    plt.xlabel('Execution Time Offset [%]', size=FONT_SIZE)\n",
    "    # plt.title(str(LOAD) + ' - ' + str(DURATION))\n",
    "    # plt.legend()\n",
    "    plt.tight_layout()\n",
    "    if SAVE_FIG:\n",
    "        plt.savefig(FOLDER_IMG + str(AP) + '_' + str(LOAD) + '-' + str(DURATION) + '.png')\n",
    "    plt.show()\n",
    "    \n",
    "    \n",
    "    \n",
    "    X_AXIS = 'methodTimeTh'\n",
    "    HEADER = '#' + X_AXIS + '\\t' + '\\t'.join(SYSTEMS)\n",
    "    print(HEADER)\n",
    "    for th in range(5,96,5):\n",
    "        string = str(th) + '\\t'\n",
    "        for sys in SYSTEMS:\n",
    "            string += str(dfTmp[(dfTmp['system']==sys) & (dfTmp[X_AXIS]==th)]['foundAP'].iloc[0])\n",
    "            if sys != SYSTEMS[-1]:\n",
    "                string += '\\t'\n",
    "        print(string)"
   ]
  },
  {
   "cell_type": "markdown",
   "metadata": {},
   "source": [
    "## EST"
   ]
  },
  {
   "cell_type": "code",
   "execution_count": 22,
   "metadata": {},
   "outputs": [
    {
     "name": "stdout",
     "output_type": "stream",
     "text": [
      "### webgoat ###\n",
      "25-3 = 0\n",
      "25-6 = 0\n",
      "25-12 = 0\n",
      "50-3 = 1\n",
      "50-6 = 1\n",
      "50-12 = 0\n",
      "75-3 = 0\n",
      "75-6 = 0\n",
      "75-12 = 0\n",
      "100-3 = 0\n",
      "100-6 = 0\n",
      "100-12 = 1\n",
      "### trainticket ###\n",
      "25-3 = 1\n",
      "25-6 = 1\n",
      "25-12 = 1\n",
      "50-3 = 1\n",
      "50-6 = 1\n",
      "50-12 = 2\n",
      "75-3 = 1\n",
      "75-6 = 1\n",
      "75-12 = 1\n",
      "100-3 = 1\n",
      "100-6 = 1\n",
      "100-12 = 1\n",
      "### openmrs ###\n",
      "25-3 = 0\n",
      "25-6 = 0\n",
      "25-12 = 0\n",
      "50-3 = 0\n",
      "50-6 = 0\n",
      "50-12 = 0\n",
      "75-3 = 0\n",
      "75-6 = 0\n",
      "75-12 = 0\n",
      "100-3 = 0\n",
      "100-6 = 0\n",
      "100-12 = 0\n"
     ]
    }
   ],
   "source": [
    "AP = 'EST'\n",
    "\n",
    "MSGS_TH = 5\n",
    "\n",
    "for SYSTEM in SYSTEMS:\n",
    "    print('### ' + SYSTEM + ' ###')\n",
    "    for LOAD in [25, 50, 75, 100]:\n",
    "        for DURATION in [3, 6, 12]:\n",
    "            dfTmp = dfOrig[(dfOrig['load']==LOAD) &\n",
    "                       (dfOrig['duration']==DURATION) &\n",
    "                       (dfOrig['type']==AP) &\n",
    "                       (dfOrig['system']==SYSTEM) &\n",
    "                       (dfOrig['numMsgs']==MSGS_TH)\n",
    "                      ]\n",
    "            print(str(LOAD) + '-' + str(DURATION) + ' = ' + str(dfTmp['foundAP'].iloc[0]))"
   ]
  },
  {
   "cell_type": "code",
   "execution_count": 23,
   "metadata": {
    "scrolled": false
   },
   "outputs": [
    {
     "data": {
      "image/png": "[encoded data removed]",
      "text/plain": [
       "<Figure size 432x288 with 1 Axes>"
      ]
     },
     "metadata": {
      "needs_background": "light"
     },
     "output_type": "display_data"
    },
    {
     "name": "stdout",
     "output_type": "stream",
     "text": [
      "#numMsgs\twebgoat\ttrainticket\topenmrs\n",
      "5\t0\t1\t0\n",
      "10\t0\t1\t0\n",
      "15\t0\t1\t0\n",
      "20\t0\t1\t0\n",
      "25\t0\t1\t0\n",
      "30\t0\t1\t0\n",
      "35\t0\t1\t0\n",
      "40\t0\t1\t0\n",
      "45\t0\t0\t0\n",
      "50\t0\t0\t0\n",
      "55\t0\t0\t0\n",
      "60\t0\t0\t0\n",
      "65\t0\t0\t0\n",
      "70\t0\t0\t0\n",
      "75\t0\t0\t0\n",
      "80\t0\t0\t0\n",
      "85\t0\t0\t0\n",
      "90\t0\t0\t0\n",
      "95\t0\t0\t0\n"
     ]
    },
    {
     "data": {
      "image/png": "[encoded data removed]",
      "text/plain": [
       "<Figure size 432x288 with 1 Axes>"
      ]
     },
     "metadata": {
      "needs_background": "light"
     },
     "output_type": "display_data"
    },
    {
     "name": "stdout",
     "output_type": "stream",
     "text": [
      "#numMsgs\twebgoat\ttrainticket\topenmrs\n",
      "5\t1\t1\t0\n",
      "10\t1\t1\t0\n",
      "15\t1\t1\t0\n",
      "20\t1\t1\t0\n",
      "25\t1\t1\t0\n",
      "30\t1\t1\t0\n",
      "35\t1\t1\t0\n",
      "40\t1\t1\t0\n",
      "45\t1\t0\t0\n",
      "50\t1\t0\t0\n",
      "55\t1\t0\t0\n",
      "60\t1\t0\t0\n",
      "65\t1\t0\t0\n",
      "70\t1\t0\t0\n",
      "75\t1\t0\t0\n",
      "80\t1\t0\t0\n",
      "85\t0\t0\t0\n",
      "90\t0\t0\t0\n",
      "95\t0\t0\t0\n"
     ]
    }
   ],
   "source": [
    "LOADS = [25, 100]\n",
    "DURATIONS = [3, 12]\n",
    "AP = 'EST'\n",
    "\n",
    "for LOAD, DURATION in zip(LOADS, DURATIONS):\n",
    "    dfTmp = dfOrig[(dfOrig['load']==LOAD) &\n",
    "               (dfOrig['duration']==DURATION) &\n",
    "               (dfOrig['type']==AP)\n",
    "              ]\n",
    "\n",
    "    for sys, stl, col in zip(SYSTEMS, STYLES, COLORS):\n",
    "        plt.plot(dfTmp[dfTmp['system']==sys]['numMsgs'], dfTmp[dfTmp['system']==sys]['foundAP'], stl, color=col, label=sys)\n",
    "    plt.xticks(range(0,100,10), size=FONT_SIZE)\n",
    "    plt.yticks(range(0,max(dfTmp['foundAP'])+1), size=FONT_SIZE)\n",
    "    plt.xlabel('Message Offset [%]', size=FONT_SIZE)\n",
    "    # plt.title(str(LOAD) + ' - ' + str(DURATION))\n",
    "    # plt.legend()\n",
    "    plt.tight_layout()\n",
    "    if SAVE_FIG:\n",
    "        plt.savefig(FOLDER_IMG + str(AP) + '_' + str(LOAD) + '-' + str(DURATION) + '.png')\n",
    "    plt.show()\n",
    "    \n",
    "    \n",
    "    \n",
    "    X_AXIS = 'numMsgs'\n",
    "    HEADER = '#' + X_AXIS + '\\t' + '\\t'.join(SYSTEMS)\n",
    "    print(HEADER)\n",
    "    for th in range(5,96,5):\n",
    "        string = str(th) + '\\t'\n",
    "        for sys in SYSTEMS:\n",
    "            string += str(dfTmp[(dfTmp['system']==sys) & (dfTmp[X_AXIS]==th)]['foundAP'].iloc[0])\n",
    "            if sys != SYSTEMS[-1]:\n",
    "                string += '\\t'\n",
    "        print(string)"
   ]
  },
  {
   "cell_type": "markdown",
   "metadata": {},
   "source": [
    "## EDA"
   ]
  },
  {
   "cell_type": "code",
   "execution_count": 24,
   "metadata": {},
   "outputs": [
    {
     "name": "stdout",
     "output_type": "stream",
     "text": [
      "### webgoat ###\n",
      "25-3 = 3\n",
      "25-6 = 3\n",
      "25-12 = 4\n",
      "50-3 = 4\n",
      "50-6 = 4\n",
      "50-12 = 4\n",
      "75-3 = 3\n",
      "75-6 = 4\n",
      "75-12 = 4\n",
      "100-3 = 4\n",
      "100-6 = 4\n",
      "100-12 = 4\n",
      "### trainticket ###\n",
      "25-3 = 0\n",
      "25-6 = 0\n",
      "25-12 = 0\n",
      "50-3 = 0\n",
      "50-6 = 0\n",
      "50-12 = 0\n",
      "75-3 = 0\n",
      "75-6 = 0\n",
      "75-12 = 0\n",
      "100-3 = 0\n",
      "100-6 = 0\n",
      "100-12 = 0\n",
      "### openmrs ###\n",
      "25-3 = 2\n",
      "25-6 = 1\n",
      "25-12 = 1\n",
      "50-3 = 0\n",
      "50-6 = 0\n",
      "50-12 = 0\n",
      "75-3 = 1\n",
      "75-6 = 1\n",
      "75-12 = 0\n",
      "100-3 = 1\n",
      "100-6 = 0\n",
      "100-12 = 0\n"
     ]
    }
   ],
   "source": [
    "AP = 'EDA'\n",
    "\n",
    "OBJS_TH = 5\n",
    "HEAP_TH = 10\n",
    "\n",
    "for SYSTEM in SYSTEMS:\n",
    "    print('### ' + SYSTEM + ' ###')\n",
    "    for LOAD in [25, 50, 75, 100]:\n",
    "        for DURATION in [3, 6, 12]:\n",
    "            dfTmp = dfOrig[(dfOrig['load']==LOAD) &\n",
    "                       (dfOrig['duration']==DURATION) &\n",
    "                       (dfOrig['type']==AP) &\n",
    "                       (dfOrig['system']==SYSTEM) &\n",
    "                       (dfOrig['numGCedObjsTh']==OBJS_TH) &\n",
    "                       (dfOrig['heapTh']==HEAP_TH)\n",
    "                      ]\n",
    "            print(str(LOAD) + '-' + str(DURATION) + ' = ' + str(dfTmp['foundAP'].iloc[0]))"
   ]
  },
  {
   "cell_type": "code",
   "execution_count": 25,
   "metadata": {
    "scrolled": false
   },
   "outputs": [
    {
     "data": {
      "image/png": "[encoded data removed]",
      "text/plain": [
       "<Figure size 432x288 with 1 Axes>"
      ]
     },
     "metadata": {
      "needs_background": "light"
     },
     "output_type": "display_data"
    },
    {
     "name": "stdout",
     "output_type": "stream",
     "text": [
      "#numGCedObjsTh\twebgoat\ttrainticket\topenmrs\n",
      "5\t3\t0\t2\n",
      "10\t3\t0\t2\n",
      "15\t3\t0\t2\n",
      "20\t3\t0\t2\n",
      "25\t1\t0\t2\n",
      "30\t1\t0\t2\n",
      "35\t0\t0\t2\n",
      "40\t0\t0\t2\n",
      "45\t0\t0\t2\n",
      "50\t0\t0\t0\n",
      "55\t0\t0\t0\n",
      "60\t0\t0\t0\n",
      "65\t0\t0\t0\n",
      "70\t0\t0\t0\n",
      "75\t0\t0\t0\n",
      "80\t0\t0\t0\n",
      "85\t0\t0\t0\n",
      "90\t0\t0\t0\n",
      "95\t0\t0\t0\n"
     ]
    }
   ],
   "source": [
    "LOADS = [25] \n",
    "DURATIONS = [3]\n",
    "AP = 'EDA'\n",
    "\n",
    "# Fixed parameters\n",
    "HEAP_TH = 10\n",
    "\n",
    "for LOAD, DURATION in zip(LOADS, DURATIONS):\n",
    "    dfTmp = dfOrig[(dfOrig['load']==LOAD) &\n",
    "               (dfOrig['duration']==DURATION) &\n",
    "               (dfOrig['type']==AP) &\n",
    "               (dfOrig['heapTh']==HEAP_TH)\n",
    "              ]\n",
    "\n",
    "    for sys, stl, col in zip(SYSTEMS, STYLES, COLORS):\n",
    "        plt.plot(dfTmp[dfTmp['system']==sys]['numGCedObjsTh'], dfTmp[dfTmp['system']==sys]['foundAP'], stl, color=col, label=sys)\n",
    "    plt.xticks(range(0,100,10), size=FONT_SIZE)\n",
    "    plt.yticks(range(0,max(dfTmp['foundAP'])+1), size=FONT_SIZE)\n",
    "    plt.xlabel('GCed Objects Offset [%]', size=FONT_SIZE)\n",
    "    # plt.title(str(LOAD) + ' - ' + str(DURATION))\n",
    "    # plt.legend()\n",
    "    plt.tight_layout()\n",
    "    if SAVE_FIG:\n",
    "        plt.savefig(FOLDER_IMG + str(AP) + '_' + str(LOAD) + '-' + str(DURATION) + '.png')\n",
    "    plt.show()\n",
    "    \n",
    "    \n",
    "    \n",
    "    X_AXIS = 'numGCedObjsTh'\n",
    "    HEADER = '#' + X_AXIS + '\\t' + '\\t'.join(SYSTEMS)\n",
    "    print(HEADER)\n",
    "    for th in range(5,96,5):\n",
    "        string = str(th) + '\\t'\n",
    "        for sys in SYSTEMS:\n",
    "            string += str(dfTmp[(dfTmp['system']==sys) & (dfTmp[X_AXIS]==th)]['foundAP'].iloc[0])\n",
    "            if sys != SYSTEMS[-1]:\n",
    "                string += '\\t'\n",
    "        print(string)"
   ]
  },
  {
   "cell_type": "code",
   "execution_count": 26,
   "metadata": {},
   "outputs": [
    {
     "data": {
      "image/png": "[encoded data removed]",
      "text/plain": [
       "<Figure size 432x288 with 1 Axes>"
      ]
     },
     "metadata": {
      "needs_background": "light"
     },
     "output_type": "display_data"
    },
    {
     "name": "stdout",
     "output_type": "stream",
     "text": [
      "#heapTh\twebgoat\ttrainticket\topenmrs\n",
      "5\t3\t0\t2\n",
      "10\t3\t0\t2\n",
      "15\t3\t0\t2\n",
      "20\t3\t0\t2\n",
      "25\t3\t0\t2\n",
      "30\t3\t0\t2\n",
      "35\t3\t0\t2\n",
      "40\t3\t0\t2\n",
      "45\t3\t0\t2\n",
      "50\t3\t0\t0\n",
      "55\t3\t0\t0\n",
      "60\t3\t0\t0\n",
      "65\t3\t0\t0\n",
      "70\t3\t0\t0\n",
      "75\t3\t0\t0\n",
      "80\t3\t0\t0\n",
      "85\t3\t0\t0\n",
      "90\t3\t0\t0\n",
      "95\t3\t0\t0\n"
     ]
    }
   ],
   "source": [
    "LOADS = [25] \n",
    "DURATIONS = [3]\n",
    "AP = 'EDA'\n",
    "\n",
    "# Fixed parameters\n",
    "GC_OBJS = 5\n",
    "\n",
    "for LOAD, DURATION in zip(LOADS, DURATIONS):\n",
    "    dfTmp = dfOrig[(dfOrig['load']==LOAD) &\n",
    "               (dfOrig['duration']==DURATION) &\n",
    "               (dfOrig['type']==AP) &\n",
    "               (dfOrig['numGCedObjsTh']==GC_OBJS)\n",
    "              ]\n",
    "\n",
    "    for sys, stl, col in zip(SYSTEMS, STYLES, COLORS):\n",
    "        plt.plot(dfTmp[dfTmp['system']==sys]['heapTh'], dfTmp[dfTmp['system']==sys]['foundAP'], stl, color=col, label=sys)\n",
    "    plt.xticks(range(0,100,10), size=FONT_SIZE)\n",
    "    plt.yticks(range(0,max(dfTmp['foundAP'])+1), size=FONT_SIZE)\n",
    "    plt.xlabel('Memory Threshold [%]', size=FONT_SIZE)\n",
    "    # plt.title(str(LOAD) + ' - ' + str(DURATION))\n",
    "    # plt.legend()\n",
    "    plt.tight_layout()\n",
    "    if SAVE_FIG:\n",
    "        plt.savefig(FOLDER_IMG + str(AP) + '_' + str(LOAD) + '-' + str(DURATION) + '.png')\n",
    "    plt.show()\n",
    "    \n",
    "    \n",
    "    \n",
    "    X_AXIS = 'heapTh'\n",
    "    HEADER = '#' + X_AXIS + '\\t' + '\\t'.join(SYSTEMS)\n",
    "    print(HEADER)\n",
    "    for th in range(5,96,5):\n",
    "        string = str(th) + '\\t'\n",
    "        for sys in SYSTEMS:\n",
    "            string += str(dfTmp[(dfTmp['system']==sys) & (dfTmp[X_AXIS]==th)]['foundAP'].iloc[0])\n",
    "            if sys != SYSTEMS[-1]:\n",
    "                string += '\\t'\n",
    "        print(string)"
   ]
  },
  {
   "cell_type": "code",
   "execution_count": null,
   "metadata": {},
   "outputs": [],
   "source": []
  },
  {
   "cell_type": "code",
   "execution_count": null,
   "metadata": {},
   "outputs": [],
   "source": []
  },
  {
   "cell_type": "code",
   "execution_count": null,
   "metadata": {},
   "outputs": [],
   "source": []
  },
  {
   "cell_type": "code",
   "execution_count": null,
   "metadata": {},
   "outputs": [],
   "source": []
  },
  {
   "cell_type": "code",
   "execution_count": null,
   "metadata": {},
   "outputs": [],
   "source": []
  },
  {
   "cell_type": "markdown",
   "metadata": {},
   "source": [
    "# Original vs. Refactored: OpenMRS"
   ]
  },
  {
   "cell_type": "markdown",
   "metadata": {},
   "source": [
    "## CTH"
   ]
  },
  {
   "cell_type": "code",
   "execution_count": 27,
   "metadata": {},
   "outputs": [
    {
     "name": "stdout",
     "output_type": "stream",
     "text": [
      "### openmrs ###\n",
      "25-3 = 0(-2)\n",
      "25-6 = 0(0)\n",
      "25-12 = 0(0)\n",
      "50-3 = 0(0)\n",
      "50-6 = 0(0)\n",
      "50-12 = 0(0)\n",
      "75-3 = 0(-1)\n",
      "75-6 = 0(-1)\n",
      "75-12 = 0(0)\n",
      "100-3 = 1(1)\n",
      "100-6 = 0(0)\n",
      "100-12 = 0(0)\n"
     ]
    }
   ],
   "source": [
    "AP = 'CTH'\n",
    "\n",
    "COUNT_TH = 5\n",
    "CPU_TH = 10\n",
    "OPTION = 'average'\n",
    "\n",
    "for SYSTEM in ['openmrs']:\n",
    "    print('### ' + SYSTEM + ' ###')\n",
    "    for LOAD in [25, 50, 75, 100]:\n",
    "        for DURATION in [3, 6, 12]:\n",
    "            dfTmpO = dfOrig[(dfOrig['load']==LOAD) &\n",
    "                       (dfOrig['duration']==DURATION) &\n",
    "                       (dfOrig['type']==AP) &\n",
    "                       (dfOrig['system']==SYSTEM) &\n",
    "                       (dfOrig['countTh']==COUNT_TH) &\n",
    "                       (dfOrig['cpuTh']==CPU_TH) &\n",
    "                       (dfOrig['option']==OPTION)\n",
    "                    ]\n",
    "            dfTmpR = dfRef[(dfRef['load']==LOAD) &\n",
    "                       (dfRef['duration']==DURATION) &\n",
    "                       (dfRef['type']==AP) &\n",
    "                       (dfRef['system']==SYSTEM) &\n",
    "                       (dfRef['countTh']==COUNT_TH) &\n",
    "                       (dfRef['cpuTh']==CPU_TH) &\n",
    "                       (dfRef['option']==OPTION)\n",
    "                      ]\n",
    "            diff = dfTmpR['foundAP'].iloc[0] - dfTmpO['foundAP'].iloc[0]\n",
    "            print(str(LOAD) + '-' + str(DURATION) + ' = ' + str(dfTmpR['foundAP'].iloc[0]) + '(' + str(diff) + ')')"
   ]
  },
  {
   "cell_type": "code",
   "execution_count": 28,
   "metadata": {},
   "outputs": [
    {
     "data": {
      "image/png": "[encoded data removed]",
      "text/plain": [
       "<Figure size 432x288 with 1 Axes>"
      ]
     },
     "metadata": {
      "needs_background": "light"
     },
     "output_type": "display_data"
    }
   ],
   "source": [
    "LOAD = 100\n",
    "DURATION = 3\n",
    "AP = 'CTH'\n",
    "SYSTEM = 'openmrs'\n",
    "\n",
    "# Fixed parameters\n",
    "CPU_TH = 5\n",
    "OPTION = 'average'\n",
    "\n",
    "# X-axis parameter\n",
    "X_PARAM = 'countTh'\n",
    "\n",
    "dfTmpOrig = dfOrig[(dfOrig['load']==LOAD) &\n",
    "           (dfOrig['duration']==DURATION) &\n",
    "           (dfOrig['system']==SYSTEM) &\n",
    "           (dfOrig['type']==AP) &\n",
    "           (dfOrig['cpuTh'] == CPU_TH) &\n",
    "           (dfOrig['option'] == OPTION)\n",
    "          ]\n",
    "\n",
    "dfTmpRef = dfRef[(dfRef['load']==LOAD) &\n",
    "           (dfRef['duration']==DURATION) &\n",
    "           (dfRef['system']==SYSTEM) &\n",
    "           (dfRef['type']==AP) &\n",
    "           (dfRef['cpuTh'] == CPU_TH) &\n",
    "           (dfRef['option'] == OPTION)\n",
    "          ]\n",
    "\n",
    "plt.plot(dfTmpOrig[X_PARAM], dfTmpOrig['foundAP'], '-o', label='Original')\n",
    "plt.plot(dfTmpRef[X_PARAM], dfTmpRef['foundAP'], '-d', label='Refactored')\n",
    "plt.xlabel('Count Threshold')\n",
    "plt.ylabel('Found ' + AP)\n",
    "plt.title(str(LOAD) + ' - ' + str(DURATION) + ' | Th(CPU) = ' + str(CPU_TH) + ' | Option = ' + OPTION)\n",
    "plt.legend()\n",
    "plt.show()"
   ]
  },
  {
   "cell_type": "code",
   "execution_count": 29,
   "metadata": {},
   "outputs": [
    {
     "data": {
      "image/png": "[encoded data removed]",
      "text/plain": [
       "<Figure size 432x288 with 1 Axes>"
      ]
     },
     "metadata": {
      "needs_background": "light"
     },
     "output_type": "display_data"
    }
   ],
   "source": [
    "LOAD = 25\n",
    "DURATION = 3\n",
    "AP = 'CTH'\n",
    "SYSTEM = 'openmrs'\n",
    "\n",
    "# Fixed parameters\n",
    "COUNT_TH = 5\n",
    "OPTION = 'average'\n",
    "\n",
    "# X-axis parameter\n",
    "X_PARAM = 'cpuTh'\n",
    "\n",
    "dfTmpOrig = dfOrig[(dfOrig['load']==LOAD) &\n",
    "           (dfOrig['duration']==DURATION) &\n",
    "           (dfOrig['system']==SYSTEM) &\n",
    "           (dfOrig['type']==AP) &\n",
    "           (dfOrig['countTh'] == COUNT_TH) &\n",
    "           (dfOrig['option'] == OPTION)\n",
    "          ]\n",
    "\n",
    "dfTmpRef = dfRef[(dfRef['load']==LOAD) &\n",
    "           (dfRef['duration']==DURATION) &\n",
    "           (dfRef['system']==SYSTEM) &\n",
    "           (dfRef['type']==AP) &\n",
    "           (dfRef['countTh'] == COUNT_TH) &\n",
    "           (dfRef['option'] == OPTION)\n",
    "          ]\n",
    "\n",
    "plt.plot(dfTmpOrig[X_PARAM], dfTmpOrig['foundAP'], '-o', label='Original')\n",
    "plt.plot(dfTmpRef[X_PARAM], dfTmpRef['foundAP'], '-d', label='Refactored')\n",
    "plt.xlabel('CPU Threshold')\n",
    "plt.ylabel('Found ' + AP)\n",
    "plt.title(str(LOAD) + ' - ' + str(DURATION) + ' | Th(Count) = ' + str(COUNT_TH) + ' | Option = ' + OPTION)\n",
    "plt.legend()\n",
    "plt.show()"
   ]
  },
  {
   "cell_type": "code",
   "execution_count": 30,
   "metadata": {},
   "outputs": [
    {
     "data": {
      "image/png": "[encoded data removed]",
      "text/plain": [
       "<Figure size 432x288 with 1 Axes>"
      ]
     },
     "metadata": {
      "needs_background": "light"
     },
     "output_type": "display_data"
    }
   ],
   "source": [
    "LOAD = 25\n",
    "DURATION = 3\n",
    "AP = 'CTH'\n",
    "SYSTEM = 'openmrs'\n",
    "\n",
    "# Fixed parameters\n",
    "CPU_TH = 5\n",
    "COUNT_TH = 5\n",
    "\n",
    "# X-axis parameter\n",
    "X_PARAM = 'option'\n",
    "\n",
    "dfTmpOrig = dfOrig[(dfOrig['load']==LOAD) &\n",
    "           (dfOrig['duration']==DURATION) &\n",
    "           (dfOrig['system']==SYSTEM) &\n",
    "           (dfOrig['type']==AP) &\n",
    "           (dfOrig['cpuTh'] == CPU_TH) &\n",
    "           (dfOrig['countTh'] == COUNT_TH)\n",
    "          ]\n",
    "\n",
    "dfTmpRef = dfRef[(dfRef['load']==LOAD) &\n",
    "           (dfRef['duration']==DURATION) &\n",
    "           (dfRef['system']==SYSTEM) &\n",
    "           (dfRef['type']==AP) &\n",
    "           (dfRef['cpuTh'] == CPU_TH) &\n",
    "           (dfRef['countTh'] == COUNT_TH)\n",
    "          ]\n",
    "\n",
    "plt.plot(dfTmpOrig[X_PARAM], dfTmpOrig['foundAP'], '-o', label='Original')\n",
    "plt.plot(dfTmpRef[X_PARAM], dfTmpRef['foundAP'], '-d', label='Refactored')\n",
    "plt.xlabel('Option')\n",
    "plt.ylabel('Found ' + AP)\n",
    "plt.title(str(LOAD) + ' - ' + str(DURATION) + ' | Th(CPU) = ' + str(CPU_TH) + ' | Th(Count) = ' + str(COUNT_TH))\n",
    "plt.legend()\n",
    "plt.show()"
   ]
  },
  {
   "cell_type": "markdown",
   "metadata": {},
   "source": [
    "## EP"
   ]
  },
  {
   "cell_type": "code",
   "execution_count": 31,
   "metadata": {},
   "outputs": [
    {
     "name": "stdout",
     "output_type": "stream",
     "text": [
      "### openmrs ###\n",
      "25-3 = 2(-1)\n",
      "25-6 = 1(1)\n",
      "25-12 = 1(1)\n",
      "50-3 = 1(0)\n",
      "50-6 = 1(0)\n",
      "50-12 = 1(0)\n",
      "75-3 = 1(-1)\n",
      "75-6 = 2(0)\n",
      "75-12 = 1(0)\n",
      "100-3 = 2(0)\n",
      "100-6 = 1(0)\n",
      "100-12 = 1(0)\n"
     ]
    }
   ],
   "source": [
    "AP = 'EP'\n",
    "\n",
    "TIME_TH = 5\n",
    "\n",
    "for SYSTEM in ['openmrs']:\n",
    "    print('### ' + SYSTEM + ' ###')\n",
    "    for LOAD in [25, 50, 75, 100]:\n",
    "        for DURATION in [3, 6, 12]:\n",
    "            dfTmpO = dfOrig[(dfOrig['load']==LOAD) &\n",
    "                       (dfOrig['duration']==DURATION) &\n",
    "                       (dfOrig['type']==AP) &\n",
    "                       (dfOrig['system']==SYSTEM) &\n",
    "                       (dfOrig['methodTimeTh']==TIME_TH)\n",
    "                      ]\n",
    "            dfTmpR = dfRef[(dfRef['load']==LOAD) &\n",
    "                       (dfRef['duration']==DURATION) &\n",
    "                       (dfRef['type']==AP) &\n",
    "                       (dfRef['system']==SYSTEM) &\n",
    "                       (dfRef['methodTimeTh']==TIME_TH)\n",
    "                      ]\n",
    "            diff = dfTmpR['foundAP'].iloc[0] - dfTmpO['foundAP'].iloc[0]\n",
    "            print(str(LOAD) + '-' + str(DURATION) + ' = ' + str(dfTmpR['foundAP'].iloc[0]) + '(' + str(diff) + ')')"
   ]
  },
  {
   "cell_type": "code",
   "execution_count": 32,
   "metadata": {},
   "outputs": [
    {
     "data": {
      "image/png": "[encoded data removed]",
      "text/plain": [
       "<Figure size 432x288 with 1 Axes>"
      ]
     },
     "metadata": {
      "needs_background": "light"
     },
     "output_type": "display_data"
    }
   ],
   "source": [
    "LOAD = 25\n",
    "DURATION = 3\n",
    "AP = 'EP'\n",
    "SYSTEM = 'openmrs'\n",
    "\n",
    "# X-axis parameter\n",
    "X_PARAM = 'methodTimeTh'\n",
    "\n",
    "dfTmpOrig = dfOrig[(dfOrig['load']==LOAD) &\n",
    "           (dfOrig['duration']==DURATION) &\n",
    "           (dfOrig['system']==SYSTEM) &\n",
    "           (dfOrig['type']==AP)\n",
    "          ]\n",
    "\n",
    "dfTmpRef = dfRef[(dfRef['load']==LOAD) &\n",
    "           (dfRef['duration']==DURATION) &\n",
    "           (dfRef['system']==SYSTEM) &\n",
    "           (dfRef['type']==AP)\n",
    "          ]\n",
    "\n",
    "plt.plot(dfTmpOrig[X_PARAM], dfTmpOrig['foundAP'], '-o', label='Original')\n",
    "plt.plot(dfTmpRef[X_PARAM], dfTmpRef['foundAP'], '-d', label='Refactored')\n",
    "plt.xlabel('Method Time Threshold')\n",
    "plt.ylabel('Found ' + AP)\n",
    "plt.title(str(LOAD) + ' - ' + str(DURATION))\n",
    "plt.legend()\n",
    "plt.show()"
   ]
  },
  {
   "cell_type": "markdown",
   "metadata": {},
   "source": [
    "## WCS"
   ]
  },
  {
   "cell_type": "code",
   "execution_count": 33,
   "metadata": {},
   "outputs": [
    {
     "name": "stdout",
     "output_type": "stream",
     "text": [
      "### openmrs ###\n",
      "25-3 = 0(-2)\n",
      "25-6 = 0(0)\n",
      "25-12 = 0(-1)\n",
      "50-3 = 0(0)\n",
      "50-6 = 0(0)\n",
      "50-12 = 0(0)\n",
      "75-3 = 0(-1)\n",
      "75-6 = 0(-1)\n",
      "75-12 = 0(0)\n",
      "100-3 = 1(1)\n",
      "100-6 = 0(0)\n",
      "100-12 = 0(0)\n"
     ]
    }
   ],
   "source": [
    "AP = 'WCS'\n",
    "\n",
    "MEM_TH = 5\n",
    "\n",
    "for SYSTEM in ['openmrs']:\n",
    "    print('### ' + SYSTEM + ' ###')\n",
    "    for LOAD in [25, 50, 75, 100]:\n",
    "        for DURATION in [3, 6, 12]:\n",
    "            dfTmpO = dfOrig[(dfOrig['load']==LOAD) &\n",
    "                       (dfOrig['duration']==DURATION) &\n",
    "                       (dfOrig['type']==AP) &\n",
    "                       (dfOrig['system']==SYSTEM) &\n",
    "                       (dfOrig['memoryUsageTh']==MEM_TH)\n",
    "                      ]\n",
    "            dfTmpR = dfRef[(dfRef['load']==LOAD) &\n",
    "                       (dfRef['duration']==DURATION) &\n",
    "                       (dfRef['type']==AP) &\n",
    "                       (dfRef['system']==SYSTEM) &\n",
    "                       (dfRef['memoryUsageTh']==MEM_TH)\n",
    "                      ]\n",
    "            diff = dfTmpR['foundAP'].iloc[0] - dfTmpO['foundAP'].iloc[0]\n",
    "            print(str(LOAD) + '-' + str(DURATION) + ' = ' + str(dfTmpR['foundAP'].iloc[0]) + '(' + str(diff) + ')')"
   ]
  },
  {
   "cell_type": "code",
   "execution_count": 34,
   "metadata": {},
   "outputs": [
    {
     "data": {
      "image/png": "[encoded data removed]",
      "text/plain": [
       "<Figure size 432x288 with 1 Axes>"
      ]
     },
     "metadata": {
      "needs_background": "light"
     },
     "output_type": "display_data"
    }
   ],
   "source": [
    "LOAD = 100\n",
    "DURATION = 3\n",
    "AP = 'WCS'\n",
    "SYSTEM = 'openmrs'\n",
    "\n",
    "# X-axis parameter\n",
    "X_PARAM = 'memoryUsageTh'\n",
    "\n",
    "dfTmpOrig = dfOrig[(dfOrig['load']==LOAD) &\n",
    "           (dfOrig['duration']==DURATION) &\n",
    "           (dfOrig['system']==SYSTEM) &\n",
    "           (dfOrig['type']==AP)\n",
    "          ]\n",
    "\n",
    "dfTmpRef = dfRef[(dfRef['load']==LOAD) &\n",
    "           (dfRef['duration']==DURATION) &\n",
    "           (dfRef['system']==SYSTEM) &\n",
    "           (dfRef['type']==AP)\n",
    "          ]\n",
    "\n",
    "plt.plot(dfTmpOrig[X_PARAM], dfTmpOrig['foundAP'], '-o', label='Original')\n",
    "plt.plot(dfTmpRef[X_PARAM], dfTmpRef['foundAP'], '-d', label='Refactored')\n",
    "plt.xlabel('Memory Usage Threshold')\n",
    "plt.ylabel('Found ' + AP)\n",
    "plt.title(str(LOAD) + ' - ' + str(DURATION))\n",
    "plt.legend()\n",
    "plt.show()"
   ]
  },
  {
   "cell_type": "markdown",
   "metadata": {},
   "source": [
    "## BLOB"
   ]
  },
  {
   "cell_type": "code",
   "execution_count": 35,
   "metadata": {},
   "outputs": [
    {
     "name": "stdout",
     "output_type": "stream",
     "text": [
      "### openmrs ###\n",
      "25-3 = 3(1)\n",
      "25-6 = 1(0)\n",
      "25-12 = 1(0)\n",
      "50-3 = 1(0)\n",
      "50-6 = 1(0)\n",
      "50-12 = 1(0)\n",
      "75-3 = 1(-2)\n",
      "75-6 = 3(0)\n",
      "75-12 = 1(0)\n",
      "100-3 = 2(-1)\n",
      "100-6 = 1(0)\n",
      "100-12 = 1(0)\n"
     ]
    }
   ],
   "source": [
    "AP = 'BLOB'\n",
    "\n",
    "MSG_TH = 5\n",
    "CPU_TH = 10\n",
    "HEAP_TH = 10\n",
    "\n",
    "for SYSTEM in ['openmrs']:\n",
    "    print('### ' + SYSTEM + ' ###')\n",
    "    for LOAD in [25, 50, 75, 100]:\n",
    "        for DURATION in [3, 6, 12]:\n",
    "            dfTmpO = dfOrig[(dfOrig['load']==LOAD) &\n",
    "                       (dfOrig['duration']==DURATION) &\n",
    "                       (dfOrig['type']==AP) &\n",
    "                       (dfOrig['system']==SYSTEM) &\n",
    "                       (dfOrig['numMsgs']==MSG_TH) &\n",
    "                       (dfOrig['cpuTh']==CPU_TH) &\n",
    "                       (dfOrig['heapTh']==HEAP_TH)\n",
    "                      ]\n",
    "            dfTmpR = dfRef[(dfRef['load']==LOAD) &\n",
    "                       (dfRef['duration']==DURATION) &\n",
    "                       (dfRef['type']==AP) &\n",
    "                       (dfRef['system']==SYSTEM) &\n",
    "                       (dfRef['numMsgs']==MSG_TH) &\n",
    "                       (dfRef['cpuTh']==CPU_TH) &\n",
    "                       (dfRef['heapTh']==HEAP_TH)\n",
    "                      ]\n",
    "            diff = dfTmpR['foundAP'].iloc[0] - dfTmpO['foundAP'].iloc[0]\n",
    "            print(str(LOAD) + '-' + str(DURATION) + ' = ' + str(dfTmpR['foundAP'].iloc[0]) + '(' + str(diff) + ')')"
   ]
  },
  {
   "cell_type": "code",
   "execution_count": 36,
   "metadata": {},
   "outputs": [
    {
     "data": {
      "image/png": "[encoded data removed]",
      "text/plain": [
       "<Figure size 432x288 with 1 Axes>"
      ]
     },
     "metadata": {
      "needs_background": "light"
     },
     "output_type": "display_data"
    }
   ],
   "source": [
    "LOAD = 25\n",
    "DURATION = 6\n",
    "SYSTEM = 'openmrs'\n",
    "AP = 'BLOB'\n",
    "\n",
    "# Fixed parameters\n",
    "HEAP_TH = 10\n",
    "MSG_TH = 5\n",
    "\n",
    "# X-axis parameter\n",
    "X_PARAM = 'cpuTh'\n",
    "\n",
    "dfTmpOrig = dfOrig[(dfOrig['load']==LOAD) &\n",
    "           (dfOrig['duration']==DURATION) &\n",
    "           (dfOrig['system']==SYSTEM) &\n",
    "           (dfOrig['type']==AP) &\n",
    "           (dfOrig['heapTh'] == HEAP_TH) &\n",
    "           (dfOrig['numMsgs'] == MSG_TH)\n",
    "          ]\n",
    "\n",
    "dfTmpRef = dfRef[(dfRef['load']==LOAD) &\n",
    "           (dfRef['duration']==DURATION) &\n",
    "           (dfRef['system']==SYSTEM) &\n",
    "           (dfRef['type']==AP) &\n",
    "           (dfRef['heapTh'] == HEAP_TH) &\n",
    "           (dfRef['numMsgs'] == MSG_TH)\n",
    "          ]\n",
    "\n",
    "plt.plot(dfTmpOrig[X_PARAM], dfTmpOrig['foundAP'], '-o', label='Original')\n",
    "plt.plot(dfTmpRef[X_PARAM], dfTmpRef['foundAP'], '-d', label='Refactored')\n",
    "plt.xlabel('CPU Threshold')\n",
    "plt.ylabel('Found ' + AP)\n",
    "plt.title(str(LOAD) + ' - ' + str(DURATION) + ' | Th(Heap) = ' + str(HEAP_TH) + ' | Th(Msgs) = ' + str(MSG_TH))\n",
    "plt.legend()\n",
    "plt.show()"
   ]
  },
  {
   "cell_type": "code",
   "execution_count": 37,
   "metadata": {},
   "outputs": [
    {
     "data": {
      "image/png": "[encoded data removed]",
      "text/plain": [
       "<Figure size 432x288 with 1 Axes>"
      ]
     },
     "metadata": {
      "needs_background": "light"
     },
     "output_type": "display_data"
    }
   ],
   "source": [
    "LOAD = 25\n",
    "DURATION = 6\n",
    "SYSTEM = 'openmrs'\n",
    "AP = 'BLOB'\n",
    "\n",
    "# Fixed parameters\n",
    "CPU_TH = 10\n",
    "MSG_TH = 5\n",
    "\n",
    "# X-axis parameter\n",
    "X_PARAM = 'heapTh'\n",
    "\n",
    "dfTmpOrig = dfOrig[(dfOrig['load']==LOAD) &\n",
    "           (dfOrig['duration']==DURATION) &\n",
    "           (dfOrig['system']==SYSTEM) &\n",
    "           (dfOrig['type']==AP) &\n",
    "           (dfOrig['cpuTh'] == CPU_TH) &\n",
    "           (dfOrig['numMsgs'] == MSG_TH)\n",
    "          ]\n",
    "\n",
    "dfTmpRef = dfRef[(dfRef['load']==LOAD) &\n",
    "           (dfRef['duration']==DURATION) &\n",
    "           (dfRef['system']==SYSTEM) &\n",
    "           (dfRef['type']==AP) &\n",
    "           (dfRef['cpuTh'] == CPU_TH) &\n",
    "           (dfRef['numMsgs'] == MSG_TH)\n",
    "          ]\n",
    "\n",
    "plt.plot(dfTmpOrig[X_PARAM], dfTmpOrig['foundAP'], '-o', label='Original')\n",
    "plt.plot(dfTmpRef[X_PARAM], dfTmpRef['foundAP'], '-d', label='Refactored')\n",
    "plt.xlabel('Heap Threshold')\n",
    "plt.ylabel('Found ' + AP)\n",
    "plt.title(str(LOAD) + ' - ' + str(DURATION) + ' | Th(CPU) = ' + str(CPU_TH) + ' | Th(Msgs) = ' + str(MSG_TH))\n",
    "plt.legend()\n",
    "plt.show()"
   ]
  },
  {
   "cell_type": "code",
   "execution_count": 38,
   "metadata": {},
   "outputs": [
    {
     "data": {
      "image/png": "[encoded data removed]",
      "text/plain": [
       "<Figure size 432x288 with 1 Axes>"
      ]
     },
     "metadata": {
      "needs_background": "light"
     },
     "output_type": "display_data"
    }
   ],
   "source": [
    "LOAD = 100\n",
    "DURATION = 3\n",
    "SYSTEM = 'openmrs'\n",
    "AP = 'BLOB'\n",
    "\n",
    "# Fixed parameters\n",
    "CPU_TH = 10\n",
    "HEAP_TH = 10\n",
    "\n",
    "# X-axis parameter\n",
    "X_PARAM = 'numMsgs'\n",
    "\n",
    "dfTmpOrig = dfOrig[(dfOrig['load']==LOAD) &\n",
    "           (dfOrig['duration']==DURATION) &\n",
    "           (dfOrig['system']==SYSTEM) &\n",
    "           (dfOrig['type']==AP) &\n",
    "           (dfOrig['cpuTh'] == CPU_TH) &\n",
    "           (dfOrig['heapTh'] == HEAP_TH)\n",
    "          ]\n",
    "\n",
    "dfTmpRef = dfRef[(dfRef['load']==LOAD) &\n",
    "           (dfRef['duration']==DURATION) &\n",
    "           (dfRef['system']==SYSTEM) &\n",
    "           (dfRef['type']==AP) &\n",
    "           (dfRef['cpuTh'] == CPU_TH) &\n",
    "           (dfRef['heapTh'] == HEAP_TH)\n",
    "          ]\n",
    "\n",
    "plt.plot(dfTmpOrig[X_PARAM], dfTmpOrig['foundAP'], '-o', label='Original')\n",
    "plt.plot(dfTmpRef[X_PARAM], dfTmpRef['foundAP'], '-d', label='Refactored')\n",
    "plt.xlabel('Message Threshold')\n",
    "plt.ylabel('Found ' + AP)\n",
    "plt.title(str(LOAD) + ' - ' + str(DURATION) + ' | Th(CPU) = ' + str(CPU_TH) + ' | Th(Heap) = ' + str(HEAP_TH))\n",
    "plt.legend()\n",
    "plt.show()"
   ]
  },
  {
   "cell_type": "markdown",
   "metadata": {},
   "source": [
    "## TOB"
   ]
  },
  {
   "cell_type": "code",
   "execution_count": 39,
   "metadata": {},
   "outputs": [
    {
     "name": "stdout",
     "output_type": "stream",
     "text": [
      "### openmrs ###\n",
      "25-3 = 0(0)\n",
      "25-6 = 0(0)\n",
      "25-12 = 0(0)\n",
      "50-3 = 0(0)\n",
      "50-6 = 0(0)\n",
      "50-12 = 0(0)\n",
      "75-3 = 0(0)\n",
      "75-6 = 0(0)\n",
      "75-12 = 0(0)\n",
      "100-3 = 0(0)\n",
      "100-6 = 0(0)\n",
      "100-12 = 0(0)\n"
     ]
    }
   ],
   "source": [
    "AP = 'TOB'\n",
    "\n",
    "TIME_TH = 5\n",
    "\n",
    "for SYSTEM in ['openmrs']:\n",
    "    print('### ' + SYSTEM + ' ###')\n",
    "    for LOAD in [25, 50, 75, 100]:\n",
    "        for DURATION in [3, 6, 12]:\n",
    "            dfTmpO = dfOrig[(dfOrig['load']==LOAD) &\n",
    "                       (dfOrig['duration']==DURATION) &\n",
    "                       (dfOrig['type']==AP) &\n",
    "                       (dfOrig['system']==SYSTEM) &\n",
    "                       (dfOrig['methodTimeTh']==TIME_TH)\n",
    "                      ]\n",
    "            dfTmpR = dfRef[(dfRef['load']==LOAD) &\n",
    "                       (dfRef['duration']==DURATION) &\n",
    "                       (dfRef['type']==AP) &\n",
    "                       (dfRef['system']==SYSTEM) &\n",
    "                       (dfRef['methodTimeTh']==TIME_TH)\n",
    "                      ]\n",
    "            diff = dfTmpR['foundAP'].iloc[0] - dfTmpO['foundAP'].iloc[0]\n",
    "            print(str(LOAD) + '-' + str(DURATION) + ' = ' + str(dfTmpR['foundAP'].iloc[0]) + '(' + str(diff) + ')')"
   ]
  },
  {
   "cell_type": "code",
   "execution_count": 40,
   "metadata": {},
   "outputs": [
    {
     "data": {
      "image/png": "[encoded data removed]",
      "text/plain": [
       "<Figure size 432x288 with 1 Axes>"
      ]
     },
     "metadata": {
      "needs_background": "light"
     },
     "output_type": "display_data"
    }
   ],
   "source": [
    "LOAD = 100\n",
    "DURATION = 3\n",
    "AP = 'TOB'\n",
    "SYSTEM = 'openmrs'\n",
    "\n",
    "# X-axis parameter\n",
    "X_PARAM = 'methodTimeTh'\n",
    "\n",
    "dfTmpOrig = dfOrig[(dfOrig['load']==LOAD) &\n",
    "           (dfOrig['duration']==DURATION) &\n",
    "           (dfOrig['system']==SYSTEM) &\n",
    "           (dfOrig['type']==AP)\n",
    "          ]\n",
    "\n",
    "dfTmpRef = dfRef[(dfRef['load']==LOAD) &\n",
    "           (dfRef['duration']==DURATION) &\n",
    "           (dfRef['system']==SYSTEM) &\n",
    "           (dfRef['type']==AP)\n",
    "          ]\n",
    "\n",
    "plt.plot(dfTmpOrig[X_PARAM], dfTmpOrig['foundAP'], '-o', label='Original')\n",
    "plt.plot(dfTmpRef[X_PARAM], dfTmpRef['foundAP'], '-d', label='Refactored')\n",
    "plt.xlabel('Method Time Threshold')\n",
    "plt.ylabel('Found ' + AP)\n",
    "plt.title(str(LOAD) + ' - ' + str(DURATION))\n",
    "plt.legend()\n",
    "plt.show()"
   ]
  },
  {
   "cell_type": "markdown",
   "metadata": {},
   "source": [
    "## EST"
   ]
  },
  {
   "cell_type": "code",
   "execution_count": 41,
   "metadata": {},
   "outputs": [
    {
     "name": "stdout",
     "output_type": "stream",
     "text": [
      "### openmrs ###\n",
      "25-3 = 0(0)\n",
      "25-6 = 0(0)\n",
      "25-12 = 0(0)\n",
      "50-3 = 0(0)\n",
      "50-6 = 0(0)\n",
      "50-12 = 0(0)\n",
      "75-3 = 0(0)\n",
      "75-6 = 0(0)\n",
      "75-12 = 0(0)\n",
      "100-3 = 0(0)\n",
      "100-6 = 0(0)\n",
      "100-12 = 0(0)\n"
     ]
    }
   ],
   "source": [
    "AP = 'EST'\n",
    "\n",
    "MSGS_TH = 5\n",
    "\n",
    "for SYSTEM in ['openmrs']:\n",
    "    print('### ' + SYSTEM + ' ###')\n",
    "    for LOAD in [25, 50, 75, 100]:\n",
    "        for DURATION in [3, 6, 12]:\n",
    "            dfTmpO = dfOrig[(dfOrig['load']==LOAD) &\n",
    "                       (dfOrig['duration']==DURATION) &\n",
    "                       (dfOrig['type']==AP) &\n",
    "                       (dfOrig['system']==SYSTEM) &\n",
    "                       (dfOrig['numMsgs']==MSGS_TH)\n",
    "                      ]\n",
    "            dfTmpR = dfRef[(dfRef['load']==LOAD) &\n",
    "                       (dfRef['duration']==DURATION) &\n",
    "                       (dfRef['type']==AP) &\n",
    "                       (dfRef['system']==SYSTEM) &\n",
    "                       (dfRef['numMsgs']==MSGS_TH)\n",
    "                      ]\n",
    "            diff = dfTmpR['foundAP'].iloc[0] - dfTmpO['foundAP'].iloc[0]\n",
    "            print(str(LOAD) + '-' + str(DURATION) + ' = ' + str(dfTmpR['foundAP'].iloc[0]) + '(' + str(diff) + ')')"
   ]
  },
  {
   "cell_type": "code",
   "execution_count": 42,
   "metadata": {},
   "outputs": [
    {
     "data": {
      "image/png": "[encoded data removed]",
      "text/plain": [
       "<Figure size 432x288 with 1 Axes>"
      ]
     },
     "metadata": {
      "needs_background": "light"
     },
     "output_type": "display_data"
    }
   ],
   "source": [
    "LOAD = 25\n",
    "DURATION = 3\n",
    "AP = 'EST'\n",
    "SYSTEM = 'openmrs'\n",
    "\n",
    "# X-axis parameter\n",
    "X_PARAM = 'numMsgs'\n",
    "\n",
    "dfTmpOrig = dfOrig[(dfOrig['load']==LOAD) &\n",
    "           (dfOrig['duration']==DURATION) &\n",
    "           (dfOrig['system']==SYSTEM) &\n",
    "           (dfOrig['type']==AP)\n",
    "          ]\n",
    "\n",
    "dfTmpRef = dfRef[(dfRef['load']==LOAD) &\n",
    "           (dfRef['duration']==DURATION) &\n",
    "           (dfRef['system']==SYSTEM) &\n",
    "           (dfRef['type']==AP)\n",
    "          ]\n",
    "\n",
    "plt.plot(dfTmpOrig[X_PARAM], dfTmpOrig['foundAP'], '-o', label='Original')\n",
    "plt.plot(dfTmpRef[X_PARAM], dfTmpRef['foundAP'], '-d', label='Refactored')\n",
    "plt.xlabel('Message Offset [%]')\n",
    "plt.ylabel('Found ' + AP)\n",
    "plt.title(str(LOAD) + ' - ' + str(DURATION))\n",
    "plt.legend()\n",
    "plt.show()"
   ]
  },
  {
   "cell_type": "markdown",
   "metadata": {},
   "source": [
    "## EDA"
   ]
  },
  {
   "cell_type": "code",
   "execution_count": 43,
   "metadata": {},
   "outputs": [
    {
     "name": "stdout",
     "output_type": "stream",
     "text": [
      "### openmrs ###\n",
      "25-3 = 1(-1)\n",
      "25-6 = 0(-1)\n",
      "25-12 = 1(0)\n",
      "50-3 = 0(0)\n",
      "50-6 = 0(0)\n",
      "50-12 = 0(0)\n",
      "75-3 = 0(-1)\n",
      "75-6 = 1(0)\n",
      "75-12 = 0(0)\n",
      "100-3 = 1(0)\n",
      "100-6 = 0(0)\n",
      "100-12 = 0(0)\n"
     ]
    }
   ],
   "source": [
    "AP = 'EDA'\n",
    "\n",
    "GCED_TH = 5\n",
    "HEAP_TH = 10\n",
    "\n",
    "for SYSTEM in ['openmrs']:\n",
    "    print('### ' + SYSTEM + ' ###')\n",
    "    for LOAD in [25, 50, 75, 100]:\n",
    "        for DURATION in [3, 6, 12]:\n",
    "            dfTmpO = dfOrig[(dfOrig['load']==LOAD) &\n",
    "                       (dfOrig['duration']==DURATION) &\n",
    "                       (dfOrig['type']==AP) &\n",
    "                       (dfOrig['system']==SYSTEM) &\n",
    "                       (dfOrig['numGCedObjsTh']==GCED_TH) &\n",
    "                       (dfOrig['heapTh'] == HEAP_TH)\n",
    "                      ]\n",
    "            dfTmpR = dfRef[(dfRef['load']==LOAD) &\n",
    "                       (dfRef['duration']==DURATION) &\n",
    "                       (dfRef['type']==AP) &\n",
    "                       (dfRef['system']==SYSTEM) &\n",
    "                       (dfRef['numGCedObjsTh']==GCED_TH) &\n",
    "                       (dfRef['heapTh'] == HEAP_TH)\n",
    "                      ]\n",
    "            diff = dfTmpR['foundAP'].iloc[0] - dfTmpO['foundAP'].iloc[0]\n",
    "            print(str(LOAD) + '-' + str(DURATION) + ' = ' + str(dfTmpR['foundAP'].iloc[0]) + '(' + str(diff) + ')')"
   ]
  },
  {
   "cell_type": "code",
   "execution_count": 44,
   "metadata": {},
   "outputs": [
    {
     "data": {
      "image/png": "[encoded data removed]",
      "text/plain": [
       "<Figure size 432x288 with 1 Axes>"
      ]
     },
     "metadata": {
      "needs_background": "light"
     },
     "output_type": "display_data"
    }
   ],
   "source": [
    "LOAD = 25\n",
    "DURATION = 3\n",
    "AP = 'EDA'\n",
    "SYSTEM = 'openmrs'\n",
    "\n",
    "# Fixed parameters\n",
    "HEAP_TH = 10\n",
    "\n",
    "# X-axis parameter\n",
    "X_PARAM = 'numGCedObjsTh'\n",
    "\n",
    "dfTmpOrig = dfOrig[(dfOrig['load']==LOAD) &\n",
    "           (dfOrig['duration']==DURATION) &\n",
    "           (dfOrig['system']==SYSTEM) &\n",
    "           (dfOrig['type']==AP) &\n",
    "           (dfOrig['heapTh'] == HEAP_TH)\n",
    "          ]\n",
    "\n",
    "dfTmpRef = dfRef[(dfRef['load']==LOAD) &\n",
    "           (dfRef['duration']==DURATION) &\n",
    "           (dfRef['system']==SYSTEM) &\n",
    "           (dfRef['type']==AP) &\n",
    "           (dfRef['heapTh'] == HEAP_TH)\n",
    "          ]\n",
    "\n",
    "plt.plot(dfTmpOrig[X_PARAM], dfTmpOrig['foundAP'], '-o', label='Original')\n",
    "plt.plot(dfTmpRef[X_PARAM], dfTmpRef['foundAP'], '-d', label='Refactored')\n",
    "plt.xlabel('GCed Objects Offset [%]')\n",
    "plt.ylabel('Found ' + AP)\n",
    "plt.title(str(LOAD) + ' - ' + str(DURATION))\n",
    "plt.legend()\n",
    "plt.show()"
   ]
  },
  {
   "cell_type": "code",
   "execution_count": 45,
   "metadata": {},
   "outputs": [
    {
     "data": {
      "image/png": "[encoded data removed]",
      "text/plain": [
       "<Figure size 432x288 with 1 Axes>"
      ]
     },
     "metadata": {
      "needs_background": "light"
     },
     "output_type": "display_data"
    }
   ],
   "source": [
    "LOAD = 25\n",
    "DURATION = 3\n",
    "AP = 'EDA'\n",
    "SYSTEM = 'openmrs'\n",
    "\n",
    "# Fixed parameters\n",
    "GCED_TH = 5\n",
    "\n",
    "# X-axis parameter\n",
    "X_PARAM = 'heapTh'\n",
    "\n",
    "dfTmpOrig = dfOrig[(dfOrig['load']==LOAD) &\n",
    "           (dfOrig['duration']==DURATION) &\n",
    "           (dfOrig['system']==SYSTEM) &\n",
    "           (dfOrig['type']==AP) &\n",
    "           (dfOrig['numGCedObjsTh'] == GCED_TH)\n",
    "          ]\n",
    "\n",
    "dfTmpRef = dfRef[(dfRef['load']==LOAD) &\n",
    "           (dfRef['duration']==DURATION) &\n",
    "           (dfRef['system']==SYSTEM) &\n",
    "           (dfRef['type']==AP) &\n",
    "           (dfRef['numGCedObjsTh'] == GCED_TH)\n",
    "          ]\n",
    "\n",
    "plt.plot(dfTmpOrig[X_PARAM], dfTmpOrig['foundAP'], '-o', label='Original')\n",
    "plt.plot(dfTmpRef[X_PARAM], dfTmpRef['foundAP'], '-d', label='Refactored')\n",
    "plt.xlabel('Memory Threshold [%]')\n",
    "plt.ylabel('Found ' + AP)\n",
    "plt.title(str(LOAD) + ' - ' + str(DURATION))\n",
    "plt.legend()\n",
    "plt.show()"
   ]
  },
  {
   "cell_type": "code",
   "execution_count": null,
   "metadata": {},
   "outputs": [],
   "source": []
  },
  {
   "cell_type": "code",
   "execution_count": null,
   "metadata": {},
   "outputs": [],
   "source": []
  },
  {
   "cell_type": "code",
   "execution_count": null,
   "metadata": {},
   "outputs": [],
   "source": []
  },
  {
   "cell_type": "code",
   "execution_count": null,
   "metadata": {},
   "outputs": [],
   "source": []
  }
 ],
 "metadata": {
  "kernelspec": {
   "display_name": "Python 3 (ipykernel)",
   "language": "python",
   "name": "python3"
  },
  "language_info": {
   "codemirror_mode": {
    "name": "ipython",
    "version": 3
   },
   "file_extension": ".py",
   "mimetype": "text/x-python",
   "name": "python",
   "nbconvert_exporter": "python",
   "pygments_lexer": "ipython3",
   "version": "3.8.10"
  }
 },
 "nbformat": 4,
 "nbformat_minor": 4
}
