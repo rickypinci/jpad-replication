{
 "cells": [
  {
   "cell_type": "code",
   "execution_count": 6,
   "metadata": {},
   "outputs": [],
   "source": [
    "import pandas as pd\n",
    "import numpy as np\n",
    "import matplotlib.pyplot as plt\n",
    "\n",
    "import pylab\n",
    "import matplotlib.hatch\n",
    "from matplotlib.patches import Polygon"
   ]
  },
  {
   "cell_type": "code",
   "execution_count": 7,
   "metadata": {},
   "outputs": [],
   "source": [
    "# Add hatches needed for bar plots\n",
    "\n",
    "\n",
    "\n",
    "triangle = Polygon(\n",
    "    [[-0.3, -0.4], [0.3, -0.4], [0., 0.1]],\n",
    "    closed=True, fill=False).get_path()\n",
    "\n",
    "# Triangle hatch to use with the identifier 't'\n",
    "class TriangleHatch(matplotlib.hatch.Shapes):\n",
    "    filled = False\n",
    "    size = 1.0\n",
    "    path = triangle\n",
    "\n",
    "    def __init__(self, hatch, density):\n",
    "        self.num_rows = (hatch.count('t')) * density\n",
    "        self.shape_vertices = self.path.vertices\n",
    "        self.shape_codes = self.path.codes\n",
    "        matplotlib.hatch.Shapes.__init__(self, hatch, density)\n",
    "        \n",
    "        \n",
    "\n",
    "revTriangle = Polygon(\n",
    "    [[-0.3, 0.1], [0.3, 0.1], [0., -0.4]],\n",
    "    closed=True, fill=False).get_path()        \n",
    "        \n",
    "# Triangle hatch to use with the identifier 'v'\n",
    "class RevTriangleHatch(matplotlib.hatch.Shapes):\n",
    "    filled = False\n",
    "    size = 1.0\n",
    "    path = revTriangle\n",
    "\n",
    "    def __init__(self, hatch, density):\n",
    "        self.num_rows = (hatch.count('v')) * density\n",
    "        self.shape_vertices = self.path.vertices\n",
    "        self.shape_codes = self.path.codes\n",
    "        matplotlib.hatch.Shapes.__init__(self, hatch, density)\n",
    "        \n",
    "        \n",
    "        \n",
    "square = Polygon(\n",
    "    [[-0.3, -0.3], [0.3, -0.3], [0.3, 0.3], [-0.3, 0.3]],\n",
    "    closed=True, fill=False).get_path()\n",
    "\n",
    "# Square hatch to use with the identifier 's'\n",
    "class SquareHatch(matplotlib.hatch.Shapes):\n",
    "    filled = False\n",
    "    size = 1.0\n",
    "    path = square\n",
    "\n",
    "    def __init__(self, hatch, density):\n",
    "        self.num_rows = (hatch.count('s')) * density\n",
    "        self.shape_vertices = self.path.vertices\n",
    "        self.shape_codes = self.path.codes\n",
    "        matplotlib.hatch.Shapes.__init__(self, hatch, density)\n",
    "        \n",
    "        \n",
    "            \n",
    "diamond = Polygon(\n",
    "    [[0, 0], [0.2, 0.3], [0, 0.6], [-0.2, 0.3]],\n",
    "    closed=True, fill=False).get_path()\n",
    "\n",
    "# Diamond hatch to use with the identifier 'd'\n",
    "class DiamondHatch(matplotlib.hatch.Shapes):\n",
    "    filled = False\n",
    "    size = 1.0\n",
    "    path = diamond\n",
    "\n",
    "    def __init__(self, hatch, density):\n",
    "        self.num_rows = (hatch.count('d')) * density\n",
    "        self.shape_vertices = self.path.vertices\n",
    "        self.shape_codes = self.path.codes\n",
    "        matplotlib.hatch.Shapes.__init__(self, hatch, density)\n",
    "\n",
    "        \n",
    "              \n",
    "matplotlib.hatch._hatch_types.append(TriangleHatch)\n",
    "matplotlib.hatch._hatch_types.append(RevTriangleHatch)\n",
    "matplotlib.hatch._hatch_types.append(SquareHatch)\n",
    "matplotlib.hatch._hatch_types.append(DiamondHatch)"
   ]
  },
  {
   "cell_type": "markdown",
   "metadata": {},
   "source": [
    "# Create dataframes that have been collected separately"
   ]
  },
  {
   "cell_type": "markdown",
   "metadata": {},
   "source": [
    "This should be executed only if new data has been collected. Do __not__ run this cell every time."
   ]
  },
  {
   "cell_type": "code",
   "execution_count": 22,
   "metadata": {},
   "outputs": [],
   "source": [
    "dfList = []\n",
    "for l in [25,50,75,100]:\n",
    "    for d in [3,6,12]:\n",
    "        for s in ['petclinic', 'broadleaf', 'webgoat', 'ts-security-service', 'openmrs']:\n",
    "            dfList.append(pd.read_csv('./results/javaAP_results/original/results_'+str(l)+'-'+str(d)+'_'+str(s)+'.csv'))\n",
    "\n",
    "pd.concat(dfList).to_csv('./results/original.csv', index=False)\n",
    "\n",
    "dfList = []\n",
    "for l in [25,50,75,100]:\n",
    "    for d in [3,6,12]:\n",
    "        for s in ['openmrs']:\n",
    "            dfList.append(pd.read_csv('./results/javaAP_results/refactored/results_'+str(l)+'-'+str(d)+'_'+str(s)+'.csv'))\n",
    "\n",
    "pd.concat(dfList).to_csv('./results/refactored.csv', index=False)\n",
    "\n",
    "del dfList"
   ]
  },
  {
   "cell_type": "code",
   "execution_count": null,
   "metadata": {},
   "outputs": [],
   "source": []
  },
  {
   "cell_type": "code",
   "execution_count": null,
   "metadata": {},
   "outputs": [],
   "source": []
  },
  {
   "cell_type": "code",
   "execution_count": null,
   "metadata": {},
   "outputs": [],
   "source": []
  },
  {
   "cell_type": "code",
   "execution_count": null,
   "metadata": {},
   "outputs": [],
   "source": []
  },
  {
   "cell_type": "markdown",
   "metadata": {},
   "source": [
    "# Load dataframes"
   ]
  },
  {
   "cell_type": "code",
   "execution_count": 8,
   "metadata": {},
   "outputs": [],
   "source": [
    "# dfOrig1 = pd.read_csv('./results/original_all.csv')\n",
    "# dfOrig2 = pd.read_csv('./results/trainticket_10services.csv')\n",
    "# dfOrig2 = dfOrig2[dfOrig2['system'] == 'ts-security-service']\n",
    "# dfOrig = pd.concat([dfOrig1, dfOrig2])\n",
    "\n",
    "dfOrig = pd.read_csv('./results/original.csv')\n",
    "dfRef = pd.read_csv('./results/refactored.csv')"
   ]
  },
  {
   "cell_type": "code",
   "execution_count": null,
   "metadata": {},
   "outputs": [],
   "source": []
  },
  {
   "cell_type": "code",
   "execution_count": null,
   "metadata": {},
   "outputs": [],
   "source": []
  },
  {
   "cell_type": "code",
   "execution_count": null,
   "metadata": {},
   "outputs": [],
   "source": []
  },
  {
   "cell_type": "code",
   "execution_count": null,
   "metadata": {},
   "outputs": [],
   "source": []
  },
  {
   "cell_type": "markdown",
   "metadata": {},
   "source": [
    "# Results from original systems"
   ]
  },
  {
   "cell_type": "code",
   "execution_count": 9,
   "metadata": {},
   "outputs": [],
   "source": [
    "# General parameters\n",
    "FOLDER_IMG = './images/'\n",
    "CLASS_NAME = ['PetClinic', 'Broadleaf', 'WebGoat', 'ts-security-service', 'OpenMRS']\n",
    "SYSTEMS = ['petclinic', 'broadleaf', 'webgoat', 'ts-security-service', 'openmrs']\n",
    "COLORS = ['#1f77b4', '#ff7f0e', '#2ca02c', '#d62728', '#9467bd']\n",
    "STYLES = ['-o', '-^', '-v', '-s', '-d']\n",
    "SIZES = [20, 20, 20, 20, 20]\n",
    "LEGENDSIZE = 30\n",
    "FONT_SIZE = 14"
   ]
  },
  {
   "cell_type": "markdown",
   "metadata": {},
   "source": [
    "# Time Analysis"
   ]
  },
  {
   "cell_type": "code",
   "execution_count": 39,
   "metadata": {},
   "outputs": [
    {
     "name": "stdout",
     "output_type": "stream",
     "text": [
      "### petclinic ###\n",
      "25-3 = 0.5 sec\n",
      "25-6 = 0.6 sec\n",
      "25-12 = 8.2 sec\n",
      "50-3 = 8.1 sec\n",
      "50-6 = 7.9 sec\n",
      "50-12 = 8.2 sec\n",
      "75-3 = 0.5 sec\n",
      "75-6 = 8.0 sec\n",
      "75-12 = 7.9 sec\n",
      "100-3 = 7.7 sec\n",
      "100-6 = 7.4 sec\n",
      "100-12 = 7.2 sec\n",
      "Average Time = 6.0 sec\n",
      "\n",
      "### broadleaf ###\n",
      "25-3 = 1.4 sec\n",
      "25-6 = 1.6 sec\n",
      "25-12 = 2.1 sec\n",
      "50-3 = 1.5 sec\n",
      "50-6 = 1.9 sec\n",
      "50-12 = 2.3 sec\n",
      "75-3 = 1.4 sec\n",
      "75-6 = 2.0 sec\n",
      "75-12 = 2.4 sec\n",
      "100-3 = 1.5 sec\n",
      "100-6 = 1.9 sec\n",
      "100-12 = 2.5 sec\n",
      "Average Time = 1.9 sec\n",
      "\n",
      "### webgoat ###\n",
      "25-3 = 6.5 sec\n",
      "25-6 = 7.4 sec\n",
      "25-12 = 8.0 sec\n",
      "50-3 = 8.0 sec\n",
      "50-6 = 8.0 sec\n",
      "50-12 = 8.0 sec\n",
      "75-3 = 7.8 sec\n",
      "75-6 = 7.9 sec\n",
      "75-12 = 8.0 sec\n",
      "100-3 = 7.7 sec\n",
      "100-6 = 7.5 sec\n",
      "100-12 = 7.3 sec\n",
      "Average Time = 7.7 sec\n",
      "\n",
      "### ts-security-service ###\n",
      "25-3 = 0.4 sec\n",
      "25-6 = 0.6 sec\n",
      "25-12 = 0.6 sec\n",
      "50-3 = 0.4 sec\n",
      "50-6 = 0.6 sec\n",
      "50-12 = 0.6 sec\n",
      "75-3 = 0.5 sec\n",
      "75-6 = 0.6 sec\n",
      "75-12 = 0.6 sec\n",
      "100-3 = 0.6 sec\n",
      "100-6 = 0.7 sec\n",
      "100-12 = 0.7 sec\n",
      "Average Time = 0.6 sec\n",
      "\n",
      "### openmrs ###\n",
      "25-3 = 0.5 sec\n",
      "25-6 = 0.4 sec\n",
      "25-12 = 0.6 sec\n",
      "50-3 = 0.4 sec\n",
      "50-6 = 0.4 sec\n",
      "50-12 = 0.5 sec\n",
      "75-3 = 0.4 sec\n",
      "75-6 = 0.5 sec\n",
      "75-12 = 0.6 sec\n",
      "100-3 = 0.3 sec\n",
      "100-6 = 0.4 sec\n",
      "100-12 = 0.5 sec\n",
      "Average Time = 0.4 sec\n",
      "\n",
      "Total Average Time = 3.3 sec\n"
     ]
    }
   ],
   "source": [
    "tot = 0\n",
    "counter = 0\n",
    "for s in SYSTEMS:\n",
    "    totSys = 0\n",
    "    print('### ' + s + ' ###')\n",
    "    for l in [25, 50, 75, 100]:\n",
    "        for d in [3, 6, 12]:\n",
    "            t = 0\n",
    "            dfTmp = dfOrig[(dfOrig['load']==l) & (dfOrig['duration']==d) & (dfOrig['system']==s)]\n",
    "            t += dfTmp[(dfTmp['type']=='CTH') & (dfTmp['countTh']==5) & (dfTmp['cpuTh']==10) & (dfTmp['option']=='average')]['time'].iloc[0]\n",
    "            t += dfTmp[(dfTmp['type']=='EP') & (dfTmp['methodTimeTh']==5)]['time'].iloc[0]\n",
    "            t += dfTmp[(dfTmp['type']=='WCS') & (dfTmp['memoryUsageTh']==5)]['time'].iloc[0]\n",
    "            t += dfTmp[(dfTmp['type']=='BLOB') & (dfTmp['numMsgs']==5) & (dfTmp['cpuTh']==10) & (dfTmp['heapTh']==10)]['time'].iloc[0]\n",
    "            t += dfTmp[(dfTmp['type']=='TOB') & (dfTmp['methodTimeTh']==5)]['time'].iloc[0]\n",
    "            print(str(l) + '-' + str(d) + ' = {:.1f} sec'.format(t/1000))\n",
    "            totSys += t\n",
    "            tot += t\n",
    "            counter += 1\n",
    "    print('Average Time = {:.1f} sec'.format((totSys/12)/1000))\n",
    "    print()\n",
    "print('Total Average Time = {:.1f} sec'.format((tot/counter)/1000))"
   ]
  },
  {
   "cell_type": "code",
   "execution_count": null,
   "metadata": {},
   "outputs": [],
   "source": []
  },
  {
   "cell_type": "code",
   "execution_count": null,
   "metadata": {},
   "outputs": [],
   "source": []
  },
  {
   "cell_type": "code",
   "execution_count": null,
   "metadata": {},
   "outputs": [],
   "source": []
  },
  {
   "cell_type": "code",
   "execution_count": null,
   "metadata": {},
   "outputs": [],
   "source": []
  },
  {
   "cell_type": "markdown",
   "metadata": {},
   "source": [
    "## Legend for the paper"
   ]
  },
  {
   "cell_type": "code",
   "execution_count": 7,
   "metadata": {},
   "outputs": [
    {
     "data": {
      "image/png": "[encoded data removed]",
      "text/plain": [
       "<Figure size 432x288 with 1 Axes>"
      ]
     },
     "metadata": {
      "needs_background": "light"
     },
     "output_type": "display_data"
    },
    {
     "data": {
      "image/png": "[encoded data removed]",
      "text/plain": [
       "<Figure size 1533.6x57.6 with 1 Axes>"
      ]
     },
     "metadata": {
      "needs_background": "light"
     },
     "output_type": "display_data"
    }
   ],
   "source": [
    "# The figure plotted when this cell is executed is not important.\n",
    "# Please, look for the legend that is created at the specified path.\n",
    "\n",
    "numClasses = len(SYSTEMS)\n",
    "xList = range(10)\n",
    "\n",
    "fig = pylab.figure()\n",
    "figlegend = pylab.figure(figsize=(21.3,0.8))\n",
    "ax = fig.add_subplot(111)\n",
    "for idx in range(numClasses):\n",
    "    plt.plot(xList, [idx]*len(xList), STYLES[idx], lw=5, color=COLORS[idx], label=CLASS_NAME[idx], markersize=SIZES[idx])\n",
    "figlegend.legend(loc='center', ncol=numClasses, fontsize=LEGENDSIZE, facecolor='white', framealpha=1)\n",
    "#fig.show()\n",
    "figlegend.savefig(FOLDER_IMG + 'legend.png')"
   ]
  },
  {
   "cell_type": "markdown",
   "metadata": {},
   "source": [
    "## CTH"
   ]
  },
  {
   "cell_type": "code",
   "execution_count": 6,
   "metadata": {},
   "outputs": [
    {
     "name": "stdout",
     "output_type": "stream",
     "text": [
      "### broadleaf ###\n",
      "25-3 = 1\n",
      "25-6 = 1\n",
      "25-12 = 0\n",
      "50-3 = 1\n",
      "50-6 = 1\n",
      "50-12 = 1\n",
      "75-3 = 2\n",
      "75-6 = 1\n",
      "75-12 = 3\n",
      "100-3 = 3\n",
      "100-6 = 2\n",
      "100-12 = 1\n",
      "### openmrs ###\n",
      "25-3 = 2\n",
      "25-6 = 0\n",
      "25-12 = 0\n",
      "50-3 = 0\n",
      "50-6 = 0\n",
      "50-12 = 0\n",
      "75-3 = 1\n",
      "75-6 = 1\n",
      "75-12 = 0\n",
      "100-3 = 0\n",
      "100-6 = 0\n",
      "100-12 = 0\n",
      "### petclinic ###\n",
      "25-3 = 1\n",
      "25-6 = 2\n",
      "25-12 = 2\n",
      "50-3 = 1\n",
      "50-6 = 2\n",
      "50-12 = 2\n",
      "75-3 = 1\n",
      "75-6 = 1\n",
      "75-12 = 1\n",
      "100-3 = 1\n",
      "100-6 = 0\n",
      "100-12 = 1\n",
      "### webgoat ###\n",
      "25-3 = 3\n",
      "25-6 = 3\n",
      "25-12 = 4\n",
      "50-3 = 4\n",
      "50-6 = 4\n",
      "50-12 = 4\n",
      "75-3 = 3\n",
      "75-6 = 4\n",
      "75-12 = 4\n",
      "100-3 = 4\n",
      "100-6 = 4\n",
      "100-12 = 4\n",
      "### ts-security-service ###\n",
      "25-3 = 1\n",
      "25-6 = 1\n",
      "25-12 = 1\n",
      "50-3 = 1\n",
      "50-6 = 1\n",
      "50-12 = 1\n",
      "75-3 = 1\n",
      "75-6 = 1\n",
      "75-12 = 1\n",
      "100-3 = 1\n",
      "100-6 = 1\n",
      "100-12 = 1\n"
     ]
    }
   ],
   "source": [
    "AP = 'CTH'\n",
    "\n",
    "COUNT_TH = 5\n",
    "CPU_TH = 10\n",
    "OPTION = 'average'\n",
    "\n",
    "for SYSTEM in SYSTEMS:\n",
    "    print('### ' + SYSTEM + ' ###')\n",
    "    for LOAD in [25, 50, 75, 100]:\n",
    "        for DURATION in [3, 6, 12]:\n",
    "            dfTmp = dfOrig[(dfOrig['load']==LOAD) &\n",
    "                       (dfOrig['duration']==DURATION) &\n",
    "                       (dfOrig['type']==AP) &\n",
    "                       (dfOrig['system']==SYSTEM) &\n",
    "                       (dfOrig['countTh']==COUNT_TH) &\n",
    "                       (dfOrig['cpuTh']==CPU_TH) &\n",
    "                       (dfOrig['option']==OPTION)\n",
    "                      ]\n",
    "            print(str(LOAD) + '-' + str(DURATION) + ' = ' + str(dfTmp['foundAP'].iloc[0]))"
   ]
  },
  {
   "cell_type": "code",
   "execution_count": 18,
   "metadata": {},
   "outputs": [
    {
     "name": "stderr",
     "output_type": "stream",
     "text": [
      "/home/riccardo/.local/lib/python3.8/site-packages/matplotlib/cbook/__init__.py:2062: FutureWarning: Support for multi-dimensional indexing (e.g. `obj[:, None]`) is deprecated and will be removed in a future version.  Convert to a numpy array before indexing instead.\n",
      "  x[:, None]\n",
      "/home/riccardo/.local/lib/python3.8/site-packages/matplotlib/axes/_base.py:248: FutureWarning: Support for multi-dimensional indexing (e.g. `obj[:, None]`) is deprecated and will be removed in a future version.  Convert to a numpy array before indexing instead.\n",
      "  x = x[:, np.newaxis]\n",
      "/home/riccardo/.local/lib/python3.8/site-packages/matplotlib/axes/_base.py:250: FutureWarning: Support for multi-dimensional indexing (e.g. `obj[:, None]`) is deprecated and will be removed in a future version.  Convert to a numpy array before indexing instead.\n",
      "  y = y[:, np.newaxis]\n"
     ]
    },
    {
     "data": {
      "image/png": "[encoded data removed]",
      "text/plain": [
       "<Figure size 432x288 with 1 Axes>"
      ]
     },
     "metadata": {
      "needs_background": "light"
     },
     "output_type": "display_data"
    },
    {
     "name": "stdout",
     "output_type": "stream",
     "text": [
      "#countTh\tpetclinic\tbroadleaf\twebgoat\tts-security-service\topenmrs\n",
      "5\t1\t1\t3\t1\t2\n",
      "10\t1\t1\t3\t1\t1\n",
      "15\t1\t1\t3\t1\t1\n",
      "20\t1\t1\t3\t1\t1\n",
      "25\t0\t1\t3\t1\t1\n",
      "30\t0\t1\t3\t1\t1\n",
      "35\t0\t1\t0\t1\t1\n",
      "40\t0\t1\t0\t1\t1\n",
      "45\t0\t1\t0\t1\t1\n",
      "50\t0\t1\t0\t1\t1\n",
      "55\t0\t1\t0\t1\t1\n",
      "60\t0\t1\t0\t1\t1\n",
      "65\t0\t1\t0\t1\t1\n",
      "70\t0\t1\t0\t1\t1\n",
      "75\t0\t0\t0\t1\t1\n",
      "80\t0\t0\t0\t0\t1\n",
      "85\t0\t0\t0\t0\t1\n",
      "90\t0\t0\t0\t0\t1\n",
      "95\t0\t0\t0\t0\t0\n"
     ]
    }
   ],
   "source": [
    "LOAD = 25\n",
    "DURATION = 3\n",
    "AP = 'CTH'\n",
    "\n",
    "# Fixed parameters\n",
    "CPU_TH = 10\n",
    "OPTION = 'average'\n",
    "\n",
    "dfTmp = dfOrig[(dfOrig['load']==LOAD) &\n",
    "           (dfOrig['duration']==DURATION) &\n",
    "           (dfOrig['type']==AP) &\n",
    "           (dfOrig['cpuTh'] == CPU_TH) &\n",
    "           (dfOrig['option'] == OPTION)\n",
    "          ]\n",
    "\n",
    "for sys, stl, col in zip(SYSTEMS, STYLES, COLORS):\n",
    "    plt.plot(dfTmp[dfTmp['system']==sys]['countTh'], dfTmp[dfTmp['system']==sys]['foundAP'], stl, color=col, label=sys)\n",
    "plt.xticks(range(0,100,10), size=FONT_SIZE)\n",
    "plt.yticks(range(0,max(dfTmp['foundAP'])+1), size=FONT_SIZE)\n",
    "plt.xlabel('Count Offset [%]', size=FONT_SIZE)\n",
    "# plt.title(str(LOAD) + ' - ' + str(DURATION) + ' | Th(CPU) = ' + str(CPU_TH) + ' | Option = ' + OPTION)\n",
    "# plt.legend()\n",
    "plt.tight_layout()\n",
    "plt.savefig(FOLDER_IMG + str(AP) + '_' + str(LOAD) + '-' + str(DURATION) + '_cpu' + str(CPU_TH) + '_opt' + str(OPTION) + '.png')\n",
    "plt.show()\n",
    "\n",
    "\n",
    "\n",
    "X_AXIS = 'countTh'\n",
    "HEADER = '#' + X_AXIS + '\\t' + '\\t'.join(SYSTEMS)\n",
    "print(HEADER)\n",
    "for th in range(5,96,5):\n",
    "    string = str(th) + '\\t'\n",
    "    for sys in SYSTEMS:\n",
    "        string += str(dfTmp[(dfTmp['system']==sys) & (dfTmp[X_AXIS]==th)]['foundAP'].iloc[0])\n",
    "        if sys != SYSTEMS[-1]:\n",
    "            string += '\\t'\n",
    "    print(string)"
   ]
  },
  {
   "cell_type": "code",
   "execution_count": 17,
   "metadata": {},
   "outputs": [
    {
     "name": "stderr",
     "output_type": "stream",
     "text": [
      "/home/riccardo/.local/lib/python3.8/site-packages/matplotlib/cbook/__init__.py:2062: FutureWarning: Support for multi-dimensional indexing (e.g. `obj[:, None]`) is deprecated and will be removed in a future version.  Convert to a numpy array before indexing instead.\n",
      "  x[:, None]\n",
      "/home/riccardo/.local/lib/python3.8/site-packages/matplotlib/axes/_base.py:248: FutureWarning: Support for multi-dimensional indexing (e.g. `obj[:, None]`) is deprecated and will be removed in a future version.  Convert to a numpy array before indexing instead.\n",
      "  x = x[:, np.newaxis]\n",
      "/home/riccardo/.local/lib/python3.8/site-packages/matplotlib/axes/_base.py:250: FutureWarning: Support for multi-dimensional indexing (e.g. `obj[:, None]`) is deprecated and will be removed in a future version.  Convert to a numpy array before indexing instead.\n",
      "  y = y[:, np.newaxis]\n"
     ]
    },
    {
     "data": {
      "image/png": "[encoded data removed]",
      "text/plain": [
       "<Figure size 432x288 with 1 Axes>"
      ]
     },
     "metadata": {
      "needs_background": "light"
     },
     "output_type": "display_data"
    },
    {
     "name": "stdout",
     "output_type": "stream",
     "text": [
      "#cpuTh\tpetclinic\tbroadleaf\twebgoat\tts-security-service\topenmrs\n",
      "5\t1\t1\t3\t1\t2\n",
      "10\t1\t1\t3\t1\t2\n",
      "15\t1\t1\t3\t0\t2\n",
      "20\t1\t1\t3\t0\t2\n",
      "25\t1\t1\t3\t0\t2\n",
      "30\t1\t1\t3\t0\t0\n",
      "35\t1\t1\t3\t0\t0\n",
      "40\t1\t1\t3\t0\t0\n",
      "45\t1\t1\t3\t0\t0\n",
      "50\t1\t1\t3\t0\t0\n",
      "55\t1\t0\t3\t0\t0\n",
      "60\t1\t0\t3\t0\t0\n",
      "65\t1\t0\t3\t0\t0\n",
      "70\t1\t0\t0\t0\t0\n",
      "75\t1\t0\t0\t0\t0\n",
      "80\t0\t0\t0\t0\t0\n",
      "85\t0\t0\t0\t0\t0\n",
      "90\t0\t0\t0\t0\t0\n",
      "95\t0\t0\t0\t0\t0\n"
     ]
    }
   ],
   "source": [
    "LOAD = 25\n",
    "DURATION = 3\n",
    "AP = 'CTH'\n",
    "\n",
    "# Fixed parameters\n",
    "COUNT_TH = 5\n",
    "OPTION = 'average'\n",
    "\n",
    "dfTmp = dfOrig[(dfOrig['load']==LOAD) &\n",
    "           (dfOrig['duration']==DURATION) &\n",
    "           (dfOrig['type']==AP) &\n",
    "           (dfOrig['countTh'] == COUNT_TH) &\n",
    "           (dfOrig['option'] == OPTION)\n",
    "          ]\n",
    "\n",
    "for sys, stl, col in zip(SYSTEMS, STYLES, COLORS):\n",
    "    plt.plot(dfTmp[dfTmp['system']==sys]['cpuTh'], dfTmp[dfTmp['system']==sys]['foundAP'], stl, color=col, label=sys)\n",
    "plt.xticks(range(0,100,10), size=FONT_SIZE)\n",
    "plt.yticks(range(0,max(dfTmp['foundAP'])+1), size=FONT_SIZE)\n",
    "plt.xlabel('CPU Threshold [%]', size=FONT_SIZE)\n",
    "# plt.title(str(LOAD) + ' - ' + str(DURATION) + ' | Th(Count) = ' + str(COUNT_TH) + ' | Option = ' + OPTION)\n",
    "# plt.legend()\n",
    "plt.tight_layout()\n",
    "plt.savefig(FOLDER_IMG + str(AP) + '_' + str(LOAD) + '-' + str(DURATION) + '_count' + str(COUNT_TH) + '_opt' + str(OPTION) + '.png')\n",
    "plt.show()\n",
    "\n",
    "\n",
    "\n",
    "X_AXIS = 'cpuTh'\n",
    "HEADER = '#' + X_AXIS + '\\t' + '\\t'.join(SYSTEMS)\n",
    "print(HEADER)\n",
    "for th in range(5,96,5):\n",
    "    string = str(th) + '\\t'\n",
    "    for sys in SYSTEMS:\n",
    "        string += str(dfTmp[(dfTmp['system']==sys) & (dfTmp[X_AXIS]==th)]['foundAP'].iloc[0])\n",
    "        if sys != SYSTEMS[-1]:\n",
    "            string += '\\t'\n",
    "    print(string)"
   ]
  },
  {
   "cell_type": "code",
   "execution_count": 20,
   "metadata": {},
   "outputs": [
    {
     "data": {
      "image/png": "[encoded data removed]",
      "text/plain": [
       "<Figure size 432x288 with 1 Axes>"
      ]
     },
     "metadata": {
      "needs_background": "light"
     },
     "output_type": "display_data"
    },
    {
     "name": "stdout",
     "output_type": "stream",
     "text": [
      "#option\tpetclinic\tbroadleaf\twebgoat\tts-security-service\topenmrs\n",
      "min\t0\t1\t2\t1\t2\n",
      "max\t0\t1\t3\t1\t2\n",
      "average\t1\t1\t3\t1\t2\n"
     ]
    }
   ],
   "source": [
    "WIDTH = 0.1\n",
    "\n",
    "LOAD = 25\n",
    "DURATION = 3\n",
    "AP = 'CTH'\n",
    "\n",
    "# Fixed parameters\n",
    "COUNT_TH = 5\n",
    "CPU_TH = 10\n",
    "\n",
    "dfTmp = dfOrig[(dfOrig['load']==LOAD) &\n",
    "           (dfOrig['duration']==DURATION) &\n",
    "           (dfOrig['type']==AP) &\n",
    "           (dfOrig['countTh'] == COUNT_TH) &\n",
    "           (dfOrig['cpuTh'] == CPU_TH)\n",
    "          ]\n",
    "\n",
    "for sys, stl, col, pos, shade in zip(SYSTEMS, STYLES, COLORS, [-2.5*WIDTH, -1.5*WIDTH, -0.5*WIDTH, 0.5*WIDTH, 1.5*WIDTH], ['O', 't', 'v', 's', 'd']):\n",
    "    plt.bar([x+pos for x in [0,1,2]], dfTmp[dfTmp['system']==sys]['foundAP'], width=WIDTH, align='edge', color=col, hatch=shade, label=sys)\n",
    "plt.xticks([0,1,2], dfTmp['option'].unique(), size=FONT_SIZE)\n",
    "plt.yticks(range(0,max(dfTmp['foundAP'])+1), size=FONT_SIZE)\n",
    "plt.xlabel('Option', size=FONT_SIZE)\n",
    "# plt.title(str(LOAD) + ' - ' + str(DURATION) + ' | Th(Count) = ' + str(COUNT_TH) + ' | Th(CPU) = ' + str(CPU_TH))\n",
    "# plt.legend()\n",
    "plt.tight_layout()\n",
    "plt.savefig(FOLDER_IMG + str(AP) + '_' + str(LOAD) + '-' + str(DURATION) + '_cpu' + str(CPU_TH) + '_count' + str(COUNT_TH) + '.png')\n",
    "plt.show()\n",
    "\n",
    "\n",
    "\n",
    "X_AXIS = 'option'\n",
    "HEADER = '#' + X_AXIS + '\\t' + '\\t'.join(SYSTEMS)\n",
    "print(HEADER)\n",
    "for th in ['min', 'max', 'average']:\n",
    "    string = str(th) + '\\t'\n",
    "    for sys in SYSTEMS:\n",
    "        string += str(dfTmp[(dfTmp['system']==sys) & (dfTmp[X_AXIS]==th)]['foundAP'].iloc[0])\n",
    "        if sys != SYSTEMS[-1]:\n",
    "            string += '\\t'\n",
    "    print(string)"
   ]
  },
  {
   "cell_type": "markdown",
   "metadata": {},
   "source": [
    "## EP"
   ]
  },
  {
   "cell_type": "code",
   "execution_count": 21,
   "metadata": {},
   "outputs": [
    {
     "name": "stdout",
     "output_type": "stream",
     "text": [
      "### petclinic ###\n",
      "25-3 = 4\n",
      "25-6 = 4\n",
      "25-12 = 4\n",
      "50-3 = 4\n",
      "50-6 = 4\n",
      "50-12 = 4\n",
      "75-3 = 4\n",
      "75-6 = 4\n",
      "75-12 = 4\n",
      "100-3 = 4\n",
      "100-6 = 4\n",
      "100-12 = 4\n",
      "### broadleaf ###\n",
      "25-3 = 0\n",
      "25-6 = 0\n",
      "25-12 = 0\n",
      "50-3 = 0\n",
      "50-6 = 0\n",
      "50-12 = 0\n",
      "75-3 = 0\n",
      "75-6 = 0\n",
      "75-12 = 0\n",
      "100-3 = 0\n",
      "100-6 = 0\n",
      "100-12 = 0\n",
      "### webgoat ###\n",
      "25-3 = 6\n",
      "25-6 = 6\n",
      "25-12 = 7\n",
      "50-3 = 7\n",
      "50-6 = 7\n",
      "50-12 = 7\n",
      "75-3 = 6\n",
      "75-6 = 7\n",
      "75-12 = 7\n",
      "100-3 = 7\n",
      "100-6 = 7\n",
      "100-12 = 7\n",
      "### ts-security-service ###\n",
      "25-3 = 0\n",
      "25-6 = 2\n",
      "25-12 = 2\n",
      "50-3 = 0\n",
      "50-6 = 0\n",
      "50-12 = 2\n",
      "75-3 = 2\n",
      "75-6 = 2\n",
      "75-12 = 2\n",
      "100-3 = 3\n",
      "100-6 = 2\n",
      "100-12 = 2\n",
      "### openmrs ###\n",
      "25-3 = 3\n",
      "25-6 = 0\n",
      "25-12 = 0\n",
      "50-3 = 1\n",
      "50-6 = 1\n",
      "50-12 = 1\n",
      "75-3 = 2\n",
      "75-6 = 2\n",
      "75-12 = 1\n",
      "100-3 = 2\n",
      "100-6 = 1\n",
      "100-12 = 1\n"
     ]
    }
   ],
   "source": [
    "AP = 'EP'\n",
    "\n",
    "TIME_TH = 5\n",
    "\n",
    "for SYSTEM in SYSTEMS:\n",
    "    print('### ' + SYSTEM + ' ###')\n",
    "    for LOAD in [25, 50, 75, 100]:\n",
    "        for DURATION in [3, 6, 12]:\n",
    "            dfTmp = dfOrig[(dfOrig['load']==LOAD) &\n",
    "                       (dfOrig['duration']==DURATION) &\n",
    "                       (dfOrig['type']==AP) &\n",
    "                       (dfOrig['system']==SYSTEM) &\n",
    "                       (dfOrig['methodTimeTh']==TIME_TH)\n",
    "                      ]\n",
    "            print(str(LOAD) + '-' + str(DURATION) + ' = ' + str(dfTmp['foundAP'].iloc[0]))"
   ]
  },
  {
   "cell_type": "code",
   "execution_count": 22,
   "metadata": {},
   "outputs": [
    {
     "name": "stderr",
     "output_type": "stream",
     "text": [
      "/home/riccardo/.local/lib/python3.8/site-packages/matplotlib/cbook/__init__.py:2062: FutureWarning: Support for multi-dimensional indexing (e.g. `obj[:, None]`) is deprecated and will be removed in a future version.  Convert to a numpy array before indexing instead.\n",
      "  x[:, None]\n",
      "/home/riccardo/.local/lib/python3.8/site-packages/matplotlib/axes/_base.py:248: FutureWarning: Support for multi-dimensional indexing (e.g. `obj[:, None]`) is deprecated and will be removed in a future version.  Convert to a numpy array before indexing instead.\n",
      "  x = x[:, np.newaxis]\n",
      "/home/riccardo/.local/lib/python3.8/site-packages/matplotlib/axes/_base.py:250: FutureWarning: Support for multi-dimensional indexing (e.g. `obj[:, None]`) is deprecated and will be removed in a future version.  Convert to a numpy array before indexing instead.\n",
      "  y = y[:, np.newaxis]\n"
     ]
    },
    {
     "data": {
      "image/png": "[encoded data removed]",
      "text/plain": [
       "<Figure size 432x288 with 1 Axes>"
      ]
     },
     "metadata": {
      "needs_background": "light"
     },
     "output_type": "display_data"
    },
    {
     "name": "stderr",
     "output_type": "stream",
     "text": [
      "/home/riccardo/.local/lib/python3.8/site-packages/matplotlib/cbook/__init__.py:2062: FutureWarning: Support for multi-dimensional indexing (e.g. `obj[:, None]`) is deprecated and will be removed in a future version.  Convert to a numpy array before indexing instead.\n",
      "  x[:, None]\n",
      "/home/riccardo/.local/lib/python3.8/site-packages/matplotlib/axes/_base.py:248: FutureWarning: Support for multi-dimensional indexing (e.g. `obj[:, None]`) is deprecated and will be removed in a future version.  Convert to a numpy array before indexing instead.\n",
      "  x = x[:, np.newaxis]\n",
      "/home/riccardo/.local/lib/python3.8/site-packages/matplotlib/axes/_base.py:250: FutureWarning: Support for multi-dimensional indexing (e.g. `obj[:, None]`) is deprecated and will be removed in a future version.  Convert to a numpy array before indexing instead.\n",
      "  y = y[:, np.newaxis]\n"
     ]
    },
    {
     "name": "stdout",
     "output_type": "stream",
     "text": [
      "#methodTimeTh\tpetclinic\tbroadleaf\twebgoat\tts-security-service\topenmrs\n",
      "5\t4\t0\t6\t0\t3\n",
      "10\t4\t0\t6\t0\t2\n",
      "15\t4\t0\t6\t0\t0\n",
      "20\t4\t0\t3\t0\t0\n",
      "25\t4\t0\t3\t0\t0\n",
      "30\t4\t0\t0\t0\t0\n",
      "35\t4\t0\t0\t0\t0\n",
      "40\t4\t0\t0\t0\t0\n",
      "45\t4\t0\t0\t0\t0\n",
      "50\t4\t0\t0\t0\t0\n",
      "55\t4\t0\t0\t0\t0\n",
      "60\t4\t0\t0\t0\t0\n",
      "65\t1\t0\t0\t0\t0\n",
      "70\t0\t0\t0\t0\t0\n",
      "75\t0\t0\t0\t0\t0\n",
      "80\t0\t0\t0\t0\t0\n",
      "85\t0\t0\t0\t0\t0\n",
      "90\t0\t0\t0\t0\t0\n",
      "95\t0\t0\t0\t0\t0\n"
     ]
    },
    {
     "data": {
      "image/png": "[encoded data removed]",
      "text/plain": [
       "<Figure size 432x288 with 1 Axes>"
      ]
     },
     "metadata": {
      "needs_background": "light"
     },
     "output_type": "display_data"
    },
    {
     "name": "stdout",
     "output_type": "stream",
     "text": [
      "#methodTimeTh\tpetclinic\tbroadleaf\twebgoat\tts-security-service\topenmrs\n",
      "5\t4\t0\t7\t2\t1\n",
      "10\t4\t0\t5\t2\t1\n",
      "15\t4\t0\t4\t2\t1\n",
      "20\t4\t0\t0\t2\t0\n",
      "25\t4\t0\t0\t2\t0\n",
      "30\t4\t0\t0\t2\t0\n",
      "35\t4\t0\t0\t1\t0\n",
      "40\t4\t0\t0\t1\t0\n",
      "45\t4\t0\t0\t0\t0\n",
      "50\t4\t0\t0\t0\t0\n",
      "55\t4\t0\t0\t0\t0\n",
      "60\t2\t0\t0\t0\t0\n",
      "65\t0\t0\t0\t0\t0\n",
      "70\t0\t0\t0\t0\t0\n",
      "75\t0\t0\t0\t0\t0\n",
      "80\t0\t0\t0\t0\t0\n",
      "85\t0\t0\t0\t0\t0\n",
      "90\t0\t0\t0\t0\t0\n",
      "95\t0\t0\t0\t0\t0\n"
     ]
    }
   ],
   "source": [
    "LOADS = [25, 100]\n",
    "DURATIONS = [3, 12]\n",
    "AP = 'EP'\n",
    "\n",
    "for LOAD, DURATION in zip(LOADS, DURATIONS):\n",
    "    dfTmp = dfOrig[(dfOrig['load']==LOAD) &\n",
    "               (dfOrig['duration']==DURATION) &\n",
    "               (dfOrig['type']==AP)\n",
    "              ]\n",
    "\n",
    "    for sys, stl, col in zip(SYSTEMS, STYLES, COLORS):\n",
    "        plt.plot(dfTmp[dfTmp['system']==sys]['methodTimeTh'], dfTmp[dfTmp['system']==sys]['foundAP'], stl, color=col, label=sys)\n",
    "    plt.xticks(range(0,100,10), size=FONT_SIZE)\n",
    "    plt.yticks(range(0,max(dfTmp['foundAP'])+1), size=FONT_SIZE)\n",
    "    plt.xlabel('Execution Time Offset [%]', size=FONT_SIZE)\n",
    "    # plt.title(str(LOAD) + ' - ' + str(DURATION))\n",
    "    # plt.legend()\n",
    "    plt.tight_layout()\n",
    "    plt.savefig(FOLDER_IMG + str(AP) + '_' + str(LOAD) + '-' + str(DURATION) + '.png')\n",
    "    plt.show()\n",
    "    \n",
    "    \n",
    "    \n",
    "    X_AXIS = 'methodTimeTh'\n",
    "    HEADER = '#' + X_AXIS + '\\t' + '\\t'.join(SYSTEMS)\n",
    "    print(HEADER)\n",
    "    for th in range(5,96,5):\n",
    "        string = str(th) + '\\t'\n",
    "        for sys in SYSTEMS:\n",
    "            string += str(dfTmp[(dfTmp['system']==sys) & (dfTmp[X_AXIS]==th)]['foundAP'].iloc[0])\n",
    "            if sys != SYSTEMS[-1]:\n",
    "                string += '\\t'\n",
    "        print(string)"
   ]
  },
  {
   "cell_type": "markdown",
   "metadata": {},
   "source": [
    "## WCS"
   ]
  },
  {
   "cell_type": "code",
   "execution_count": 23,
   "metadata": {},
   "outputs": [
    {
     "name": "stdout",
     "output_type": "stream",
     "text": [
      "### petclinic ###\n",
      "25-3 = 0\n",
      "25-6 = 0\n",
      "25-12 = 1\n",
      "50-3 = 1\n",
      "50-6 = 1\n",
      "50-12 = 1\n",
      "75-3 = 1\n",
      "75-6 = 0\n",
      "75-12 = 1\n",
      "100-3 = 1\n",
      "100-6 = 0\n",
      "100-12 = 1\n",
      "### broadleaf ###\n",
      "25-3 = 0\n",
      "25-6 = 0\n",
      "25-12 = 0\n",
      "50-3 = 0\n",
      "50-6 = 0\n",
      "50-12 = 0\n",
      "75-3 = 0\n",
      "75-6 = 0\n",
      "75-12 = 0\n",
      "100-3 = 0\n",
      "100-6 = 0\n",
      "100-12 = 0\n",
      "### webgoat ###\n",
      "25-3 = 0\n",
      "25-6 = 0\n",
      "25-12 = 0\n",
      "50-3 = 2\n",
      "50-6 = 1\n",
      "50-12 = 2\n",
      "75-3 = 1\n",
      "75-6 = 2\n",
      "75-12 = 2\n",
      "100-3 = 2\n",
      "100-6 = 2\n",
      "100-12 = 2\n",
      "### ts-security-service ###\n",
      "25-3 = 0\n",
      "25-6 = 0\n",
      "25-12 = 0\n",
      "50-3 = 0\n",
      "50-6 = 0\n",
      "50-12 = 0\n",
      "75-3 = 0\n",
      "75-6 = 0\n",
      "75-12 = 0\n",
      "100-3 = 2\n",
      "100-6 = 0\n",
      "100-12 = 0\n",
      "### openmrs ###\n",
      "25-3 = 2\n",
      "25-6 = 0\n",
      "25-12 = 1\n",
      "50-3 = 0\n",
      "50-6 = 0\n",
      "50-12 = 0\n",
      "75-3 = 1\n",
      "75-6 = 1\n",
      "75-12 = 0\n",
      "100-3 = 0\n",
      "100-6 = 0\n",
      "100-12 = 0\n"
     ]
    }
   ],
   "source": [
    "AP = 'WCS'\n",
    "\n",
    "MEM_TH = 5\n",
    "\n",
    "for SYSTEM in SYSTEMS:\n",
    "    print('### ' + SYSTEM + ' ###')\n",
    "    for LOAD in [25, 50, 75, 100]:\n",
    "        for DURATION in [3, 6, 12]:\n",
    "            dfTmp = dfOrig[(dfOrig['load']==LOAD) &\n",
    "                       (dfOrig['duration']==DURATION) &\n",
    "                       (dfOrig['type']==AP) &\n",
    "                       (dfOrig['system']==SYSTEM) &\n",
    "                       (dfOrig['memoryUsageTh']==MEM_TH)\n",
    "                      ]\n",
    "            print(str(LOAD) + '-' + str(DURATION) + ' = ' + str(dfTmp['foundAP'].iloc[0]))"
   ]
  },
  {
   "cell_type": "code",
   "execution_count": 23,
   "metadata": {
    "scrolled": false
   },
   "outputs": [
    {
     "name": "stderr",
     "output_type": "stream",
     "text": [
      "/home/riccardo/.local/lib/python3.8/site-packages/matplotlib/cbook/__init__.py:2062: FutureWarning: Support for multi-dimensional indexing (e.g. `obj[:, None]`) is deprecated and will be removed in a future version.  Convert to a numpy array before indexing instead.\n",
      "  x[:, None]\n",
      "/home/riccardo/.local/lib/python3.8/site-packages/matplotlib/axes/_base.py:248: FutureWarning: Support for multi-dimensional indexing (e.g. `obj[:, None]`) is deprecated and will be removed in a future version.  Convert to a numpy array before indexing instead.\n",
      "  x = x[:, np.newaxis]\n",
      "/home/riccardo/.local/lib/python3.8/site-packages/matplotlib/axes/_base.py:250: FutureWarning: Support for multi-dimensional indexing (e.g. `obj[:, None]`) is deprecated and will be removed in a future version.  Convert to a numpy array before indexing instead.\n",
      "  y = y[:, np.newaxis]\n"
     ]
    },
    {
     "data": {
      "image/png": "[encoded data removed]",
      "text/plain": [
       "<Figure size 432x288 with 1 Axes>"
      ]
     },
     "metadata": {
      "needs_background": "light"
     },
     "output_type": "display_data"
    },
    {
     "name": "stderr",
     "output_type": "stream",
     "text": [
      "/home/riccardo/.local/lib/python3.8/site-packages/matplotlib/cbook/__init__.py:2062: FutureWarning: Support for multi-dimensional indexing (e.g. `obj[:, None]`) is deprecated and will be removed in a future version.  Convert to a numpy array before indexing instead.\n",
      "  x[:, None]\n",
      "/home/riccardo/.local/lib/python3.8/site-packages/matplotlib/axes/_base.py:248: FutureWarning: Support for multi-dimensional indexing (e.g. `obj[:, None]`) is deprecated and will be removed in a future version.  Convert to a numpy array before indexing instead.\n",
      "  x = x[:, np.newaxis]\n",
      "/home/riccardo/.local/lib/python3.8/site-packages/matplotlib/axes/_base.py:250: FutureWarning: Support for multi-dimensional indexing (e.g. `obj[:, None]`) is deprecated and will be removed in a future version.  Convert to a numpy array before indexing instead.\n",
      "  y = y[:, np.newaxis]\n"
     ]
    },
    {
     "name": "stdout",
     "output_type": "stream",
     "text": [
      "#memoryUsageTh\tpetclinic\tbroadleaf\twebgoat\tts-security-service\topenmrs\n",
      "5\t0\t0\t0\t0\t2\n",
      "10\t0\t0\t0\t0\t2\n",
      "15\t0\t0\t0\t0\t2\n",
      "20\t0\t0\t0\t0\t2\n",
      "25\t0\t0\t0\t0\t2\n",
      "30\t0\t0\t0\t0\t0\n",
      "35\t0\t0\t0\t0\t0\n",
      "40\t0\t0\t0\t0\t0\n",
      "45\t0\t0\t0\t0\t0\n",
      "50\t0\t0\t0\t0\t0\n",
      "55\t0\t0\t0\t0\t0\n",
      "60\t0\t0\t0\t0\t0\n",
      "65\t0\t0\t0\t0\t0\n",
      "70\t0\t0\t0\t0\t0\n",
      "75\t0\t0\t0\t0\t0\n",
      "80\t0\t0\t0\t0\t0\n",
      "85\t0\t0\t0\t0\t0\n",
      "90\t0\t0\t0\t0\t0\n",
      "95\t0\t0\t0\t0\t0\n"
     ]
    },
    {
     "data": {
      "image/png": "[encoded data removed]",
      "text/plain": [
       "<Figure size 432x288 with 1 Axes>"
      ]
     },
     "metadata": {
      "needs_background": "light"
     },
     "output_type": "display_data"
    },
    {
     "name": "stdout",
     "output_type": "stream",
     "text": [
      "#memoryUsageTh\tpetclinic\tbroadleaf\twebgoat\tts-security-service\topenmrs\n",
      "5\t0\t0\t2\t0\t1\n",
      "10\t0\t0\t2\t0\t1\n",
      "15\t0\t0\t2\t0\t1\n",
      "20\t0\t0\t0\t0\t1\n",
      "25\t0\t0\t0\t0\t1\n",
      "30\t0\t0\t0\t0\t1\n",
      "35\t0\t0\t0\t0\t0\n",
      "40\t0\t0\t0\t0\t0\n",
      "45\t0\t0\t0\t0\t0\n",
      "50\t0\t0\t0\t0\t0\n",
      "55\t0\t0\t0\t0\t0\n",
      "60\t0\t0\t0\t0\t0\n",
      "65\t0\t0\t0\t0\t0\n",
      "70\t0\t0\t0\t0\t0\n",
      "75\t0\t0\t0\t0\t0\n",
      "80\t0\t0\t0\t0\t0\n",
      "85\t0\t0\t0\t0\t0\n",
      "90\t0\t0\t0\t0\t0\n",
      "95\t0\t0\t0\t0\t0\n"
     ]
    }
   ],
   "source": [
    "LOADS = [25, 75]\n",
    "DURATIONS = [3, 6]\n",
    "AP = 'WCS'\n",
    "\n",
    "for LOAD, DURATION in zip(LOADS, DURATIONS):\n",
    "    dfTmp = dfOrig[(dfOrig['load']==LOAD) &\n",
    "               (dfOrig['duration']==DURATION) &\n",
    "               (dfOrig['type']==AP)\n",
    "              ]\n",
    "\n",
    "    for sys, stl, col in zip(SYSTEMS, STYLES, COLORS):\n",
    "        plt.plot(dfTmp[dfTmp['system']==sys]['memoryUsageTh'], dfTmp[dfTmp['system']==sys]['foundAP'], stl, color=col, label=sys)\n",
    "    plt.xticks(range(0,100,10), size=FONT_SIZE)\n",
    "    plt.yticks(range(0,max(dfTmp['foundAP'])+1), size=FONT_SIZE)\n",
    "    plt.xlabel('Memory Usage Offset [%]', size=FONT_SIZE)\n",
    "    # plt.title(str(LOAD) + ' - ' + str(DURATION))\n",
    "    # plt.legend()\n",
    "    plt.tight_layout()\n",
    "    plt.savefig(FOLDER_IMG + str(AP) + '_' + str(LOAD) + '-' + str(DURATION) + '.png')\n",
    "    plt.show()\n",
    "    \n",
    "    \n",
    "    \n",
    "    X_AXIS = 'memoryUsageTh'\n",
    "    HEADER = '#' + X_AXIS + '\\t' + '\\t'.join(SYSTEMS)\n",
    "    print(HEADER)\n",
    "    for th in range(5,96,5):\n",
    "        string = str(th) + '\\t'\n",
    "        for sys in SYSTEMS:\n",
    "            string += str(dfTmp[(dfTmp['system']==sys) & (dfTmp[X_AXIS]==th)]['foundAP'].iloc[0])\n",
    "            if sys != SYSTEMS[-1]:\n",
    "                string += '\\t'\n",
    "        print(string)"
   ]
  },
  {
   "cell_type": "markdown",
   "metadata": {},
   "source": [
    "## BLOB"
   ]
  },
  {
   "cell_type": "code",
   "execution_count": 8,
   "metadata": {},
   "outputs": [
    {
     "name": "stdout",
     "output_type": "stream",
     "text": [
      "### petclinic ###\n",
      "25-3 = 7\n",
      "25-6 = 7\n",
      "25-12 = 7\n",
      "50-3 = 7\n",
      "50-6 = 7\n",
      "50-12 = 7\n",
      "75-3 = 7\n",
      "75-6 = 7\n",
      "75-12 = 7\n",
      "100-3 = 7\n",
      "100-6 = 7\n",
      "100-12 = 7\n",
      "### broadleaf ###\n",
      "25-3 = 3\n",
      "25-6 = 3\n",
      "25-12 = 2\n",
      "50-3 = 6\n",
      "50-6 = 4\n",
      "50-12 = 4\n",
      "75-3 = 6\n",
      "75-6 = 6\n",
      "75-12 = 7\n",
      "100-3 = 7\n",
      "100-6 = 5\n",
      "100-12 = 6\n",
      "### webgoat ###\n",
      "25-3 = 5\n",
      "25-6 = 5\n",
      "25-12 = 6\n",
      "50-3 = 5\n",
      "50-6 = 5\n",
      "50-12 = 5\n",
      "75-3 = 5\n",
      "75-6 = 5\n",
      "75-12 = 5\n",
      "100-3 = 5\n",
      "100-6 = 5\n",
      "100-12 = 5\n",
      "### ts-security-service ###\n",
      "25-3 = 1\n",
      "25-6 = 1\n",
      "25-12 = 1\n",
      "50-3 = 1\n",
      "50-6 = 1\n",
      "50-12 = 1\n",
      "75-3 = 1\n",
      "75-6 = 1\n",
      "75-12 = 1\n",
      "100-3 = 1\n",
      "100-6 = 1\n",
      "100-12 = 1\n",
      "### openmrs ###\n",
      "25-3 = 2\n",
      "25-6 = 1\n",
      "25-12 = 1\n",
      "50-3 = 1\n",
      "50-6 = 1\n",
      "50-12 = 1\n",
      "75-3 = 3\n",
      "75-6 = 3\n",
      "75-12 = 1\n",
      "100-3 = 3\n",
      "100-6 = 1\n",
      "100-12 = 1\n"
     ]
    }
   ],
   "source": [
    "AP = 'BLOB'\n",
    "\n",
    "MSG_TH = 5\n",
    "CPU_TH = 10\n",
    "HEAP_TH = 10\n",
    "\n",
    "for SYSTEM in SYSTEMS:\n",
    "    print('### ' + SYSTEM + ' ###')\n",
    "    for LOAD in [25, 50, 75, 100]:\n",
    "        for DURATION in [3, 6, 12]:\n",
    "            dfTmp = dfOrig[(dfOrig['load']==LOAD) &\n",
    "                       (dfOrig['duration']==DURATION) &\n",
    "                       (dfOrig['type']==AP) &\n",
    "                       (dfOrig['system']==SYSTEM) &\n",
    "                       (dfOrig['numMsgs']==MSG_TH) &\n",
    "                       (dfOrig['cpuTh']==CPU_TH) &\n",
    "                       (dfOrig['heapTh']==HEAP_TH)\n",
    "                      ]\n",
    "            print(str(LOAD) + '-' + str(DURATION) + ' = ' + str(dfTmp['foundAP'].iloc[0]))"
   ]
  },
  {
   "cell_type": "code",
   "execution_count": 25,
   "metadata": {},
   "outputs": [
    {
     "name": "stderr",
     "output_type": "stream",
     "text": [
      "/home/riccardo/.local/lib/python3.8/site-packages/matplotlib/cbook/__init__.py:2062: FutureWarning: Support for multi-dimensional indexing (e.g. `obj[:, None]`) is deprecated and will be removed in a future version.  Convert to a numpy array before indexing instead.\n",
      "  x[:, None]\n",
      "/home/riccardo/.local/lib/python3.8/site-packages/matplotlib/axes/_base.py:248: FutureWarning: Support for multi-dimensional indexing (e.g. `obj[:, None]`) is deprecated and will be removed in a future version.  Convert to a numpy array before indexing instead.\n",
      "  x = x[:, np.newaxis]\n",
      "/home/riccardo/.local/lib/python3.8/site-packages/matplotlib/axes/_base.py:250: FutureWarning: Support for multi-dimensional indexing (e.g. `obj[:, None]`) is deprecated and will be removed in a future version.  Convert to a numpy array before indexing instead.\n",
      "  y = y[:, np.newaxis]\n"
     ]
    },
    {
     "data": {
      "image/png": "[encoded data removed]",
      "text/plain": [
       "<Figure size 432x288 with 1 Axes>"
      ]
     },
     "metadata": {
      "needs_background": "light"
     },
     "output_type": "display_data"
    },
    {
     "name": "stdout",
     "output_type": "stream",
     "text": [
      "#cpuTh\tpetclinic\tbroadleaf\twebgoat\tts-security-service\topenmrs\n",
      "5\t7\t3\t5\t1\t2\n",
      "10\t7\t3\t5\t1\t2\n",
      "15\t7\t3\t5\t0\t2\n",
      "20\t7\t3\t5\t0\t2\n",
      "25\t7\t3\t5\t0\t2\n",
      "30\t7\t3\t5\t0\t2\n",
      "35\t7\t3\t5\t0\t2\n",
      "40\t7\t3\t5\t0\t2\n",
      "45\t7\t3\t5\t0\t2\n",
      "50\t7\t3\t5\t0\t2\n",
      "55\t7\t0\t5\t0\t2\n",
      "60\t7\t0\t5\t0\t2\n",
      "65\t7\t0\t5\t0\t2\n",
      "70\t7\t0\t5\t0\t2\n",
      "75\t7\t0\t5\t0\t2\n",
      "80\t7\t0\t5\t0\t2\n",
      "85\t7\t0\t5\t0\t2\n",
      "90\t7\t0\t5\t0\t2\n",
      "95\t7\t0\t5\t0\t2\n"
     ]
    }
   ],
   "source": [
    "LOAD = 25\n",
    "DURATION = 3\n",
    "AP = 'BLOB'\n",
    "\n",
    "# Fixed parameters\n",
    "HEAP_TH = 10\n",
    "MSG_TH = 5\n",
    "\n",
    "dfTmp = dfOrig[(dfOrig['load']==LOAD) &\n",
    "           (dfOrig['duration']==DURATION) &\n",
    "           (dfOrig['type']==AP) &\n",
    "           (dfOrig['heapTh'] == HEAP_TH) &\n",
    "           (dfOrig['numMsgs'] == MSG_TH)\n",
    "          ]\n",
    "\n",
    "for sys, stl, col in zip(SYSTEMS, STYLES, COLORS):\n",
    "    plt.plot(dfTmp[dfTmp['system']==sys]['cpuTh'], dfTmp[dfTmp['system']==sys]['foundAP'], stl, color=col, label=sys)\n",
    "plt.xticks(range(0,100,10), size=FONT_SIZE)\n",
    "plt.yticks(range(0,max(dfTmp['foundAP'])+1), size=FONT_SIZE)\n",
    "plt.xlabel('CPU Threshold [%]', size=FONT_SIZE)\n",
    "# plt.title(str(LOAD) + ' - ' + str(DURATION) + ' | Th(Heap) = ' + str(HEAP_TH) + ' | Th(Msgs) = ' + str(MSG_TH))\n",
    "# plt.legend()\n",
    "plt.tight_layout()\n",
    "plt.savefig(FOLDER_IMG + str(AP) + '_' + str(LOAD) + '-' + str(DURATION) + '_heap' + str(HEAP_TH) + '_msg' + str(MSG_TH) + '.png')\n",
    "plt.show()\n",
    "\n",
    "\n",
    "\n",
    "X_AXIS = 'cpuTh'\n",
    "HEADER = '#' + X_AXIS + '\\t' + '\\t'.join(SYSTEMS)\n",
    "print(HEADER)\n",
    "for th in range(5,96,5):\n",
    "    string = str(th) + '\\t'\n",
    "    for sys in SYSTEMS:\n",
    "        string += str(dfTmp[(dfTmp['system']==sys) & (dfTmp[X_AXIS]==th)]['foundAP'].iloc[0])\n",
    "        if sys != SYSTEMS[-1]:\n",
    "            string += '\\t'\n",
    "    print(string)"
   ]
  },
  {
   "cell_type": "code",
   "execution_count": 26,
   "metadata": {},
   "outputs": [
    {
     "name": "stderr",
     "output_type": "stream",
     "text": [
      "/home/riccardo/.local/lib/python3.8/site-packages/matplotlib/cbook/__init__.py:2062: FutureWarning: Support for multi-dimensional indexing (e.g. `obj[:, None]`) is deprecated and will be removed in a future version.  Convert to a numpy array before indexing instead.\n",
      "  x[:, None]\n",
      "/home/riccardo/.local/lib/python3.8/site-packages/matplotlib/axes/_base.py:248: FutureWarning: Support for multi-dimensional indexing (e.g. `obj[:, None]`) is deprecated and will be removed in a future version.  Convert to a numpy array before indexing instead.\n",
      "  x = x[:, np.newaxis]\n",
      "/home/riccardo/.local/lib/python3.8/site-packages/matplotlib/axes/_base.py:250: FutureWarning: Support for multi-dimensional indexing (e.g. `obj[:, None]`) is deprecated and will be removed in a future version.  Convert to a numpy array before indexing instead.\n",
      "  y = y[:, np.newaxis]\n"
     ]
    },
    {
     "data": {
      "image/png": "[encoded data removed]",
      "text/plain": [
       "<Figure size 432x288 with 1 Axes>"
      ]
     },
     "metadata": {
      "needs_background": "light"
     },
     "output_type": "display_data"
    },
    {
     "name": "stdout",
     "output_type": "stream",
     "text": [
      "#heapTh\tpetclinic\tbroadleaf\twebgoat\tts-security-service\topenmrs\n",
      "5\t7\t3\t5\t1\t2\n",
      "10\t7\t3\t5\t1\t2\n",
      "15\t7\t3\t5\t1\t2\n",
      "20\t7\t3\t5\t1\t2\n",
      "25\t7\t3\t5\t1\t2\n",
      "30\t7\t3\t5\t1\t2\n",
      "35\t7\t3\t5\t1\t2\n",
      "40\t7\t3\t5\t1\t2\n",
      "45\t7\t3\t5\t1\t2\n",
      "50\t7\t3\t5\t1\t0\n",
      "55\t7\t3\t5\t1\t0\n",
      "60\t7\t3\t5\t1\t0\n",
      "65\t7\t3\t5\t1\t0\n",
      "70\t7\t3\t5\t1\t0\n",
      "75\t7\t3\t5\t1\t0\n",
      "80\t7\t3\t5\t1\t0\n",
      "85\t7\t3\t5\t1\t0\n",
      "90\t7\t3\t5\t1\t0\n",
      "95\t7\t3\t5\t1\t0\n"
     ]
    }
   ],
   "source": [
    "LOAD = 25\n",
    "DURATION = 3\n",
    "AP = 'BLOB'\n",
    "\n",
    "# Fixed parameters\n",
    "CPU_TH = 10\n",
    "MSG_TH = 5\n",
    "\n",
    "dfTmp = dfOrig[(dfOrig['load']==LOAD) &\n",
    "           (dfOrig['duration']==DURATION) &\n",
    "           (dfOrig['type']==AP) &\n",
    "           (dfOrig['cpuTh'] == CPU_TH) &\n",
    "           (dfOrig['numMsgs'] == MSG_TH)\n",
    "          ]\n",
    "\n",
    "for sys, stl, col in zip(SYSTEMS, STYLES, COLORS):\n",
    "    plt.plot(dfTmp[dfTmp['system']==sys]['heapTh'], dfTmp[dfTmp['system']==sys]['foundAP'], stl, color=col, label=sys)\n",
    "plt.xticks(range(0,100,10), size=FONT_SIZE)\n",
    "plt.yticks(range(0,max(dfTmp['foundAP'])+1), size=FONT_SIZE)\n",
    "plt.xlabel('Memory Threshold [%]', size=FONT_SIZE)\n",
    "# plt.title(str(LOAD) + ' - ' + str(DURATION) + ' | Th(CPU) = ' + str(CPU_TH) + ' | Th(Msgs) = ' + str(MSG_TH))\n",
    "# plt.legend()\n",
    "plt.tight_layout()\n",
    "plt.savefig(FOLDER_IMG + str(AP) + '_' + str(LOAD) + '-' + str(DURATION) + '_cpu' + str(CPU_TH) + '_msg' + str(MSG_TH) + '.png')\n",
    "plt.show()\n",
    "\n",
    "\n",
    "\n",
    "X_AXIS = 'heapTh'\n",
    "HEADER = '#' + X_AXIS + '\\t' + '\\t'.join(SYSTEMS)\n",
    "print(HEADER)\n",
    "for th in range(5,96,5):\n",
    "    string = str(th) + '\\t'\n",
    "    for sys in SYSTEMS:\n",
    "        string += str(dfTmp[(dfTmp['system']==sys) & (dfTmp[X_AXIS]==th)]['foundAP'].iloc[0])\n",
    "        if sys != SYSTEMS[-1]:\n",
    "            string += '\\t'\n",
    "    print(string)"
   ]
  },
  {
   "cell_type": "code",
   "execution_count": 27,
   "metadata": {},
   "outputs": [
    {
     "name": "stderr",
     "output_type": "stream",
     "text": [
      "/home/riccardo/.local/lib/python3.8/site-packages/matplotlib/cbook/__init__.py:2062: FutureWarning: Support for multi-dimensional indexing (e.g. `obj[:, None]`) is deprecated and will be removed in a future version.  Convert to a numpy array before indexing instead.\n",
      "  x[:, None]\n",
      "/home/riccardo/.local/lib/python3.8/site-packages/matplotlib/axes/_base.py:248: FutureWarning: Support for multi-dimensional indexing (e.g. `obj[:, None]`) is deprecated and will be removed in a future version.  Convert to a numpy array before indexing instead.\n",
      "  x = x[:, np.newaxis]\n",
      "/home/riccardo/.local/lib/python3.8/site-packages/matplotlib/axes/_base.py:250: FutureWarning: Support for multi-dimensional indexing (e.g. `obj[:, None]`) is deprecated and will be removed in a future version.  Convert to a numpy array before indexing instead.\n",
      "  y = y[:, np.newaxis]\n"
     ]
    },
    {
     "data": {
      "image/png": "[encoded data removed]",
      "text/plain": [
       "<Figure size 432x288 with 1 Axes>"
      ]
     },
     "metadata": {
      "needs_background": "light"
     },
     "output_type": "display_data"
    },
    {
     "name": "stdout",
     "output_type": "stream",
     "text": [
      "#numMsgs\tpetclinic\tbroadleaf\twebgoat\tts-security-service\topenmrs\n",
      "5\t7\t3\t5\t1\t2\n",
      "10\t7\t3\t5\t1\t2\n",
      "15\t7\t3\t5\t1\t2\n",
      "20\t7\t3\t5\t1\t2\n",
      "25\t7\t3\t5\t1\t2\n",
      "30\t7\t3\t5\t1\t2\n",
      "35\t6\t3\t4\t1\t2\n",
      "40\t5\t3\t3\t1\t2\n",
      "45\t5\t3\t2\t1\t2\n",
      "50\t3\t3\t1\t1\t2\n",
      "55\t3\t3\t1\t1\t2\n",
      "60\t3\t3\t1\t1\t2\n",
      "65\t3\t3\t1\t1\t2\n",
      "70\t3\t3\t1\t1\t2\n",
      "75\t2\t3\t1\t0\t2\n",
      "80\t2\t3\t1\t0\t2\n",
      "85\t2\t3\t1\t0\t2\n",
      "90\t2\t3\t1\t0\t2\n",
      "95\t2\t3\t1\t0\t2\n"
     ]
    }
   ],
   "source": [
    "LOAD = 25\n",
    "DURATION = 3\n",
    "AP = 'BLOB'\n",
    "\n",
    "# Fixed parameters\n",
    "CPU_TH = 10\n",
    "HEAP_TH = 10\n",
    "\n",
    "dfTmp = dfOrig[(dfOrig['load']==LOAD) &\n",
    "           (dfOrig['duration']==DURATION) &\n",
    "           (dfOrig['type']==AP) &\n",
    "           (dfOrig['cpuTh'] == CPU_TH) &\n",
    "           (dfOrig['heapTh'] == HEAP_TH)\n",
    "          ]\n",
    "\n",
    "for sys, stl, col in zip(SYSTEMS, STYLES, COLORS):\n",
    "    plt.plot(dfTmp[dfTmp['system']==sys]['numMsgs'], dfTmp[dfTmp['system']==sys]['foundAP'], stl, color=col, label=sys)\n",
    "plt.xticks(range(0,100,10), size=FONT_SIZE)\n",
    "plt.yticks(range(0,max(dfTmp['foundAP'])+1), size=FONT_SIZE)\n",
    "plt.xlabel('Message Offset [%]', size=FONT_SIZE)\n",
    "# plt.title(str(LOAD) + ' - ' + str(DURATION) + ' | Th(CPU) = ' + str(CPU_TH) + ' | Th(Heap) = ' + str(HEAP_TH))\n",
    "# plt.legend()\n",
    "plt.tight_layout()\n",
    "plt.savefig(FOLDER_IMG + str(AP) + '_' + str(LOAD) + '-' + str(DURATION) + '_cpu' + str(CPU_TH) + '_heap' + str(HEAP_TH) + '.png')\n",
    "plt.show()\n",
    "\n",
    "\n",
    "\n",
    "X_AXIS = 'numMsgs'\n",
    "HEADER = '#' + X_AXIS + '\\t' + '\\t'.join(SYSTEMS)\n",
    "print(HEADER)\n",
    "for th in range(5,96,5):\n",
    "    string = str(th) + '\\t'\n",
    "    for sys in SYSTEMS:\n",
    "        string += str(dfTmp[(dfTmp['system']==sys) & (dfTmp[X_AXIS]==th)]['foundAP'].iloc[0])\n",
    "        if sys != SYSTEMS[-1]:\n",
    "            string += '\\t'\n",
    "    print(string)"
   ]
  },
  {
   "cell_type": "markdown",
   "metadata": {},
   "source": [
    "## TOB"
   ]
  },
  {
   "cell_type": "code",
   "execution_count": 29,
   "metadata": {},
   "outputs": [
    {
     "name": "stdout",
     "output_type": "stream",
     "text": [
      "### petclinic ###\n",
      "25-3 = 2\n",
      "25-6 = 2\n",
      "25-12 = 2\n",
      "50-3 = 2\n",
      "50-6 = 2\n",
      "50-12 = 2\n",
      "75-3 = 2\n",
      "75-6 = 2\n",
      "75-12 = 2\n",
      "100-3 = 2\n",
      "100-6 = 2\n",
      "100-12 = 2\n",
      "### broadleaf ###\n",
      "25-3 = 0\n",
      "25-6 = 0\n",
      "25-12 = 0\n",
      "50-3 = 0\n",
      "50-6 = 0\n",
      "50-12 = 0\n",
      "75-3 = 0\n",
      "75-6 = 0\n",
      "75-12 = 0\n",
      "100-3 = 0\n",
      "100-6 = 0\n",
      "100-12 = 0\n",
      "### webgoat ###\n",
      "25-3 = 4\n",
      "25-6 = 4\n",
      "25-12 = 4\n",
      "50-3 = 4\n",
      "50-6 = 4\n",
      "50-12 = 4\n",
      "75-3 = 4\n",
      "75-6 = 4\n",
      "75-12 = 4\n",
      "100-3 = 4\n",
      "100-6 = 4\n",
      "100-12 = 4\n",
      "### ts-security-service ###\n",
      "25-3 = 0\n",
      "25-6 = 0\n",
      "25-12 = 0\n",
      "50-3 = 0\n",
      "50-6 = 0\n",
      "50-12 = 0\n",
      "75-3 = 0\n",
      "75-6 = 0\n",
      "75-12 = 0\n",
      "100-3 = 0\n",
      "100-6 = 0\n",
      "100-12 = 0\n",
      "### openmrs ###\n",
      "25-3 = 0\n",
      "25-6 = 0\n",
      "25-12 = 0\n",
      "50-3 = 0\n",
      "50-6 = 0\n",
      "50-12 = 0\n",
      "75-3 = 0\n",
      "75-6 = 0\n",
      "75-12 = 0\n",
      "100-3 = 0\n",
      "100-6 = 0\n",
      "100-12 = 0\n"
     ]
    }
   ],
   "source": [
    "AP = 'TOB'\n",
    "\n",
    "TIME_TH = 5\n",
    "\n",
    "for SYSTEM in SYSTEMS:\n",
    "    print('### ' + SYSTEM + ' ###')\n",
    "    for LOAD in [25, 50, 75, 100]:\n",
    "        for DURATION in [3, 6, 12]:\n",
    "            dfTmp = dfOrig[(dfOrig['load']==LOAD) &\n",
    "                       (dfOrig['duration']==DURATION) &\n",
    "                       (dfOrig['type']==AP) &\n",
    "                       (dfOrig['system']==SYSTEM) &\n",
    "                       (dfOrig['methodTimeTh']==TIME_TH)\n",
    "                      ]\n",
    "            print(str(LOAD) + '-' + str(DURATION) + ' = ' + str(dfTmp['foundAP'].iloc[0]))"
   ]
  },
  {
   "cell_type": "code",
   "execution_count": 24,
   "metadata": {
    "scrolled": false
   },
   "outputs": [
    {
     "name": "stderr",
     "output_type": "stream",
     "text": [
      "/home/riccardo/.local/lib/python3.8/site-packages/matplotlib/cbook/__init__.py:2062: FutureWarning: Support for multi-dimensional indexing (e.g. `obj[:, None]`) is deprecated and will be removed in a future version.  Convert to a numpy array before indexing instead.\n",
      "  x[:, None]\n",
      "/home/riccardo/.local/lib/python3.8/site-packages/matplotlib/axes/_base.py:248: FutureWarning: Support for multi-dimensional indexing (e.g. `obj[:, None]`) is deprecated and will be removed in a future version.  Convert to a numpy array before indexing instead.\n",
      "  x = x[:, np.newaxis]\n",
      "/home/riccardo/.local/lib/python3.8/site-packages/matplotlib/axes/_base.py:250: FutureWarning: Support for multi-dimensional indexing (e.g. `obj[:, None]`) is deprecated and will be removed in a future version.  Convert to a numpy array before indexing instead.\n",
      "  y = y[:, np.newaxis]\n"
     ]
    },
    {
     "data": {
      "image/png": "[encoded data removed]",
      "text/plain": [
       "<Figure size 432x288 with 1 Axes>"
      ]
     },
     "metadata": {
      "needs_background": "light"
     },
     "output_type": "display_data"
    },
    {
     "name": "stderr",
     "output_type": "stream",
     "text": [
      "/home/riccardo/.local/lib/python3.8/site-packages/matplotlib/cbook/__init__.py:2062: FutureWarning: Support for multi-dimensional indexing (e.g. `obj[:, None]`) is deprecated and will be removed in a future version.  Convert to a numpy array before indexing instead.\n",
      "  x[:, None]\n",
      "/home/riccardo/.local/lib/python3.8/site-packages/matplotlib/axes/_base.py:248: FutureWarning: Support for multi-dimensional indexing (e.g. `obj[:, None]`) is deprecated and will be removed in a future version.  Convert to a numpy array before indexing instead.\n",
      "  x = x[:, np.newaxis]\n",
      "/home/riccardo/.local/lib/python3.8/site-packages/matplotlib/axes/_base.py:250: FutureWarning: Support for multi-dimensional indexing (e.g. `obj[:, None]`) is deprecated and will be removed in a future version.  Convert to a numpy array before indexing instead.\n",
      "  y = y[:, np.newaxis]\n"
     ]
    },
    {
     "name": "stdout",
     "output_type": "stream",
     "text": [
      "#methodTimeTh\tpetclinic\tbroadleaf\twebgoat\tts-security-service\topenmrs\n",
      "5\t2\t0\t4\t0\t0\n",
      "10\t2\t0\t4\t0\t0\n",
      "15\t2\t0\t4\t0\t0\n",
      "20\t2\t0\t3\t0\t0\n",
      "25\t2\t0\t3\t0\t0\n",
      "30\t2\t0\t0\t0\t0\n",
      "35\t2\t0\t0\t0\t0\n",
      "40\t2\t0\t0\t0\t0\n",
      "45\t2\t0\t0\t0\t0\n",
      "50\t2\t0\t0\t0\t0\n",
      "55\t2\t0\t0\t0\t0\n",
      "60\t2\t0\t0\t0\t0\n",
      "65\t1\t0\t0\t0\t0\n",
      "70\t0\t0\t0\t0\t0\n",
      "75\t0\t0\t0\t0\t0\n",
      "80\t0\t0\t0\t0\t0\n",
      "85\t0\t0\t0\t0\t0\n",
      "90\t0\t0\t0\t0\t0\n",
      "95\t0\t0\t0\t0\t0\n"
     ]
    },
    {
     "data": {
      "image/png": "[encoded data removed]",
      "text/plain": [
       "<Figure size 432x288 with 1 Axes>"
      ]
     },
     "metadata": {
      "needs_background": "light"
     },
     "output_type": "display_data"
    },
    {
     "name": "stdout",
     "output_type": "stream",
     "text": [
      "#methodTimeTh\tpetclinic\tbroadleaf\twebgoat\tts-security-service\topenmrs\n",
      "5\t2\t0\t4\t0\t0\n",
      "10\t2\t0\t4\t0\t0\n",
      "15\t2\t0\t3\t0\t0\n",
      "20\t2\t0\t1\t0\t0\n",
      "25\t2\t0\t0\t0\t0\n",
      "30\t2\t0\t0\t0\t0\n",
      "35\t2\t0\t0\t0\t0\n",
      "40\t2\t0\t0\t0\t0\n",
      "45\t2\t0\t0\t0\t0\n",
      "50\t2\t0\t0\t0\t0\n",
      "55\t2\t0\t0\t0\t0\n",
      "60\t2\t0\t0\t0\t0\n",
      "65\t0\t0\t0\t0\t0\n",
      "70\t0\t0\t0\t0\t0\n",
      "75\t0\t0\t0\t0\t0\n",
      "80\t0\t0\t0\t0\t0\n",
      "85\t0\t0\t0\t0\t0\n",
      "90\t0\t0\t0\t0\t0\n",
      "95\t0\t0\t0\t0\t0\n"
     ]
    }
   ],
   "source": [
    "LOADS = [25, 50]\n",
    "DURATIONS = [3, 3]\n",
    "AP = 'TOB'\n",
    "\n",
    "for LOAD, DURATION in zip(LOADS, DURATIONS):\n",
    "    dfTmp = dfOrig[(dfOrig['load']==LOAD) &\n",
    "               (dfOrig['duration']==DURATION) &\n",
    "               (dfOrig['type']==AP)\n",
    "              ]\n",
    "\n",
    "    for sys, stl, col in zip(SYSTEMS, STYLES, COLORS):\n",
    "        plt.plot(dfTmp[dfTmp['system']==sys]['methodTimeTh'], dfTmp[dfTmp['system']==sys]['foundAP'], stl, color=col, label=sys)\n",
    "    plt.xticks(range(0,100,10), size=FONT_SIZE)\n",
    "    plt.yticks(range(0,max(dfTmp['foundAP'])+1), size=FONT_SIZE)\n",
    "    plt.xlabel('Execution Time Offset [%]', size=FONT_SIZE)\n",
    "    # plt.title(str(LOAD) + ' - ' + str(DURATION))\n",
    "    # plt.legend()\n",
    "    plt.tight_layout()\n",
    "    plt.savefig(FOLDER_IMG + str(AP) + '_' + str(LOAD) + '-' + str(DURATION) + '.png')\n",
    "    plt.show()\n",
    "    \n",
    "    \n",
    "    \n",
    "    X_AXIS = 'methodTimeTh'\n",
    "    HEADER = '#' + X_AXIS + '\\t' + '\\t'.join(SYSTEMS)\n",
    "    print(HEADER)\n",
    "    for th in range(5,96,5):\n",
    "        string = str(th) + '\\t'\n",
    "        for sys in SYSTEMS:\n",
    "            string += str(dfTmp[(dfTmp['system']==sys) & (dfTmp[X_AXIS]==th)]['foundAP'].iloc[0])\n",
    "            if sys != SYSTEMS[-1]:\n",
    "                string += '\\t'\n",
    "        print(string)"
   ]
  },
  {
   "cell_type": "code",
   "execution_count": null,
   "metadata": {},
   "outputs": [],
   "source": []
  },
  {
   "cell_type": "code",
   "execution_count": null,
   "metadata": {},
   "outputs": [],
   "source": []
  },
  {
   "cell_type": "code",
   "execution_count": null,
   "metadata": {},
   "outputs": [],
   "source": []
  },
  {
   "cell_type": "code",
   "execution_count": null,
   "metadata": {},
   "outputs": [],
   "source": []
  },
  {
   "cell_type": "markdown",
   "metadata": {},
   "source": [
    "# Original vs. Refactored: OpenMRS"
   ]
  },
  {
   "cell_type": "markdown",
   "metadata": {},
   "source": [
    "## CTH"
   ]
  },
  {
   "cell_type": "code",
   "execution_count": 16,
   "metadata": {},
   "outputs": [
    {
     "name": "stdout",
     "output_type": "stream",
     "text": [
      "### openmrs ###\n",
      "25-3 = 0(-2)\n",
      "25-6 = 0(0)\n",
      "25-12 = 0(0)\n",
      "50-3 = 0(0)\n",
      "50-6 = 0(0)\n",
      "50-12 = 0(0)\n",
      "75-3 = 0(-1)\n",
      "75-6 = 0(-1)\n",
      "75-12 = 0(0)\n",
      "100-3 = 1(1)\n",
      "100-6 = 0(0)\n",
      "100-12 = 0(0)\n"
     ]
    }
   ],
   "source": [
    "AP = 'CTH'\n",
    "\n",
    "COUNT_TH = 5\n",
    "CPU_TH = 10\n",
    "OPTION = 'average'\n",
    "\n",
    "for SYSTEM in ['openmrs']:\n",
    "    print('### ' + SYSTEM + ' ###')\n",
    "    for LOAD in [25, 50, 75, 100]:\n",
    "        for DURATION in [3, 6, 12]:\n",
    "            dfTmpO = dfOrig[(dfOrig['load']==LOAD) &\n",
    "                       (dfOrig['duration']==DURATION) &\n",
    "                       (dfOrig['type']==AP) &\n",
    "                       (dfOrig['system']==SYSTEM) &\n",
    "                       (dfOrig['countTh']==COUNT_TH) &\n",
    "                       (dfOrig['cpuTh']==CPU_TH) &\n",
    "                       (dfOrig['option']==OPTION)\n",
    "                    ]\n",
    "            dfTmpR = dfRef[(dfRef['load']==LOAD) &\n",
    "                       (dfRef['duration']==DURATION) &\n",
    "                       (dfRef['type']==AP) &\n",
    "                       (dfRef['system']==SYSTEM) &\n",
    "                       (dfRef['countTh']==COUNT_TH) &\n",
    "                       (dfRef['cpuTh']==CPU_TH) &\n",
    "                       (dfRef['option']==OPTION)\n",
    "                      ]\n",
    "            diff = dfTmpR['foundAP'].iloc[0] - dfTmpO['foundAP'].iloc[0]\n",
    "            print(str(LOAD) + '-' + str(DURATION) + ' = ' + str(dfTmpR['foundAP'].iloc[0]) + '(' + str(diff) + ')')"
   ]
  },
  {
   "cell_type": "code",
   "execution_count": 16,
   "metadata": {},
   "outputs": [
    {
     "name": "stderr",
     "output_type": "stream",
     "text": [
      "/home/riccardo/.local/lib/python3.8/site-packages/matplotlib/cbook/__init__.py:2062: FutureWarning: Support for multi-dimensional indexing (e.g. `obj[:, None]`) is deprecated and will be removed in a future version.  Convert to a numpy array before indexing instead.\n",
      "  x[:, None]\n",
      "/home/riccardo/.local/lib/python3.8/site-packages/matplotlib/axes/_base.py:248: FutureWarning: Support for multi-dimensional indexing (e.g. `obj[:, None]`) is deprecated and will be removed in a future version.  Convert to a numpy array before indexing instead.\n",
      "  x = x[:, np.newaxis]\n",
      "/home/riccardo/.local/lib/python3.8/site-packages/matplotlib/axes/_base.py:250: FutureWarning: Support for multi-dimensional indexing (e.g. `obj[:, None]`) is deprecated and will be removed in a future version.  Convert to a numpy array before indexing instead.\n",
      "  y = y[:, np.newaxis]\n"
     ]
    },
    {
     "data": {
      "image/png": "[encoded data removed]",
      "text/plain": [
       "<Figure size 432x288 with 1 Axes>"
      ]
     },
     "metadata": {
      "needs_background": "light"
     },
     "output_type": "display_data"
    }
   ],
   "source": [
    "LOAD = 100\n",
    "DURATION = 3\n",
    "AP = 'CTH'\n",
    "SYSTEM = 'openmrs'\n",
    "\n",
    "# Fixed parameters\n",
    "CPU_TH = 5\n",
    "OPTION = 'average'\n",
    "\n",
    "# X-axis parameter\n",
    "X_PARAM = 'countTh'\n",
    "\n",
    "dfTmpOrig = dfOrig[(dfOrig['load']==LOAD) &\n",
    "           (dfOrig['duration']==DURATION) &\n",
    "           (dfOrig['system']==SYSTEM) &\n",
    "           (dfOrig['type']==AP) &\n",
    "           (dfOrig['cpuTh'] == CPU_TH) &\n",
    "           (dfOrig['option'] == OPTION)\n",
    "          ]\n",
    "\n",
    "dfTmpRef = dfRef[(dfRef['load']==LOAD) &\n",
    "           (dfRef['duration']==DURATION) &\n",
    "           (dfRef['system']==SYSTEM) &\n",
    "           (dfRef['type']==AP) &\n",
    "           (dfRef['cpuTh'] == CPU_TH) &\n",
    "           (dfRef['option'] == OPTION)\n",
    "          ]\n",
    "\n",
    "plt.plot(dfTmpOrig[X_PARAM], dfTmpOrig['foundAP'], '-o', label='Original')\n",
    "plt.plot(dfTmpRef[X_PARAM], dfTmpRef['foundAP'], '-d', label='Refactored')\n",
    "plt.xlabel('Count Threshold')\n",
    "plt.ylabel('Found ' + AP)\n",
    "plt.title(str(LOAD) + ' - ' + str(DURATION) + ' | Th(CPU) = ' + str(CPU_TH) + ' | Option = ' + OPTION)\n",
    "plt.legend()\n",
    "plt.show()"
   ]
  },
  {
   "cell_type": "code",
   "execution_count": 146,
   "metadata": {},
   "outputs": [
    {
     "name": "stderr",
     "output_type": "stream",
     "text": [
      "/home/riccardo/.local/lib/python3.8/site-packages/matplotlib/cbook/__init__.py:2062: FutureWarning: Support for multi-dimensional indexing (e.g. `obj[:, None]`) is deprecated and will be removed in a future version.  Convert to a numpy array before indexing instead.\n",
      "  x[:, None]\n",
      "/home/riccardo/.local/lib/python3.8/site-packages/matplotlib/axes/_base.py:248: FutureWarning: Support for multi-dimensional indexing (e.g. `obj[:, None]`) is deprecated and will be removed in a future version.  Convert to a numpy array before indexing instead.\n",
      "  x = x[:, np.newaxis]\n",
      "/home/riccardo/.local/lib/python3.8/site-packages/matplotlib/axes/_base.py:250: FutureWarning: Support for multi-dimensional indexing (e.g. `obj[:, None]`) is deprecated and will be removed in a future version.  Convert to a numpy array before indexing instead.\n",
      "  y = y[:, np.newaxis]\n"
     ]
    },
    {
     "data": {
      "image/png": "[encoded data removed]",
      "text/plain": [
       "<Figure size 432x288 with 1 Axes>"
      ]
     },
     "metadata": {
      "needs_background": "light"
     },
     "output_type": "display_data"
    }
   ],
   "source": [
    "LOAD = 25\n",
    "DURATION = 3\n",
    "AP = 'CTH'\n",
    "SYSTEM = 'openmrs'\n",
    "\n",
    "# Fixed parameters\n",
    "COUNT_TH = 5\n",
    "OPTION = 'average'\n",
    "\n",
    "# X-axis parameter\n",
    "X_PARAM = 'cpuTh'\n",
    "\n",
    "dfTmpOrig = dfOrig[(dfOrig['load']==LOAD) &\n",
    "           (dfOrig['duration']==DURATION) &\n",
    "           (dfOrig['system']==SYSTEM) &\n",
    "           (dfOrig['type']==AP) &\n",
    "           (dfOrig['countTh'] == COUNT_TH) &\n",
    "           (dfOrig['option'] == OPTION)\n",
    "          ]\n",
    "\n",
    "dfTmpRef = dfRef[(dfRef['load']==LOAD) &\n",
    "           (dfRef['duration']==DURATION) &\n",
    "           (dfRef['system']==SYSTEM) &\n",
    "           (dfRef['type']==AP) &\n",
    "           (dfRef['countTh'] == COUNT_TH) &\n",
    "           (dfRef['option'] == OPTION)\n",
    "          ]\n",
    "\n",
    "plt.plot(dfTmpOrig[X_PARAM], dfTmpOrig['foundAP'], '-o', label='Original')\n",
    "plt.plot(dfTmpRef[X_PARAM], dfTmpRef['foundAP'], '-d', label='Refactored')\n",
    "plt.xlabel('CPU Threshold')\n",
    "plt.ylabel('Found ' + AP)\n",
    "plt.title(str(LOAD) + ' - ' + str(DURATION) + ' | Th(Count) = ' + str(COUNT_TH) + ' | Option = ' + OPTION)\n",
    "plt.legend()\n",
    "plt.show()"
   ]
  },
  {
   "cell_type": "code",
   "execution_count": 111,
   "metadata": {},
   "outputs": [
    {
     "name": "stderr",
     "output_type": "stream",
     "text": [
      "/home/riccardo/.local/lib/python3.8/site-packages/matplotlib/cbook/__init__.py:2062: FutureWarning: Support for multi-dimensional indexing (e.g. `obj[:, None]`) is deprecated and will be removed in a future version.  Convert to a numpy array before indexing instead.\n",
      "  x[:, None]\n",
      "/home/riccardo/.local/lib/python3.8/site-packages/matplotlib/axes/_base.py:248: FutureWarning: Support for multi-dimensional indexing (e.g. `obj[:, None]`) is deprecated and will be removed in a future version.  Convert to a numpy array before indexing instead.\n",
      "  x = x[:, np.newaxis]\n",
      "/home/riccardo/.local/lib/python3.8/site-packages/matplotlib/axes/_base.py:250: FutureWarning: Support for multi-dimensional indexing (e.g. `obj[:, None]`) is deprecated and will be removed in a future version.  Convert to a numpy array before indexing instead.\n",
      "  y = y[:, np.newaxis]\n"
     ]
    },
    {
     "data": {
      "image/png": "[encoded data removed]",
      "text/plain": [
       "<Figure size 432x288 with 1 Axes>"
      ]
     },
     "metadata": {
      "needs_background": "light"
     },
     "output_type": "display_data"
    }
   ],
   "source": [
    "LOAD = 25\n",
    "DURATION = 3\n",
    "AP = 'CTH'\n",
    "SYSTEM = 'openmrs'\n",
    "\n",
    "# Fixed parameters\n",
    "CPU_TH = 5\n",
    "COUNT_TH = 5\n",
    "\n",
    "# X-axis parameter\n",
    "X_PARAM = 'option'\n",
    "\n",
    "dfTmpOrig = dfOrig[(dfOrig['load']==LOAD) &\n",
    "           (dfOrig['duration']==DURATION) &\n",
    "           (dfOrig['system']==SYSTEM) &\n",
    "           (dfOrig['type']==AP) &\n",
    "           (dfOrig['cpuTh'] == CPU_TH) &\n",
    "           (dfOrig['countTh'] == COUNT_TH)\n",
    "          ]\n",
    "\n",
    "dfTmpRef = dfRef[(dfRef['load']==LOAD) &\n",
    "           (dfRef['duration']==DURATION) &\n",
    "           (dfRef['system']==SYSTEM) &\n",
    "           (dfRef['type']==AP) &\n",
    "           (dfRef['cpuTh'] == CPU_TH) &\n",
    "           (dfRef['countTh'] == COUNT_TH)\n",
    "          ]\n",
    "\n",
    "plt.plot(dfTmpOrig[X_PARAM], dfTmpOrig['foundAP'], '-o', label='Original')\n",
    "plt.plot(dfTmpRef[X_PARAM], dfTmpRef['foundAP'], '-d', label='Refactored')\n",
    "plt.xlabel('Option')\n",
    "plt.ylabel('Found ' + AP)\n",
    "plt.title(str(LOAD) + ' - ' + str(DURATION) + ' | Th(CPU) = ' + str(CPU_TH) + ' | Th(Count) = ' + str(COUNT_TH))\n",
    "plt.legend()\n",
    "plt.show()"
   ]
  },
  {
   "cell_type": "markdown",
   "metadata": {},
   "source": [
    "## EP"
   ]
  },
  {
   "cell_type": "code",
   "execution_count": 17,
   "metadata": {},
   "outputs": [
    {
     "name": "stdout",
     "output_type": "stream",
     "text": [
      "### openmrs ###\n",
      "25-3 = 2(-1)\n",
      "25-6 = 1(1)\n",
      "25-12 = 1(1)\n",
      "50-3 = 1(0)\n",
      "50-6 = 1(0)\n",
      "50-12 = 1(0)\n",
      "75-3 = 1(-1)\n",
      "75-6 = 2(0)\n",
      "75-12 = 1(0)\n",
      "100-3 = 2(0)\n",
      "100-6 = 1(0)\n",
      "100-12 = 1(0)\n"
     ]
    }
   ],
   "source": [
    "AP = 'EP'\n",
    "\n",
    "TIME_TH = 5\n",
    "\n",
    "for SYSTEM in ['openmrs']:\n",
    "    print('### ' + SYSTEM + ' ###')\n",
    "    for LOAD in [25, 50, 75, 100]:\n",
    "        for DURATION in [3, 6, 12]:\n",
    "            dfTmpO = dfOrig[(dfOrig['load']==LOAD) &\n",
    "                       (dfOrig['duration']==DURATION) &\n",
    "                       (dfOrig['type']==AP) &\n",
    "                       (dfOrig['system']==SYSTEM) &\n",
    "                       (dfOrig['methodTimeTh']==TIME_TH)\n",
    "                      ]\n",
    "            dfTmpR = dfRef[(dfRef['load']==LOAD) &\n",
    "                       (dfRef['duration']==DURATION) &\n",
    "                       (dfRef['type']==AP) &\n",
    "                       (dfRef['system']==SYSTEM) &\n",
    "                       (dfRef['methodTimeTh']==TIME_TH)\n",
    "                      ]\n",
    "            diff = dfTmpR['foundAP'].iloc[0] - dfTmpO['foundAP'].iloc[0]\n",
    "            print(str(LOAD) + '-' + str(DURATION) + ' = ' + str(dfTmpR['foundAP'].iloc[0]) + '(' + str(diff) + ')')"
   ]
  },
  {
   "cell_type": "code",
   "execution_count": 21,
   "metadata": {},
   "outputs": [
    {
     "name": "stderr",
     "output_type": "stream",
     "text": [
      "/home/riccardo/.local/lib/python3.8/site-packages/matplotlib/cbook/__init__.py:2062: FutureWarning: Support for multi-dimensional indexing (e.g. `obj[:, None]`) is deprecated and will be removed in a future version.  Convert to a numpy array before indexing instead.\n",
      "  x[:, None]\n",
      "/home/riccardo/.local/lib/python3.8/site-packages/matplotlib/axes/_base.py:248: FutureWarning: Support for multi-dimensional indexing (e.g. `obj[:, None]`) is deprecated and will be removed in a future version.  Convert to a numpy array before indexing instead.\n",
      "  x = x[:, np.newaxis]\n",
      "/home/riccardo/.local/lib/python3.8/site-packages/matplotlib/axes/_base.py:250: FutureWarning: Support for multi-dimensional indexing (e.g. `obj[:, None]`) is deprecated and will be removed in a future version.  Convert to a numpy array before indexing instead.\n",
      "  y = y[:, np.newaxis]\n"
     ]
    },
    {
     "data": {
      "image/png": "[encoded data removed]",
      "text/plain": [
       "<Figure size 432x288 with 1 Axes>"
      ]
     },
     "metadata": {
      "needs_background": "light"
     },
     "output_type": "display_data"
    }
   ],
   "source": [
    "LOAD = 25\n",
    "DURATION = 3\n",
    "AP = 'EP'\n",
    "SYSTEM = 'openmrs'\n",
    "\n",
    "# X-axis parameter\n",
    "X_PARAM = 'methodTimeTh'\n",
    "\n",
    "dfTmpOrig = dfOrig[(dfOrig['load']==LOAD) &\n",
    "           (dfOrig['duration']==DURATION) &\n",
    "           (dfOrig['system']==SYSTEM) &\n",
    "           (dfOrig['type']==AP)\n",
    "          ]\n",
    "\n",
    "dfTmpRef = dfRef[(dfRef['load']==LOAD) &\n",
    "           (dfRef['duration']==DURATION) &\n",
    "           (dfRef['system']==SYSTEM) &\n",
    "           (dfRef['type']==AP)\n",
    "          ]\n",
    "\n",
    "plt.plot(dfTmpOrig[X_PARAM], dfTmpOrig['foundAP'], '-o', label='Original')\n",
    "plt.plot(dfTmpRef[X_PARAM], dfTmpRef['foundAP'], '-d', label='Refactored')\n",
    "plt.xlabel('Method Time Threshold')\n",
    "plt.ylabel('Found ' + AP)\n",
    "plt.title(str(LOAD) + ' - ' + str(DURATION))\n",
    "plt.legend()\n",
    "plt.show()"
   ]
  },
  {
   "cell_type": "markdown",
   "metadata": {},
   "source": [
    "## WCS"
   ]
  },
  {
   "cell_type": "code",
   "execution_count": 18,
   "metadata": {},
   "outputs": [
    {
     "name": "stdout",
     "output_type": "stream",
     "text": [
      "### openmrs ###\n",
      "25-3 = 0(-2)\n",
      "25-6 = 0(0)\n",
      "25-12 = 0(-1)\n",
      "50-3 = 0(0)\n",
      "50-6 = 0(0)\n",
      "50-12 = 0(0)\n",
      "75-3 = 0(-1)\n",
      "75-6 = 0(-1)\n",
      "75-12 = 0(0)\n",
      "100-3 = 1(1)\n",
      "100-6 = 0(0)\n",
      "100-12 = 0(0)\n"
     ]
    }
   ],
   "source": [
    "AP = 'WCS'\n",
    "\n",
    "MEM_TH = 5\n",
    "\n",
    "for SYSTEM in ['openmrs']:\n",
    "    print('### ' + SYSTEM + ' ###')\n",
    "    for LOAD in [25, 50, 75, 100]:\n",
    "        for DURATION in [3, 6, 12]:\n",
    "            dfTmpO = dfOrig[(dfOrig['load']==LOAD) &\n",
    "                       (dfOrig['duration']==DURATION) &\n",
    "                       (dfOrig['type']==AP) &\n",
    "                       (dfOrig['system']==SYSTEM) &\n",
    "                       (dfOrig['memoryUsageTh']==MEM_TH)\n",
    "                      ]\n",
    "            dfTmpR = dfRef[(dfRef['load']==LOAD) &\n",
    "                       (dfRef['duration']==DURATION) &\n",
    "                       (dfRef['type']==AP) &\n",
    "                       (dfRef['system']==SYSTEM) &\n",
    "                       (dfRef['memoryUsageTh']==MEM_TH)\n",
    "                      ]\n",
    "            diff = dfTmpR['foundAP'].iloc[0] - dfTmpO['foundAP'].iloc[0]\n",
    "            print(str(LOAD) + '-' + str(DURATION) + ' = ' + str(dfTmpR['foundAP'].iloc[0]) + '(' + str(diff) + ')')"
   ]
  },
  {
   "cell_type": "code",
   "execution_count": 22,
   "metadata": {},
   "outputs": [
    {
     "name": "stderr",
     "output_type": "stream",
     "text": [
      "/home/riccardo/.local/lib/python3.8/site-packages/matplotlib/cbook/__init__.py:2062: FutureWarning: Support for multi-dimensional indexing (e.g. `obj[:, None]`) is deprecated and will be removed in a future version.  Convert to a numpy array before indexing instead.\n",
      "  x[:, None]\n",
      "/home/riccardo/.local/lib/python3.8/site-packages/matplotlib/axes/_base.py:248: FutureWarning: Support for multi-dimensional indexing (e.g. `obj[:, None]`) is deprecated and will be removed in a future version.  Convert to a numpy array before indexing instead.\n",
      "  x = x[:, np.newaxis]\n",
      "/home/riccardo/.local/lib/python3.8/site-packages/matplotlib/axes/_base.py:250: FutureWarning: Support for multi-dimensional indexing (e.g. `obj[:, None]`) is deprecated and will be removed in a future version.  Convert to a numpy array before indexing instead.\n",
      "  y = y[:, np.newaxis]\n"
     ]
    },
    {
     "data": {
      "image/png": "[encoded data removed]",
      "text/plain": [
       "<Figure size 432x288 with 1 Axes>"
      ]
     },
     "metadata": {
      "needs_background": "light"
     },
     "output_type": "display_data"
    }
   ],
   "source": [
    "LOAD = 100\n",
    "DURATION = 3\n",
    "AP = 'WCS'\n",
    "SYSTEM = 'openmrs'\n",
    "\n",
    "# X-axis parameter\n",
    "X_PARAM = 'memoryUsageTh'\n",
    "\n",
    "dfTmpOrig = dfOrig[(dfOrig['load']==LOAD) &\n",
    "           (dfOrig['duration']==DURATION) &\n",
    "           (dfOrig['system']==SYSTEM) &\n",
    "           (dfOrig['type']==AP)\n",
    "          ]\n",
    "\n",
    "dfTmpRef = dfRef[(dfRef['load']==LOAD) &\n",
    "           (dfRef['duration']==DURATION) &\n",
    "           (dfRef['system']==SYSTEM) &\n",
    "           (dfRef['type']==AP)\n",
    "          ]\n",
    "\n",
    "plt.plot(dfTmpOrig[X_PARAM], dfTmpOrig['foundAP'], '-o', label='Original')\n",
    "plt.plot(dfTmpRef[X_PARAM], dfTmpRef['foundAP'], '-d', label='Refactored')\n",
    "plt.xlabel('Memory Usage Threshold')\n",
    "plt.ylabel('Found ' + AP)\n",
    "plt.title(str(LOAD) + ' - ' + str(DURATION))\n",
    "plt.legend()\n",
    "plt.show()"
   ]
  },
  {
   "cell_type": "markdown",
   "metadata": {},
   "source": [
    "## BLOB"
   ]
  },
  {
   "cell_type": "code",
   "execution_count": 19,
   "metadata": {},
   "outputs": [
    {
     "name": "stdout",
     "output_type": "stream",
     "text": [
      "### openmrs ###\n",
      "25-3 = 3(1)\n",
      "25-6 = 1(0)\n",
      "25-12 = 1(0)\n",
      "50-3 = 1(0)\n",
      "50-6 = 1(0)\n",
      "50-12 = 1(0)\n",
      "75-3 = 1(-2)\n",
      "75-6 = 3(0)\n",
      "75-12 = 1(0)\n",
      "100-3 = 2(-1)\n",
      "100-6 = 1(0)\n",
      "100-12 = 1(0)\n"
     ]
    }
   ],
   "source": [
    "AP = 'BLOB'\n",
    "\n",
    "MSG_TH = 5\n",
    "CPU_TH = 10\n",
    "HEAP_TH = 10\n",
    "\n",
    "for SYSTEM in ['openmrs']:\n",
    "    print('### ' + SYSTEM + ' ###')\n",
    "    for LOAD in [25, 50, 75, 100]:\n",
    "        for DURATION in [3, 6, 12]:\n",
    "            dfTmpO = dfOrig[(dfOrig['load']==LOAD) &\n",
    "                       (dfOrig['duration']==DURATION) &\n",
    "                       (dfOrig['type']==AP) &\n",
    "                       (dfOrig['system']==SYSTEM) &\n",
    "                       (dfOrig['numMsgs']==MSG_TH) &\n",
    "                       (dfOrig['cpuTh']==CPU_TH) &\n",
    "                       (dfOrig['heapTh']==HEAP_TH)\n",
    "                      ]\n",
    "            dfTmpR = dfRef[(dfRef['load']==LOAD) &\n",
    "                       (dfRef['duration']==DURATION) &\n",
    "                       (dfRef['type']==AP) &\n",
    "                       (dfRef['system']==SYSTEM) &\n",
    "                       (dfRef['numMsgs']==MSG_TH) &\n",
    "                       (dfRef['cpuTh']==CPU_TH) &\n",
    "                       (dfRef['heapTh']==HEAP_TH)\n",
    "                      ]\n",
    "            diff = dfTmpR['foundAP'].iloc[0] - dfTmpO['foundAP'].iloc[0]\n",
    "            print(str(LOAD) + '-' + str(DURATION) + ' = ' + str(dfTmpR['foundAP'].iloc[0]) + '(' + str(diff) + ')')"
   ]
  },
  {
   "cell_type": "code",
   "execution_count": 38,
   "metadata": {},
   "outputs": [
    {
     "name": "stderr",
     "output_type": "stream",
     "text": [
      "/home/riccardo/.local/lib/python3.8/site-packages/matplotlib/cbook/__init__.py:2062: FutureWarning: Support for multi-dimensional indexing (e.g. `obj[:, None]`) is deprecated and will be removed in a future version.  Convert to a numpy array before indexing instead.\n",
      "  x[:, None]\n",
      "/home/riccardo/.local/lib/python3.8/site-packages/matplotlib/axes/_base.py:248: FutureWarning: Support for multi-dimensional indexing (e.g. `obj[:, None]`) is deprecated and will be removed in a future version.  Convert to a numpy array before indexing instead.\n",
      "  x = x[:, np.newaxis]\n",
      "/home/riccardo/.local/lib/python3.8/site-packages/matplotlib/axes/_base.py:250: FutureWarning: Support for multi-dimensional indexing (e.g. `obj[:, None]`) is deprecated and will be removed in a future version.  Convert to a numpy array before indexing instead.\n",
      "  y = y[:, np.newaxis]\n"
     ]
    },
    {
     "data": {
      "image/png": "[encoded data removed]",
      "text/plain": [
       "<Figure size 432x288 with 1 Axes>"
      ]
     },
     "metadata": {
      "needs_background": "light"
     },
     "output_type": "display_data"
    }
   ],
   "source": [
    "LOAD = 25\n",
    "DURATION = 6\n",
    "SYSTEM = 'openmrs'\n",
    "AP = 'BLOB'\n",
    "\n",
    "# Fixed parameters\n",
    "HEAP_TH = 10\n",
    "MSG_TH = 5\n",
    "\n",
    "# X-axis parameter\n",
    "X_PARAM = 'cpuTh'\n",
    "\n",
    "dfTmpOrig = dfOrig[(dfOrig['load']==LOAD) &\n",
    "           (dfOrig['duration']==DURATION) &\n",
    "           (dfOrig['system']==SYSTEM) &\n",
    "           (dfOrig['type']==AP) &\n",
    "           (dfOrig['heapTh'] == HEAP_TH) &\n",
    "           (dfOrig['numMsgs'] == MSG_TH)\n",
    "          ]\n",
    "\n",
    "dfTmpRef = dfRef[(dfRef['load']==LOAD) &\n",
    "           (dfRef['duration']==DURATION) &\n",
    "           (dfRef['system']==SYSTEM) &\n",
    "           (dfRef['type']==AP) &\n",
    "           (dfRef['heapTh'] == HEAP_TH) &\n",
    "           (dfRef['numMsgs'] == MSG_TH)\n",
    "          ]\n",
    "\n",
    "plt.plot(dfTmpOrig[X_PARAM], dfTmpOrig['foundAP'], '-o', label='Original')\n",
    "plt.plot(dfTmpRef[X_PARAM], dfTmpRef['foundAP'], '-d', label='Refactored')\n",
    "plt.xlabel('CPU Threshold')\n",
    "plt.ylabel('Found ' + AP)\n",
    "plt.title(str(LOAD) + ' - ' + str(DURATION) + ' | Th(Heap) = ' + str(HEAP_TH) + ' | Th(Msgs) = ' + str(MSG_TH))\n",
    "plt.legend()\n",
    "plt.show()"
   ]
  },
  {
   "cell_type": "code",
   "execution_count": 39,
   "metadata": {},
   "outputs": [
    {
     "name": "stderr",
     "output_type": "stream",
     "text": [
      "/home/riccardo/.local/lib/python3.8/site-packages/matplotlib/cbook/__init__.py:2062: FutureWarning: Support for multi-dimensional indexing (e.g. `obj[:, None]`) is deprecated and will be removed in a future version.  Convert to a numpy array before indexing instead.\n",
      "  x[:, None]\n",
      "/home/riccardo/.local/lib/python3.8/site-packages/matplotlib/axes/_base.py:248: FutureWarning: Support for multi-dimensional indexing (e.g. `obj[:, None]`) is deprecated and will be removed in a future version.  Convert to a numpy array before indexing instead.\n",
      "  x = x[:, np.newaxis]\n",
      "/home/riccardo/.local/lib/python3.8/site-packages/matplotlib/axes/_base.py:250: FutureWarning: Support for multi-dimensional indexing (e.g. `obj[:, None]`) is deprecated and will be removed in a future version.  Convert to a numpy array before indexing instead.\n",
      "  y = y[:, np.newaxis]\n"
     ]
    },
    {
     "data": {
      "image/png": "[encoded data removed]",
      "text/plain": [
       "<Figure size 432x288 with 1 Axes>"
      ]
     },
     "metadata": {
      "needs_background": "light"
     },
     "output_type": "display_data"
    }
   ],
   "source": [
    "LOAD = 25\n",
    "DURATION = 6\n",
    "SYSTEM = 'openmrs'\n",
    "AP = 'BLOB'\n",
    "\n",
    "# Fixed parameters\n",
    "CPU_TH = 10\n",
    "MSG_TH = 5\n",
    "\n",
    "# X-axis parameter\n",
    "X_PARAM = 'heapTh'\n",
    "\n",
    "dfTmpOrig = dfOrig[(dfOrig['load']==LOAD) &\n",
    "           (dfOrig['duration']==DURATION) &\n",
    "           (dfOrig['system']==SYSTEM) &\n",
    "           (dfOrig['type']==AP) &\n",
    "           (dfOrig['cpuTh'] == CPU_TH) &\n",
    "           (dfOrig['numMsgs'] == MSG_TH)\n",
    "          ]\n",
    "\n",
    "dfTmpRef = dfRef[(dfRef['load']==LOAD) &\n",
    "           (dfRef['duration']==DURATION) &\n",
    "           (dfRef['system']==SYSTEM) &\n",
    "           (dfRef['type']==AP) &\n",
    "           (dfRef['cpuTh'] == CPU_TH) &\n",
    "           (dfRef['numMsgs'] == MSG_TH)\n",
    "          ]\n",
    "\n",
    "plt.plot(dfTmpOrig[X_PARAM], dfTmpOrig['foundAP'], '-o', label='Original')\n",
    "plt.plot(dfTmpRef[X_PARAM], dfTmpRef['foundAP'], '-d', label='Refactored')\n",
    "plt.xlabel('Heap Threshold')\n",
    "plt.ylabel('Found ' + AP)\n",
    "plt.title(str(LOAD) + ' - ' + str(DURATION) + ' | Th(CPU) = ' + str(CPU_TH) + ' | Th(Msgs) = ' + str(MSG_TH))\n",
    "plt.legend()\n",
    "plt.show()"
   ]
  },
  {
   "cell_type": "code",
   "execution_count": 52,
   "metadata": {},
   "outputs": [
    {
     "name": "stderr",
     "output_type": "stream",
     "text": [
      "/home/riccardo/.local/lib/python3.8/site-packages/matplotlib/cbook/__init__.py:2062: FutureWarning: Support for multi-dimensional indexing (e.g. `obj[:, None]`) is deprecated and will be removed in a future version.  Convert to a numpy array before indexing instead.\n",
      "  x[:, None]\n",
      "/home/riccardo/.local/lib/python3.8/site-packages/matplotlib/axes/_base.py:248: FutureWarning: Support for multi-dimensional indexing (e.g. `obj[:, None]`) is deprecated and will be removed in a future version.  Convert to a numpy array before indexing instead.\n",
      "  x = x[:, np.newaxis]\n",
      "/home/riccardo/.local/lib/python3.8/site-packages/matplotlib/axes/_base.py:250: FutureWarning: Support for multi-dimensional indexing (e.g. `obj[:, None]`) is deprecated and will be removed in a future version.  Convert to a numpy array before indexing instead.\n",
      "  y = y[:, np.newaxis]\n"
     ]
    },
    {
     "data": {
      "image/png": "[encoded data removed]",
      "text/plain": [
       "<Figure size 432x288 with 1 Axes>"
      ]
     },
     "metadata": {
      "needs_background": "light"
     },
     "output_type": "display_data"
    }
   ],
   "source": [
    "LOAD = 100\n",
    "DURATION = 3\n",
    "SYSTEM = 'openmrs'\n",
    "AP = 'BLOB'\n",
    "\n",
    "# Fixed parameters\n",
    "CPU_TH = 10\n",
    "HEAP_TH = 10\n",
    "\n",
    "# X-axis parameter\n",
    "X_PARAM = 'numMsgs'\n",
    "\n",
    "dfTmpOrig = dfOrig[(dfOrig['load']==LOAD) &\n",
    "           (dfOrig['duration']==DURATION) &\n",
    "           (dfOrig['system']==SYSTEM) &\n",
    "           (dfOrig['type']==AP) &\n",
    "           (dfOrig['cpuTh'] == CPU_TH) &\n",
    "           (dfOrig['heapTh'] == HEAP_TH)\n",
    "          ]\n",
    "\n",
    "dfTmpRef = dfRef[(dfRef['load']==LOAD) &\n",
    "           (dfRef['duration']==DURATION) &\n",
    "           (dfRef['system']==SYSTEM) &\n",
    "           (dfRef['type']==AP) &\n",
    "           (dfRef['cpuTh'] == CPU_TH) &\n",
    "           (dfRef['heapTh'] == HEAP_TH)\n",
    "          ]\n",
    "\n",
    "plt.plot(dfTmpOrig[X_PARAM], dfTmpOrig['foundAP'], '-o', label='Original')\n",
    "plt.plot(dfTmpRef[X_PARAM], dfTmpRef['foundAP'], '-d', label='Refactored')\n",
    "plt.xlabel('Message Threshold')\n",
    "plt.ylabel('Found ' + AP)\n",
    "plt.title(str(LOAD) + ' - ' + str(DURATION) + ' | Th(CPU) = ' + str(CPU_TH) + ' | Th(Heap) = ' + str(HEAP_TH))\n",
    "plt.legend()\n",
    "plt.show()"
   ]
  },
  {
   "cell_type": "markdown",
   "metadata": {},
   "source": [
    "## TOB"
   ]
  },
  {
   "cell_type": "code",
   "execution_count": 20,
   "metadata": {},
   "outputs": [
    {
     "name": "stdout",
     "output_type": "stream",
     "text": [
      "### openmrs ###\n",
      "25-3 = 0(0)\n",
      "25-6 = 0(0)\n",
      "25-12 = 0(0)\n",
      "50-3 = 0(0)\n",
      "50-6 = 0(0)\n",
      "50-12 = 0(0)\n",
      "75-3 = 0(0)\n",
      "75-6 = 0(0)\n",
      "75-12 = 0(0)\n",
      "100-3 = 0(0)\n",
      "100-6 = 0(0)\n",
      "100-12 = 0(0)\n"
     ]
    }
   ],
   "source": [
    "AP = 'TOB'\n",
    "\n",
    "TIME_TH = 5\n",
    "\n",
    "for SYSTEM in ['openmrs']:\n",
    "    print('### ' + SYSTEM + ' ###')\n",
    "    for LOAD in [25, 50, 75, 100]:\n",
    "        for DURATION in [3, 6, 12]:\n",
    "            dfTmpO = dfOrig[(dfOrig['load']==LOAD) &\n",
    "                       (dfOrig['duration']==DURATION) &\n",
    "                       (dfOrig['type']==AP) &\n",
    "                       (dfOrig['system']==SYSTEM) &\n",
    "                       (dfOrig['methodTimeTh']==TIME_TH)\n",
    "                      ]\n",
    "            dfTmpR = dfRef[(dfRef['load']==LOAD) &\n",
    "                       (dfRef['duration']==DURATION) &\n",
    "                       (dfRef['type']==AP) &\n",
    "                       (dfRef['system']==SYSTEM) &\n",
    "                       (dfRef['methodTimeTh']==TIME_TH)\n",
    "                      ]\n",
    "            diff = dfTmpR['foundAP'].iloc[0] - dfTmpO['foundAP'].iloc[0]\n",
    "            print(str(LOAD) + '-' + str(DURATION) + ' = ' + str(dfTmpR['foundAP'].iloc[0]) + '(' + str(diff) + ')')"
   ]
  },
  {
   "cell_type": "code",
   "execution_count": 64,
   "metadata": {},
   "outputs": [
    {
     "name": "stderr",
     "output_type": "stream",
     "text": [
      "/home/riccardo/.local/lib/python3.8/site-packages/matplotlib/cbook/__init__.py:2062: FutureWarning: Support for multi-dimensional indexing (e.g. `obj[:, None]`) is deprecated and will be removed in a future version.  Convert to a numpy array before indexing instead.\n",
      "  x[:, None]\n",
      "/home/riccardo/.local/lib/python3.8/site-packages/matplotlib/axes/_base.py:248: FutureWarning: Support for multi-dimensional indexing (e.g. `obj[:, None]`) is deprecated and will be removed in a future version.  Convert to a numpy array before indexing instead.\n",
      "  x = x[:, np.newaxis]\n",
      "/home/riccardo/.local/lib/python3.8/site-packages/matplotlib/axes/_base.py:250: FutureWarning: Support for multi-dimensional indexing (e.g. `obj[:, None]`) is deprecated and will be removed in a future version.  Convert to a numpy array before indexing instead.\n",
      "  y = y[:, np.newaxis]\n"
     ]
    },
    {
     "data": {
      "image/png": "[encoded data removed]",
      "text/plain": [
       "<Figure size 432x288 with 1 Axes>"
      ]
     },
     "metadata": {
      "needs_background": "light"
     },
     "output_type": "display_data"
    }
   ],
   "source": [
    "LOAD = 100\n",
    "DURATION = 3\n",
    "AP = 'TOB'\n",
    "SYSTEM = 'openmrs'\n",
    "\n",
    "# X-axis parameter\n",
    "X_PARAM = 'methodTimeTh'\n",
    "\n",
    "dfTmpOrig = dfOrig[(dfOrig['load']==LOAD) &\n",
    "           (dfOrig['duration']==DURATION) &\n",
    "           (dfOrig['system']==SYSTEM) &\n",
    "           (dfOrig['type']==AP)\n",
    "          ]\n",
    "\n",
    "dfTmpRef = dfRef[(dfRef['load']==LOAD) &\n",
    "           (dfRef['duration']==DURATION) &\n",
    "           (dfRef['system']==SYSTEM) &\n",
    "           (dfRef['type']==AP)\n",
    "          ]\n",
    "\n",
    "plt.plot(dfTmpOrig[X_PARAM], dfTmpOrig['foundAP'], '-o', label='Original')\n",
    "plt.plot(dfTmpRef[X_PARAM], dfTmpRef['foundAP'], '-d', label='Refactored')\n",
    "plt.xlabel('Method Time Threshold')\n",
    "plt.ylabel('Found ' + AP)\n",
    "plt.title(str(LOAD) + ' - ' + str(DURATION))\n",
    "plt.legend()\n",
    "plt.show()"
   ]
  },
  {
   "cell_type": "code",
   "execution_count": null,
   "metadata": {},
   "outputs": [],
   "source": []
  },
  {
   "cell_type": "code",
   "execution_count": null,
   "metadata": {},
   "outputs": [],
   "source": []
  },
  {
   "cell_type": "code",
   "execution_count": null,
   "metadata": {},
   "outputs": [],
   "source": []
  },
  {
   "cell_type": "code",
   "execution_count": null,
   "metadata": {},
   "outputs": [],
   "source": []
  }
 ],
 "metadata": {
  "kernelspec": {
   "display_name": "Python 3",
   "language": "python",
   "name": "python3"
  },
  "language_info": {
   "codemirror_mode": {
    "name": "ipython",
    "version": 3
   },
   "file_extension": ".py",
   "mimetype": "text/x-python",
   "name": "python",
   "nbconvert_exporter": "python",
   "pygments_lexer": "ipython3",
   "version": "3.8.10"
  }
 },
 "nbformat": 4,
 "nbformat_minor": 4
}
